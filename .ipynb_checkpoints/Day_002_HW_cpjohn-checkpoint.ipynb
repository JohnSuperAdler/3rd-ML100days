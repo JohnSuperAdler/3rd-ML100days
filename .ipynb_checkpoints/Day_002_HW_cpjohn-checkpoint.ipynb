{
 "cells": [
  {
   "cell_type": "markdown",
   "metadata": {},
   "source": [
    "## [作業目標]\n",
    "了解機器學習適合應用的領域與範疇。"
   ]
  },
  {
   "cell_type": "markdown",
   "metadata": {},
   "source": [
    "## [作業重點]\n",
    "透過瞭解機器學習的運作方式，找出非常適用機器學習應用的領域及其原因"
   ]
  },
  {
   "cell_type": "markdown",
   "metadata": {},
   "source": [
    "## 作業\n",
    "請找出一個你認為機器學習可以發光發熱的領域並闡述原因? "
   ]
  },
  {
   "cell_type": "markdown",
   "metadata": {},
   "source": [
    "細胞影像偵測\n",
    "\n",
    "1. 偵測細胞核或是特定胞器：如果準備大量標記有／無細胞核、特定胞器的細胞影像圖片去訓練模型，之後便能有效且快速地辨認生物影像中是否有核／胞器，以協助大量處理細胞影像分類。\n",
    "2. 生物細胞會依功能而有不同長相，將細胞影像（資料）和細胞類型（標籤）作為訓練資料訓練模型，得出之模型可以協助加速細胞分類，甚至可以運用非監督式學習嘗試將新物種未曾建檔過的細胞影像做初步分類。\n",
    "\n",
    "以上的生物影像辨識技術可以協助非程式專業的生物學家快速將細胞分類，盡早將擷取到的細胞影像歸納並投入研究工作中，加速生醫領域研究的進展，我認為機器學習在這塊領域應該可以有所發揮。"
   ]
  },
  {
   "cell_type": "code",
   "execution_count": null,
   "metadata": {},
   "outputs": [],
   "source": []
  }
 ],
 "metadata": {
  "kernelspec": {
   "display_name": "Python 3",
   "language": "python",
   "name": "python3"
  },
  "language_info": {
   "codemirror_mode": {
    "name": "ipython",
    "version": 3
   },
   "file_extension": ".py",
   "mimetype": "text/x-python",
   "name": "python",
   "nbconvert_exporter": "python",
   "pygments_lexer": "ipython3",
   "version": "3.7.7"
  }
 },
 "nbformat": 4,
 "nbformat_minor": 2
}
