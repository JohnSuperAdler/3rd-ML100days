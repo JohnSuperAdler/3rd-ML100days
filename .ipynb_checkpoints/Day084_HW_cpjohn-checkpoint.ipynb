{
 "cells": [
  {
   "cell_type": "markdown",
   "metadata": {},
   "source": [
    "## Work\n",
    "### 請結合前面的知識與程式碼，比較不同的 regularization 的組合對訓練的結果與影響：如 dropout, regularizers, batch-normalization 等"
   ]
  },
  {
   "cell_type": "code",
   "execution_count": 1,
   "metadata": {},
   "outputs": [],
   "source": [
    "# dropout: 0.25, 0.1\n",
    "# regularizers: L1, L2\n",
    "# batch-normalization: True, False"
   ]
  },
  {
   "cell_type": "code",
   "execution_count": 2,
   "metadata": {},
   "outputs": [
    {
     "name": "stderr",
     "output_type": "stream",
     "text": [
      "Using TensorFlow backend.\n"
     ]
    }
   ],
   "source": [
    "import os\n",
    "import keras\n",
    "import itertools\n",
    "from keras.regularizers import l1, l2, l1_l2\n",
    "from keras.layers import Dropout\n",
    "from keras.layers import BatchNormalization\n",
    "import matplotlib.pyplot as plt\n",
    "\n",
    "color_bar = [\"r\", \"g\", \"b\", \"y\", \"m\", \"k\", \"c\", \"orange\"]\n",
    "\n",
    "# Disable GPU\n",
    "os.environ[\"CUDA_VISIBLE_DEVICES\"] = \"\""
   ]
  },
  {
   "cell_type": "code",
   "execution_count": 3,
   "metadata": {},
   "outputs": [],
   "source": [
    "train, test = keras.datasets.cifar10.load_data()"
   ]
  },
  {
   "cell_type": "code",
   "execution_count": 4,
   "metadata": {},
   "outputs": [],
   "source": [
    "## 資料前處理\n",
    "def preproc_x(x, flatten=True):\n",
    "    x = x / 255.\n",
    "    if flatten:\n",
    "        x = x.reshape((len(x), -1))\n",
    "    return x\n",
    "\n",
    "def preproc_y(y, num_classes=10):\n",
    "    if y.shape[-1] == 1:\n",
    "        y = keras.utils.to_categorical(y, num_classes)\n",
    "    return y    "
   ]
  },
  {
   "cell_type": "code",
   "execution_count": 5,
   "metadata": {},
   "outputs": [],
   "source": [
    "x_train, y_train = train\n",
    "x_test, y_test = test\n",
    "\n",
    "# Preproc the inputs\n",
    "x_train = preproc_x(x_train)\n",
    "x_test = preproc_x(x_test)\n",
    "\n",
    "# Preprc the outputs\n",
    "y_train = preproc_y(y_train)\n",
    "y_test = preproc_y(y_test)"
   ]
  },
  {
   "cell_type": "code",
   "execution_count": 8,
   "metadata": {},
   "outputs": [],
   "source": [
    "LEARNING_RATE = 1e-3\n",
    "EPOCHS = 50\n",
    "BATCH_SIZE = 256\n",
    "MOMENTUM = 0.95\n",
    "reg_ratio = [1e-4, 1e-8]\n",
    "drop_ratio = [0.1, 0.25]\n",
    "batch_n = [True, False]"
   ]
  },
  {
   "cell_type": "markdown",
   "metadata": {},
   "source": [
    "## L1"
   ]
  },
  {
   "cell_type": "code",
   "execution_count": 7,
   "metadata": {},
   "outputs": [],
   "source": [
    "def build_mlp_l1(input_shape, output_units=10, num_neurons=[512, 256, 128], drop_ratio=0.2, l_ratio=0.0001, bn=True):\n",
    "    input_layer = keras.layers.Input(input_shape)\n",
    "    for i, n_units in enumerate(num_neurons):\n",
    "        if i == 0:\n",
    "            x = keras.layers.Dense(units=n_units, \n",
    "                                   activation=\"relu\", \n",
    "                                   name=\"hidden_layer\"+str(i+1),\n",
    "                                   kernel_regularizer=l1(l_ratio))(input_layer)\n",
    "            x = Dropout(drp_ratio)(x)\n",
    "            if bn:\n",
    "                x = BatchNormalization()(x)\n",
    "            else:\n",
    "                pass\n",
    "        else:\n",
    "            x = keras.layers.Dense(units=n_units, \n",
    "                                   activation=\"relu\", \n",
    "                                   name=\"hidden_layer\"+str(i+1),\n",
    "                                   kernel_regularizer=l1(l_ratio))(x)\n",
    "            x = Dropout(drp_ratio)(x)\n",
    "            if bn:\n",
    "                x = BatchNormalization()(x)\n",
    "            else:\n",
    "                pass\n",
    "    out = keras.layers.Dense(units=output_units, activation=\"softmax\", name=\"output\")(x)\n",
    "    model = keras.models.Model(inputs=[input_layer], outputs=[out])\n",
    "    return model"
   ]
  },
  {
   "cell_type": "code",
   "execution_count": null,
   "metadata": {
    "scrolled": true
   },
   "outputs": [],
   "source": [
    "results_l1 = {}\n",
    "\n",
    "for i in drop_ratio:\n",
    "    for j in reg_ratio:\n",
    "        for k in batch_n:\n",
    "            model = build_mlp_l1(input_shape=x_train.shape[1:], drop_ratio=i, l_ratio=j, bn=k)\n",
    "            model.summary()\n",
    "            optimizer = keras.optimizers.SGD(lr=LEARNING_RATE, nesterov=True, momentum=MOMENTUM)\n",
    "            model.compile(loss=\"categorical_crossentropy\", metrics=[\"accuracy\"], optimizer=optimizer)\n",
    "            model.fit(x_train, y_train, \n",
    "                      epochs=EPOCHS, \n",
    "                      batch_size=BATCH_SIZE, \n",
    "                      validation_data=(x_test, y_test), \n",
    "                      shuffle=True)\n",
    "            # Collect results\n",
    "            train_loss = model.history.history[\"loss\"]\n",
    "            valid_loss = model.history.history[\"val_loss\"]\n",
    "            train_acc = model.history.history[\"accuracy\"]\n",
    "            valid_acc = model.history.history[\"val_accuracy\"]\n",
    "            exp_name_tag = f'drp_{str(i)}_reg_{str(j)_bn_{str(k)}}'\n",
    "            results_l1[exp_name_tag] = {'train-loss': train_loss,\n",
    "                                        'valid-loss': valid_loss,\n",
    "                                        'train-acc': train_acc,\n",
    "                                        'valid-acc': valid_acc}"
   ]
  },
  {
   "cell_type": "code",
   "execution_count": null,
   "metadata": {},
   "outputs": [],
   "source": [
    "plt.figure(figsize=(8,6))\n",
    "for i, cond in enumerate(results_l1.keys()):\n",
    "    plt.plot(range(len(results_l1[cond]['train-loss'])),results_l1[cond]['train-loss'], '-', label=cond, color=color_bar[i])\n",
    "    plt.plot(range(len(results_l1[cond]['valid-loss'])),results_l1[cond]['valid-loss'], '--', label=cond, color=color_bar[i])\n",
    "plt.title(\"Loss\")\n",
    "plt.ylim([0.5, 2.5])\n",
    "plt.legend()\n",
    "plt.show()\n",
    "\n",
    "plt.figure(figsize=(8,6))\n",
    "for i, cond in enumerate(results_l1.keys()):\n",
    "    plt.plot(range(len(results_l1[cond]['train-acc'])),results_l1[cond]['train-acc'], '-', label=cond, color=color_bar[i])\n",
    "    plt.plot(range(len(results_l1[cond]['valid-acc'])),results_l1[cond]['valid-acc'], '--', label=cond, color=color_bar[i])\n",
    "plt.title(\"Accuracy\")\n",
    "plt.legend()\n",
    "plt.show()"
   ]
  },
  {
   "cell_type": "markdown",
   "metadata": {},
   "source": [
    "## L2"
   ]
  },
  {
   "cell_type": "code",
   "execution_count": 7,
   "metadata": {},
   "outputs": [],
   "source": [
    "def build_mlp_l2(input_shape, output_units=10, num_neurons=[512, 256, 128], drop_ratio=0.2, l_ratio=0.0001, bn=True):\n",
    "    input_layer = keras.layers.Input(input_shape)\n",
    "    for i, n_units in enumerate(num_neurons):\n",
    "        if i == 0:\n",
    "            x = keras.layers.Dense(units=n_units, \n",
    "                                   activation=\"relu\", \n",
    "                                   name=\"hidden_layer\"+str(i+1),\n",
    "                                   kernel_regularizer=l2(l_ratio))(input_layer)\n",
    "            x = Dropout(drp_ratio)(x)\n",
    "            if bn:\n",
    "                x = BatchNormalization()(x)\n",
    "            else:\n",
    "                pass\n",
    "        else:\n",
    "            x = keras.layers.Dense(units=n_units, \n",
    "                                   activation=\"relu\", \n",
    "                                   name=\"hidden_layer\"+str(i+1),\n",
    "                                   kernel_regularizer=l2(l1_ratio))(x)\n",
    "            x = Dropout(drp_ratio)(x)\n",
    "            if bn:\n",
    "                x = BatchNormalization()(x)\n",
    "            else:\n",
    "                pass\n",
    "    out = keras.layers.Dense(units=output_units, activation=\"softmax\", name=\"output\")(x)\n",
    "    model = keras.models.Model(inputs=[input_layer], outputs=[out])\n",
    "    return model"
   ]
  },
  {
   "cell_type": "code",
   "execution_count": null,
   "metadata": {
    "scrolled": true
   },
   "outputs": [],
   "source": [
    "results_l2 = {}\n",
    "\n",
    "for i in drop_ratio:\n",
    "    for j in reg_ratio:\n",
    "        for k in batch_n:\n",
    "            model = build_mlp_l2(input_shape=x_train.shape[1:], drop_ratio=i, l_ratio=j, bn=k)\n",
    "            model.summary()\n",
    "            optimizer = keras.optimizers.SGD(lr=LEARNING_RATE, nesterov=True, momentum=MOMENTUM)\n",
    "            model.compile(loss=\"categorical_crossentropy\", metrics=[\"accuracy\"], optimizer=optimizer)\n",
    "            model.fit(x_train, y_train, \n",
    "                      epochs=EPOCHS, \n",
    "                      batch_size=BATCH_SIZE, \n",
    "                      validation_data=(x_test, y_test), \n",
    "                      shuffle=True)\n",
    "            # Collect results\n",
    "            train_loss = model.history.history[\"loss\"]\n",
    "            valid_loss = model.history.history[\"val_loss\"]\n",
    "            train_acc = model.history.history[\"accuracy\"]\n",
    "            valid_acc = model.history.history[\"val_accuracy\"]\n",
    "            exp_name_tag = f'drp_{str(i)}_reg_{str(j)_bn_{str(k)}}'\n",
    "            results_l2[exp_name_tag] = {'train-loss': train_loss,\n",
    "                                        'valid-loss': valid_loss,\n",
    "                                        'train-acc': train_acc,\n",
    "                                        'valid-acc': valid_acc}"
   ]
  },
  {
   "cell_type": "code",
   "execution_count": null,
   "metadata": {},
   "outputs": [],
   "source": [
    "plt.figure(figsize=(8,6))\n",
    "for i, cond in enumerate(results_l2.keys()):\n",
    "    plt.plot(range(len(results_l2[cond]['train-loss'])),results_l2[cond]['train-loss'], '-', label=cond, color=color_bar[i])\n",
    "    plt.plot(range(len(results_l2[cond]['valid-loss'])),results_l2[cond]['valid-loss'], '--', label=cond, color=color_bar[i])\n",
    "plt.title(\"Loss\")\n",
    "plt.ylim([0.5, 2.5])\n",
    "plt.legend()\n",
    "plt.show()\n",
    "\n",
    "plt.figure(figsize=(8,6))\n",
    "for i, cond in enumerate(results_l2.keys()):\n",
    "    plt.plot(range(len(results_l2[cond]['train-acc'])),results_l2[cond]['train-acc'], '-', label=cond, color=color_bar[i])\n",
    "    plt.plot(range(len(results_l2[cond]['valid-acc'])),results_l2[cond]['valid-acc'], '--', label=cond, color=color_bar[i])\n",
    "plt.title(\"Accuracy\")\n",
    "plt.legend()\n",
    "plt.show()"
   ]
  }
 ],
 "metadata": {
  "kernelspec": {
   "display_name": "Python 3",
   "language": "python",
   "name": "python3"
  },
  "language_info": {
   "codemirror_mode": {
    "name": "ipython",
    "version": 3
   },
   "file_extension": ".py",
   "mimetype": "text/x-python",
   "name": "python",
   "nbconvert_exporter": "python",
   "pygments_lexer": "ipython3",
   "version": "3.7.7"
  }
 },
 "nbformat": 4,
 "nbformat_minor": 2
}
