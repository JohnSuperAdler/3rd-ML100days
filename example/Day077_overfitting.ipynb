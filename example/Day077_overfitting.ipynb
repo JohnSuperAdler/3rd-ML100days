{
 "cells": [
  {
   "cell_type": "markdown",
   "metadata": {},
   "source": [
    "## 範例重點\n",
    "* 學會從 Keras 內建函式取得資料\n",
    "* 能夠建立簡易的深度學習模型\n",
    "* 觀察並了解 Overfit 現象"
   ]
  },
  {
   "cell_type": "code",
   "execution_count": 1,
   "metadata": {},
   "outputs": [
    {
     "name": "stderr",
     "output_type": "stream",
     "text": [
      "Using TensorFlow backend.\n"
     ]
    }
   ],
   "source": [
    "import os\n",
    "import keras\n",
    "\n",
    "# 本範例不需使用 GPU, 將 GPU 設定為 \"無\"\n",
    "os.environ[\"CUDA_VISIBLE_DEVICES\"] = \"\""
   ]
  },
  {
   "cell_type": "code",
   "execution_count": 2,
   "metadata": {},
   "outputs": [],
   "source": [
    "# 從 Keras 的內建功能中，取得 train 與 test 資料集\n",
    "train, test = keras.datasets.cifar10.load_data()"
   ]
  },
  {
   "cell_type": "code",
   "execution_count": 3,
   "metadata": {},
   "outputs": [],
   "source": [
    "# 將 X 與 Y 獨立放進變數\n",
    "x_train, y_train = train\n",
    "x_test, y_test = test\n",
    "# 資料前處理 - 標準化\n",
    "x_train = x_train / 255.\n",
    "x_test = x_test / 255.\n",
    "\n",
    "# 將資料從圖形 (RGB) 轉為向量 (Single Vector)\n",
    "x_train = x_train.reshape((len(x_train), -1))\n",
    "x_test = x_test.reshape((len(x_test), -1))\n",
    "\n",
    "# 將目標轉為 one-hot encoding\n",
    "y_train = keras.utils.to_categorical(y_train, num_classes=10)\n",
    "y_test = keras.utils.to_categorical(y_test, num_classes=10)"
   ]
  },
  {
   "cell_type": "code",
   "execution_count": 4,
   "metadata": {},
   "outputs": [],
   "source": [
    "# 建立一個有三層隱藏層之神經網路\n",
    "def build_mlp():\n",
    "    input_layer = keras.layers.Input([x_train.shape[-1]])\n",
    "    x = keras.layers.Dense(units=512, activation=\"relu\")(input_layer)\n",
    "    x = keras.layers.Dense(units=256, activation=\"relu\")(x)\n",
    "    x = keras.layers.Dense(units=128, activation=\"relu\")(x)\n",
    "    out = keras.layers.Dense(units=10, activation=\"softmax\")(x)\n",
    "    \n",
    "    model = keras.models.Model(inputs=[input_layer], outputs=[out])\n",
    "    return model"
   ]
  },
  {
   "cell_type": "code",
   "execution_count": 5,
   "metadata": {},
   "outputs": [
    {
     "name": "stdout",
     "output_type": "stream",
     "text": [
      "Model: \"model_1\"\n",
      "_________________________________________________________________\n",
      "Layer (type)                 Output Shape              Param #   \n",
      "=================================================================\n",
      "input_1 (InputLayer)         (None, 3072)              0         \n",
      "_________________________________________________________________\n",
      "dense_1 (Dense)              (None, 512)               1573376   \n",
      "_________________________________________________________________\n",
      "dense_2 (Dense)              (None, 256)               131328    \n",
      "_________________________________________________________________\n",
      "dense_3 (Dense)              (None, 128)               32896     \n",
      "_________________________________________________________________\n",
      "dense_4 (Dense)              (None, 10)                1290      \n",
      "=================================================================\n",
      "Total params: 1,738,890\n",
      "Trainable params: 1,738,890\n",
      "Non-trainable params: 0\n",
      "_________________________________________________________________\n"
     ]
    }
   ],
   "source": [
    "model = build_mlp()\n",
    "# 用 Keras 內建方法檢視模型各層參數量\n",
    "model.summary()\n",
    "\n",
    "optimizer = keras.optimizers.Adam(lr=0.001)\n",
    "model.compile(loss=\"categorical_crossentropy\", metrics=[\"accuracy\"], optimizer=optimizer)"
   ]
  },
  {
   "cell_type": "code",
   "execution_count": 6,
   "metadata": {},
   "outputs": [
    {
     "name": "stdout",
     "output_type": "stream",
     "text": [
      "Train on 50000 samples, validate on 10000 samples\n",
      "Epoch 1/100\n",
      "50000/50000 [==============================] - 2s 50us/step - loss: 1.9407 - accuracy: 0.2983 - val_loss: 1.7706 - val_accuracy: 0.3707\n",
      "Epoch 2/100\n",
      "50000/50000 [==============================] - 2s 38us/step - loss: 1.7166 - accuracy: 0.3861 - val_loss: 1.7001 - val_accuracy: 0.3919\n",
      "Epoch 3/100\n",
      "50000/50000 [==============================] - 2s 38us/step - loss: 1.6209 - accuracy: 0.4208 - val_loss: 1.5822 - val_accuracy: 0.4435\n",
      "Epoch 4/100\n",
      "50000/50000 [==============================] - 2s 38us/step - loss: 1.5518 - accuracy: 0.4472 - val_loss: 1.5983 - val_accuracy: 0.4366\n",
      "Epoch 5/100\n",
      "50000/50000 [==============================] - 2s 38us/step - loss: 1.5090 - accuracy: 0.4618 - val_loss: 1.5563 - val_accuracy: 0.4389\n",
      "Epoch 6/100\n",
      "50000/50000 [==============================] - 2s 38us/step - loss: 1.4700 - accuracy: 0.4755 - val_loss: 1.4979 - val_accuracy: 0.4684\n",
      "Epoch 7/100\n",
      "50000/50000 [==============================] - 2s 38us/step - loss: 1.4337 - accuracy: 0.4871 - val_loss: 1.4772 - val_accuracy: 0.4703\n",
      "Epoch 8/100\n",
      "50000/50000 [==============================] - 2s 37us/step - loss: 1.4135 - accuracy: 0.4946 - val_loss: 1.4408 - val_accuracy: 0.4838\n",
      "Epoch 9/100\n",
      "50000/50000 [==============================] - 2s 37us/step - loss: 1.3843 - accuracy: 0.5077 - val_loss: 1.4327 - val_accuracy: 0.4843\n",
      "Epoch 10/100\n",
      "50000/50000 [==============================] - 2s 39us/step - loss: 1.3607 - accuracy: 0.5134 - val_loss: 1.4285 - val_accuracy: 0.4930\n",
      "Epoch 11/100\n",
      "50000/50000 [==============================] - 2s 38us/step - loss: 1.3243 - accuracy: 0.5289 - val_loss: 1.4429 - val_accuracy: 0.4822\n",
      "Epoch 12/100\n",
      "50000/50000 [==============================] - 2s 37us/step - loss: 1.3035 - accuracy: 0.5353 - val_loss: 1.4378 - val_accuracy: 0.4901\n",
      "Epoch 13/100\n",
      "50000/50000 [==============================] - 2s 37us/step - loss: 1.2896 - accuracy: 0.5409 - val_loss: 1.4356 - val_accuracy: 0.4976\n",
      "Epoch 14/100\n",
      "50000/50000 [==============================] - 2s 37us/step - loss: 1.2635 - accuracy: 0.5500 - val_loss: 1.4137 - val_accuracy: 0.5073\n",
      "Epoch 15/100\n",
      "50000/50000 [==============================] - 2s 37us/step - loss: 1.2360 - accuracy: 0.5597 - val_loss: 1.4033 - val_accuracy: 0.5045\n",
      "Epoch 16/100\n",
      "50000/50000 [==============================] - 2s 37us/step - loss: 1.2180 - accuracy: 0.5676 - val_loss: 1.3597 - val_accuracy: 0.5232\n",
      "Epoch 17/100\n",
      "50000/50000 [==============================] - 2s 37us/step - loss: 1.1898 - accuracy: 0.5758 - val_loss: 1.3675 - val_accuracy: 0.5184\n",
      "Epoch 18/100\n",
      "50000/50000 [==============================] - 2s 37us/step - loss: 1.1689 - accuracy: 0.5822 - val_loss: 1.3987 - val_accuracy: 0.5105\n",
      "Epoch 19/100\n",
      "50000/50000 [==============================] - 2s 38us/step - loss: 1.1489 - accuracy: 0.5907 - val_loss: 1.4207 - val_accuracy: 0.5070\n",
      "Epoch 20/100\n",
      "50000/50000 [==============================] - 2s 39us/step - loss: 1.1439 - accuracy: 0.5926 - val_loss: 1.4030 - val_accuracy: 0.5101\n",
      "Epoch 21/100\n",
      "50000/50000 [==============================] - 2s 37us/step - loss: 1.1207 - accuracy: 0.6019 - val_loss: 1.3954 - val_accuracy: 0.5167\n",
      "Epoch 22/100\n",
      "50000/50000 [==============================] - 2s 37us/step - loss: 1.0947 - accuracy: 0.6078 - val_loss: 1.3910 - val_accuracy: 0.5267\n",
      "Epoch 23/100\n",
      "50000/50000 [==============================] - 2s 36us/step - loss: 1.0812 - accuracy: 0.6155 - val_loss: 1.3658 - val_accuracy: 0.5300\n",
      "Epoch 24/100\n",
      "50000/50000 [==============================] - 2s 36us/step - loss: 1.0626 - accuracy: 0.6213 - val_loss: 1.4056 - val_accuracy: 0.5141\n",
      "Epoch 25/100\n",
      "50000/50000 [==============================] - 2s 36us/step - loss: 1.0369 - accuracy: 0.6304 - val_loss: 1.4033 - val_accuracy: 0.5182\n",
      "Epoch 26/100\n",
      "50000/50000 [==============================] - 2s 36us/step - loss: 1.0245 - accuracy: 0.6340 - val_loss: 1.4061 - val_accuracy: 0.5167\n",
      "Epoch 27/100\n",
      "50000/50000 [==============================] - 2s 36us/step - loss: 1.0045 - accuracy: 0.6409 - val_loss: 1.4230 - val_accuracy: 0.5250\n",
      "Epoch 28/100\n",
      "50000/50000 [==============================] - 2s 37us/step - loss: 0.9831 - accuracy: 0.6486 - val_loss: 1.4120 - val_accuracy: 0.5309\n",
      "Epoch 29/100\n",
      "50000/50000 [==============================] - 2s 36us/step - loss: 0.9705 - accuracy: 0.6548 - val_loss: 1.4113 - val_accuracy: 0.5276\n",
      "Epoch 30/100\n",
      "50000/50000 [==============================] - 2s 36us/step - loss: 0.9543 - accuracy: 0.6582 - val_loss: 1.4288 - val_accuracy: 0.5262\n",
      "Epoch 31/100\n",
      "50000/50000 [==============================] - 2s 37us/step - loss: 0.9397 - accuracy: 0.6641 - val_loss: 1.4260 - val_accuracy: 0.5289\n",
      "Epoch 32/100\n",
      "50000/50000 [==============================] - 2s 36us/step - loss: 0.9189 - accuracy: 0.6734 - val_loss: 1.4412 - val_accuracy: 0.5288\n",
      "Epoch 33/100\n",
      "50000/50000 [==============================] - 2s 37us/step - loss: 0.9060 - accuracy: 0.6774 - val_loss: 1.4986 - val_accuracy: 0.5145\n",
      "Epoch 34/100\n",
      "50000/50000 [==============================] - 2s 36us/step - loss: 0.8921 - accuracy: 0.6800 - val_loss: 1.5970 - val_accuracy: 0.5025\n",
      "Epoch 35/100\n",
      "50000/50000 [==============================] - 2s 36us/step - loss: 0.8779 - accuracy: 0.6869 - val_loss: 1.4752 - val_accuracy: 0.5344\n",
      "Epoch 36/100\n",
      "50000/50000 [==============================] - 2s 36us/step - loss: 0.8573 - accuracy: 0.6941 - val_loss: 1.5122 - val_accuracy: 0.5233\n",
      "Epoch 37/100\n",
      "50000/50000 [==============================] - 2s 36us/step - loss: 0.8288 - accuracy: 0.7057 - val_loss: 1.5034 - val_accuracy: 0.5215\n",
      "Epoch 38/100\n",
      "50000/50000 [==============================] - 2s 36us/step - loss: 0.8285 - accuracy: 0.7033 - val_loss: 1.4922 - val_accuracy: 0.5314\n",
      "Epoch 39/100\n",
      "50000/50000 [==============================] - 2s 36us/step - loss: 0.8082 - accuracy: 0.7123 - val_loss: 1.5754 - val_accuracy: 0.5194\n",
      "Epoch 40/100\n",
      "50000/50000 [==============================] - 2s 37us/step - loss: 0.7950 - accuracy: 0.7147 - val_loss: 1.5985 - val_accuracy: 0.5185\n",
      "Epoch 41/100\n",
      "50000/50000 [==============================] - 2s 37us/step - loss: 0.7892 - accuracy: 0.7188 - val_loss: 1.5527 - val_accuracy: 0.5279\n",
      "Epoch 42/100\n",
      "50000/50000 [==============================] - 2s 37us/step - loss: 0.7581 - accuracy: 0.7308 - val_loss: 1.6017 - val_accuracy: 0.5230\n",
      "Epoch 43/100\n",
      "50000/50000 [==============================] - 2s 38us/step - loss: 0.7458 - accuracy: 0.7343 - val_loss: 1.6228 - val_accuracy: 0.5130\n",
      "Epoch 44/100\n",
      "50000/50000 [==============================] - 2s 38us/step - loss: 0.7274 - accuracy: 0.7405 - val_loss: 1.7314 - val_accuracy: 0.5102\n",
      "Epoch 45/100\n",
      "50000/50000 [==============================] - 2s 37us/step - loss: 0.7349 - accuracy: 0.7348 - val_loss: 1.6569 - val_accuracy: 0.5198\n",
      "Epoch 46/100\n",
      "50000/50000 [==============================] - 2s 37us/step - loss: 0.7129 - accuracy: 0.7450 - val_loss: 1.6837 - val_accuracy: 0.5165\n",
      "Epoch 47/100\n",
      "50000/50000 [==============================] - 2s 37us/step - loss: 0.6961 - accuracy: 0.7533 - val_loss: 1.7258 - val_accuracy: 0.5075\n",
      "Epoch 48/100\n",
      "50000/50000 [==============================] - 2s 38us/step - loss: 0.6857 - accuracy: 0.7546 - val_loss: 1.7215 - val_accuracy: 0.5212\n",
      "Epoch 49/100\n",
      "50000/50000 [==============================] - 2s 37us/step - loss: 0.6788 - accuracy: 0.7565 - val_loss: 1.7467 - val_accuracy: 0.5144\n",
      "Epoch 50/100\n",
      "50000/50000 [==============================] - 2s 38us/step - loss: 0.6498 - accuracy: 0.7670 - val_loss: 1.7225 - val_accuracy: 0.5190\n",
      "Epoch 51/100\n",
      "50000/50000 [==============================] - 2s 38us/step - loss: 0.6432 - accuracy: 0.7711 - val_loss: 1.7575 - val_accuracy: 0.5240\n",
      "Epoch 52/100\n",
      "50000/50000 [==============================] - 2s 38us/step - loss: 0.6252 - accuracy: 0.7768 - val_loss: 1.8376 - val_accuracy: 0.5202\n",
      "Epoch 53/100\n",
      "50000/50000 [==============================] - 2s 38us/step - loss: 0.6231 - accuracy: 0.7788 - val_loss: 1.8927 - val_accuracy: 0.5141\n",
      "Epoch 54/100\n",
      "50000/50000 [==============================] - 2s 37us/step - loss: 0.6192 - accuracy: 0.7798 - val_loss: 1.8680 - val_accuracy: 0.5141\n",
      "Epoch 55/100\n",
      "50000/50000 [==============================] - 2s 37us/step - loss: 0.5880 - accuracy: 0.7900 - val_loss: 1.8988 - val_accuracy: 0.5071\n"
     ]
    },
    {
     "name": "stdout",
     "output_type": "stream",
     "text": [
      "Epoch 56/100\n",
      "50000/50000 [==============================] - 2s 38us/step - loss: 0.5786 - accuracy: 0.7926 - val_loss: 1.9073 - val_accuracy: 0.5146\n",
      "Epoch 57/100\n",
      "50000/50000 [==============================] - 2s 38us/step - loss: 0.5747 - accuracy: 0.7951 - val_loss: 1.8961 - val_accuracy: 0.5119\n",
      "Epoch 58/100\n",
      "50000/50000 [==============================] - 2s 38us/step - loss: 0.5810 - accuracy: 0.7890 - val_loss: 1.9626 - val_accuracy: 0.5134\n",
      "Epoch 59/100\n",
      "50000/50000 [==============================] - 2s 38us/step - loss: 0.5533 - accuracy: 0.8024 - val_loss: 1.9779 - val_accuracy: 0.5120\n",
      "Epoch 60/100\n",
      "50000/50000 [==============================] - 2s 38us/step - loss: 0.5364 - accuracy: 0.8084 - val_loss: 2.0395 - val_accuracy: 0.5078\n",
      "Epoch 61/100\n",
      "50000/50000 [==============================] - 2s 37us/step - loss: 0.5322 - accuracy: 0.8103 - val_loss: 2.0279 - val_accuracy: 0.5038\n",
      "Epoch 62/100\n",
      "50000/50000 [==============================] - 2s 37us/step - loss: 0.5161 - accuracy: 0.8149 - val_loss: 2.1120 - val_accuracy: 0.5032\n",
      "Epoch 63/100\n",
      "50000/50000 [==============================] - 2s 37us/step - loss: 0.5399 - accuracy: 0.8066 - val_loss: 2.0773 - val_accuracy: 0.5150\n",
      "Epoch 64/100\n",
      "50000/50000 [==============================] - 2s 37us/step - loss: 0.4982 - accuracy: 0.8224 - val_loss: 2.1388 - val_accuracy: 0.5060\n",
      "Epoch 65/100\n",
      "50000/50000 [==============================] - 2s 38us/step - loss: 0.5126 - accuracy: 0.8169 - val_loss: 2.1654 - val_accuracy: 0.5061\n",
      "Epoch 66/100\n",
      "50000/50000 [==============================] - 2s 37us/step - loss: 0.4871 - accuracy: 0.8253 - val_loss: 2.1690 - val_accuracy: 0.5193\n",
      "Epoch 67/100\n",
      "50000/50000 [==============================] - 2s 38us/step - loss: 0.4774 - accuracy: 0.8285 - val_loss: 2.2155 - val_accuracy: 0.5095\n",
      "Epoch 68/100\n",
      "50000/50000 [==============================] - 2s 38us/step - loss: 0.4725 - accuracy: 0.8287 - val_loss: 2.2597 - val_accuracy: 0.5069\n",
      "Epoch 69/100\n",
      "50000/50000 [==============================] - 2s 38us/step - loss: 0.4690 - accuracy: 0.8299 - val_loss: 2.2846 - val_accuracy: 0.4985\n",
      "Epoch 70/100\n",
      "50000/50000 [==============================] - 2s 38us/step - loss: 0.4423 - accuracy: 0.8410 - val_loss: 2.3354 - val_accuracy: 0.4991\n",
      "Epoch 71/100\n",
      "50000/50000 [==============================] - 2s 38us/step - loss: 0.4421 - accuracy: 0.8411 - val_loss: 2.3229 - val_accuracy: 0.5099\n",
      "Epoch 72/100\n",
      "50000/50000 [==============================] - 2s 40us/step - loss: 0.4353 - accuracy: 0.8440 - val_loss: 2.2922 - val_accuracy: 0.5109\n",
      "Epoch 73/100\n",
      "50000/50000 [==============================] - 2s 40us/step - loss: 0.4073 - accuracy: 0.8549 - val_loss: 2.4973 - val_accuracy: 0.5060\n",
      "Epoch 74/100\n",
      "50000/50000 [==============================] - 2s 37us/step - loss: 0.4301 - accuracy: 0.8448 - val_loss: 2.4053 - val_accuracy: 0.5117\n",
      "Epoch 75/100\n",
      "50000/50000 [==============================] - 2s 38us/step - loss: 0.4383 - accuracy: 0.8422 - val_loss: 2.4400 - val_accuracy: 0.5108\n",
      "Epoch 76/100\n",
      "50000/50000 [==============================] - 2s 38us/step - loss: 0.4146 - accuracy: 0.8511 - val_loss: 2.5278 - val_accuracy: 0.5067\n",
      "Epoch 77/100\n",
      "50000/50000 [==============================] - 2s 38us/step - loss: 0.4086 - accuracy: 0.8527 - val_loss: 2.5169 - val_accuracy: 0.5096\n",
      "Epoch 78/100\n",
      "50000/50000 [==============================] - 2s 38us/step - loss: 0.3810 - accuracy: 0.8628 - val_loss: 2.5234 - val_accuracy: 0.5015\n",
      "Epoch 79/100\n",
      "50000/50000 [==============================] - 2s 40us/step - loss: 0.3860 - accuracy: 0.8617 - val_loss: 2.5727 - val_accuracy: 0.5067\n",
      "Epoch 80/100\n",
      "50000/50000 [==============================] - 2s 39us/step - loss: 0.3943 - accuracy: 0.8578 - val_loss: 2.5823 - val_accuracy: 0.5047\n",
      "Epoch 81/100\n",
      "50000/50000 [==============================] - 2s 37us/step - loss: 0.3890 - accuracy: 0.8606 - val_loss: 2.7043 - val_accuracy: 0.5013\n",
      "Epoch 82/100\n",
      "50000/50000 [==============================] - 2s 41us/step - loss: 0.4023 - accuracy: 0.8545 - val_loss: 2.7224 - val_accuracy: 0.5081\n",
      "Epoch 83/100\n",
      "50000/50000 [==============================] - 2s 39us/step - loss: 0.3666 - accuracy: 0.8686 - val_loss: 2.7649 - val_accuracy: 0.5003\n",
      "Epoch 84/100\n",
      "50000/50000 [==============================] - 2s 38us/step - loss: 0.3666 - accuracy: 0.8692 - val_loss: 2.8150 - val_accuracy: 0.5060\n",
      "Epoch 85/100\n",
      "50000/50000 [==============================] - 2s 38us/step - loss: 0.3530 - accuracy: 0.8737 - val_loss: 2.7744 - val_accuracy: 0.5066\n",
      "Epoch 86/100\n",
      "50000/50000 [==============================] - 2s 38us/step - loss: 0.3600 - accuracy: 0.8693 - val_loss: 2.7574 - val_accuracy: 0.5078\n",
      "Epoch 87/100\n",
      "50000/50000 [==============================] - 2s 39us/step - loss: 0.3406 - accuracy: 0.8782 - val_loss: 2.8151 - val_accuracy: 0.5036\n",
      "Epoch 88/100\n",
      "50000/50000 [==============================] - 2s 38us/step - loss: 0.3278 - accuracy: 0.8823 - val_loss: 2.8882 - val_accuracy: 0.5055\n",
      "Epoch 89/100\n",
      "50000/50000 [==============================] - 2s 38us/step - loss: 0.3402 - accuracy: 0.8783 - val_loss: 2.9793 - val_accuracy: 0.5050\n",
      "Epoch 90/100\n",
      "50000/50000 [==============================] - 2s 38us/step - loss: 0.3328 - accuracy: 0.8813 - val_loss: 2.9539 - val_accuracy: 0.5043\n",
      "Epoch 91/100\n",
      "50000/50000 [==============================] - 2s 38us/step - loss: 0.3334 - accuracy: 0.8800 - val_loss: 2.9899 - val_accuracy: 0.4979\n",
      "Epoch 92/100\n",
      "50000/50000 [==============================] - 2s 38us/step - loss: 0.3106 - accuracy: 0.8884 - val_loss: 3.0604 - val_accuracy: 0.5054\n",
      "Epoch 93/100\n",
      "50000/50000 [==============================] - 2s 38us/step - loss: 0.3413 - accuracy: 0.8745 - val_loss: 3.0578 - val_accuracy: 0.4992\n",
      "Epoch 94/100\n",
      "50000/50000 [==============================] - 2s 38us/step - loss: 0.3230 - accuracy: 0.8834 - val_loss: 3.0575 - val_accuracy: 0.4975\n",
      "Epoch 95/100\n",
      "50000/50000 [==============================] - 2s 38us/step - loss: 0.3177 - accuracy: 0.8848 - val_loss: 3.1503 - val_accuracy: 0.4961\n",
      "Epoch 96/100\n",
      "50000/50000 [==============================] - 2s 38us/step - loss: 0.3218 - accuracy: 0.8842 - val_loss: 3.1404 - val_accuracy: 0.5028\n",
      "Epoch 97/100\n",
      "50000/50000 [==============================] - 2s 38us/step - loss: 0.3192 - accuracy: 0.8838 - val_loss: 3.1061 - val_accuracy: 0.5024\n",
      "Epoch 98/100\n",
      "50000/50000 [==============================] - 2s 39us/step - loss: 0.2773 - accuracy: 0.8993 - val_loss: 3.1875 - val_accuracy: 0.4956\n",
      "Epoch 99/100\n",
      "50000/50000 [==============================] - 2s 40us/step - loss: 0.2946 - accuracy: 0.8948 - val_loss: 3.1490 - val_accuracy: 0.5022\n",
      "Epoch 100/100\n",
      "50000/50000 [==============================] - 2s 39us/step - loss: 0.2841 - accuracy: 0.8989 - val_loss: 3.2443 - val_accuracy: 0.4995\n"
     ]
    },
    {
     "data": {
      "text/plain": [
       "<keras.callbacks.callbacks.History at 0x2afa3db3ec8>"
      ]
     },
     "execution_count": 6,
     "metadata": {},
     "output_type": "execute_result"
    }
   ],
   "source": [
    "# 訓練模型並檢視驗證集的結果\n",
    "model.fit(x_train, y_train, \n",
    "          epochs=100, \n",
    "          batch_size=256, \n",
    "          validation_data=(x_test, y_test), \n",
    "          shuffle=True)"
   ]
  },
  {
   "cell_type": "code",
   "execution_count": 8,
   "metadata": {},
   "outputs": [
    {
     "data": {
      "image/png": "[encoded data removed]",
      "text/plain": [
       "<Figure size 432x288 with 1 Axes>"
      ]
     },
     "metadata": {
      "needs_background": "light"
     },
     "output_type": "display_data"
    },
    {
     "data": {
      "image/png": "[encoded data removed]",
      "text/plain": [
       "<Figure size 432x288 with 1 Axes>"
      ]
     },
     "metadata": {
      "needs_background": "light"
     },
     "output_type": "display_data"
    }
   ],
   "source": [
    "# 以視覺畫方式檢視訓練過程\n",
    "import matplotlib.pyplot as plt\n",
    "train_loss = model.history.history[\"loss\"]\n",
    "valid_loss = model.history.history[\"val_loss\"]\n",
    "\n",
    "train_acc = model.history.history[\"accuracy\"]\n",
    "valid_acc = model.history.history[\"val_accuracy\"]\n",
    "\n",
    "plt.plot(range(len(train_loss)), train_loss, label=\"train loss\")\n",
    "plt.plot(range(len(valid_loss)), valid_loss, label=\"valid loss\")\n",
    "plt.legend()\n",
    "plt.title(\"Loss\")\n",
    "plt.show()\n",
    "\n",
    "plt.plot(range(len(train_acc)), train_acc, label=\"train accuracy\")\n",
    "plt.plot(range(len(valid_acc)), valid_acc, label=\"valid accuracy\")\n",
    "plt.legend()\n",
    "plt.title(\"Accuracy\")\n",
    "plt.show()"
   ]
  },
  {
   "cell_type": "markdown",
   "metadata": {},
   "source": [
    "## 作業\n",
    "1. 請將 Epoch 加到 500 個，並觀察 learning curve 的走勢\n",
    "2. 請將 Optimizer 換成 SGD，並觀察 learning curve 的走勢"
   ]
  }
 ],
 "metadata": {
  "kernelspec": {
   "display_name": "Python 3",
   "language": "python",
   "name": "python3"
  },
  "language_info": {
   "codemirror_mode": {
    "name": "ipython",
    "version": 3
   },
   "file_extension": ".py",
   "mimetype": "text/x-python",
   "name": "python",
   "nbconvert_exporter": "python",
   "pygments_lexer": "ipython3",
   "version": "3.7.7"
  }
 },
 "nbformat": 4,
 "nbformat_minor": 2
}
