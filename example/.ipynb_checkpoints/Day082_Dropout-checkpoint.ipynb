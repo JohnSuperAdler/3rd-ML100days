{
 "cells": [
  {
   "cell_type": "markdown",
   "metadata": {},
   "source": [
    "## 範例重點\n",
    "* 知道如何在 keras 中加入 dropout\n",
    "* 了解 dropout 中 ratio 的意義與對訓練的影響"
   ]
  },
  {
   "cell_type": "code",
   "execution_count": 1,
   "metadata": {},
   "outputs": [
    {
     "name": "stderr",
     "output_type": "stream",
     "text": [
      "Using TensorFlow backend.\n"
     ]
    }
   ],
   "source": [
    "import os\n",
    "import keras\n",
    "\n",
    "# 本範例不需使用 GPU, 將 GPU 設定為 \"無\"\n",
    "os.environ[\"CUDA_VISIBLE_DEVICES\"] = \"\""
   ]
  },
  {
   "cell_type": "code",
   "execution_count": 2,
   "metadata": {},
   "outputs": [],
   "source": [
    "train, test = keras.datasets.cifar10.load_data()"
   ]
  },
  {
   "cell_type": "code",
   "execution_count": 3,
   "metadata": {},
   "outputs": [],
   "source": [
    "## 資料前處理\n",
    "def preproc_x(x, flatten=True):\n",
    "    x = x / 255.\n",
    "    if flatten:\n",
    "        x = x.reshape((len(x), -1))\n",
    "    return x\n",
    "\n",
    "def preproc_y(y, num_classes=10):\n",
    "    if y.shape[-1] == 1:\n",
    "        y = keras.utils.to_categorical(y, num_classes)\n",
    "    return y    "
   ]
  },
  {
   "cell_type": "code",
   "execution_count": 4,
   "metadata": {},
   "outputs": [],
   "source": [
    "x_train, y_train = train\n",
    "x_test, y_test = test\n",
    "\n",
    "# 資料前處理 - X 標準化\n",
    "x_train = preproc_x(x_train)\n",
    "x_test = preproc_x(x_test)\n",
    "\n",
    "# 資料前處理 -Y 轉成 onehot\n",
    "y_train = preproc_y(y_train)\n",
    "y_test = preproc_y(y_test)"
   ]
  },
  {
   "cell_type": "code",
   "execution_count": 5,
   "metadata": {},
   "outputs": [],
   "source": [
    "from keras.layers import Dropout\n",
    "\n",
    "\"\"\"\n",
    "建立神經網路，並加入 dropout layer\n",
    "\"\"\"\n",
    "def build_mlp(input_shape, output_units=10, num_neurons=[512, 256, 128], drp_ratio=0.2):\n",
    "    input_layer = keras.layers.Input(input_shape)\n",
    "    \n",
    "    for i, n_units in enumerate(num_neurons):\n",
    "        if i == 0:\n",
    "            x = keras.layers.Dense(units=n_units, \n",
    "                                   activation=\"relu\", \n",
    "                                   name=\"hidden_layer\"+str(i+1))(input_layer)\n",
    "            x = Dropout(drp_ratio)(x)\n",
    "        else:\n",
    "            x = keras.layers.Dense(units=n_units, \n",
    "                                   activation=\"relu\", \n",
    "                                   name=\"hidden_layer\"+str(i+1))(x)\n",
    "            x = Dropout(drp_ratio)(x)\n",
    "    \n",
    "    out = keras.layers.Dense(units=output_units, activation=\"softmax\", name=\"output\")(x)\n",
    "    \n",
    "    model = keras.models.Model(inputs=[input_layer], outputs=[out])\n",
    "    return model"
   ]
  },
  {
   "cell_type": "code",
   "execution_count": 6,
   "metadata": {},
   "outputs": [],
   "source": [
    "## 超參數設定\n",
    "LEARNING_RATE = 1e-3\n",
    "EPOCHS = 50\n",
    "BATCH_SIZE = 256\n",
    "MOMENTUM = 0.95\n",
    "Dropout_EXP = 0.25"
   ]
  },
  {
   "cell_type": "code",
   "execution_count": null,
   "metadata": {
    "scrolled": true
   },
   "outputs": [
    {
     "name": "stdout",
     "output_type": "stream",
     "text": [
      "Model: \"model_1\"\n",
      "_________________________________________________________________\n",
      "Layer (type)                 Output Shape              Param #   \n",
      "=================================================================\n",
      "input_1 (InputLayer)         (None, 3072)              0         \n",
      "_________________________________________________________________\n",
      "hidden_layer1 (Dense)        (None, 512)               1573376   \n",
      "_________________________________________________________________\n",
      "dropout_1 (Dropout)          (None, 512)               0         \n",
      "_________________________________________________________________\n",
      "hidden_layer2 (Dense)        (None, 256)               131328    \n",
      "_________________________________________________________________\n",
      "dropout_2 (Dropout)          (None, 256)               0         \n",
      "_________________________________________________________________\n",
      "hidden_layer3 (Dense)        (None, 128)               32896     \n",
      "_________________________________________________________________\n",
      "dropout_3 (Dropout)          (None, 128)               0         \n",
      "_________________________________________________________________\n",
      "output (Dense)               (None, 10)                1290      \n",
      "=================================================================\n",
      "Total params: 1,738,890\n",
      "Trainable params: 1,738,890\n",
      "Non-trainable params: 0\n",
      "_________________________________________________________________\n",
      "Train on 50000 samples, validate on 10000 samples\n",
      "Epoch 1/50\n",
      "50000/50000 [==============================] - 2s 43us/step - loss: 2.1935 - accuracy: 0.1802 - val_loss: 1.9969 - val_accuracy: 0.2912\n",
      "Epoch 2/50\n",
      "50000/50000 [==============================] - 2s 36us/step - loss: 1.9970 - accuracy: 0.2663 - val_loss: 1.8714 - val_accuracy: 0.3416\n",
      "Epoch 3/50\n",
      "50000/50000 [==============================] - 2s 36us/step - loss: 1.9108 - accuracy: 0.3050 - val_loss: 1.7995 - val_accuracy: 0.3615\n",
      "Epoch 4/50\n",
      "50000/50000 [==============================] - 2s 36us/step - loss: 1.8595 - accuracy: 0.3278 - val_loss: 1.7546 - val_accuracy: 0.3818\n",
      "Epoch 5/50\n",
      "50000/50000 [==============================] - 2s 36us/step - loss: 1.8176 - accuracy: 0.3480 - val_loss: 1.7145 - val_accuracy: 0.4005\n",
      "Epoch 6/50\n",
      "50000/50000 [==============================] - 2s 37us/step - loss: 1.7842 - accuracy: 0.3592 - val_loss: 1.6822 - val_accuracy: 0.4120\n",
      "Epoch 7/50\n",
      "50000/50000 [==============================] - 2s 37us/step - loss: 1.7577 - accuracy: 0.3697 - val_loss: 1.6567 - val_accuracy: 0.4158\n",
      "Epoch 8/50\n",
      "50000/50000 [==============================] - 2s 35us/step - loss: 1.7272 - accuracy: 0.3815 - val_loss: 1.6310 - val_accuracy: 0.4282\n",
      "Epoch 9/50\n",
      "50000/50000 [==============================] - 2s 35us/step - loss: 1.7102 - accuracy: 0.3871 - val_loss: 1.6054 - val_accuracy: 0.4305\n",
      "Epoch 10/50\n",
      "50000/50000 [==============================] - 2s 37us/step - loss: 1.6844 - accuracy: 0.4000 - val_loss: 1.5825 - val_accuracy: 0.4400\n",
      "Epoch 11/50\n",
      "50000/50000 [==============================] - 2s 35us/step - loss: 1.6671 - accuracy: 0.4054 - val_loss: 1.5671 - val_accuracy: 0.4423\n",
      "Epoch 12/50\n",
      "50000/50000 [==============================] - 2s 34us/step - loss: 1.6499 - accuracy: 0.4115 - val_loss: 1.5505 - val_accuracy: 0.4528\n",
      "Epoch 13/50\n",
      "50000/50000 [==============================] - 2s 35us/step - loss: 1.6320 - accuracy: 0.4176 - val_loss: 1.5374 - val_accuracy: 0.4560\n",
      "Epoch 14/50\n",
      "50000/50000 [==============================] - 2s 36us/step - loss: 1.6190 - accuracy: 0.4225 - val_loss: 1.5317 - val_accuracy: 0.4597\n",
      "Epoch 15/50\n",
      "50000/50000 [==============================] - 2s 36us/step - loss: 1.5996 - accuracy: 0.4289 - val_loss: 1.5128 - val_accuracy: 0.4591\n",
      "Epoch 16/50\n",
      "50000/50000 [==============================] - 2s 35us/step - loss: 1.5874 - accuracy: 0.4344 - val_loss: 1.4989 - val_accuracy: 0.4697\n",
      "Epoch 17/50\n",
      "50000/50000 [==============================] - 2s 34us/step - loss: 1.5728 - accuracy: 0.4400 - val_loss: 1.4983 - val_accuracy: 0.4678\n",
      "Epoch 18/50\n",
      "50000/50000 [==============================] - 2s 34us/step - loss: 1.5585 - accuracy: 0.4435 - val_loss: 1.4799 - val_accuracy: 0.4742\n",
      "Epoch 19/50\n",
      "50000/50000 [==============================] - 2s 33us/step - loss: 1.5490 - accuracy: 0.4483 - val_loss: 1.4699 - val_accuracy: 0.4734\n",
      "Epoch 20/50\n",
      "50000/50000 [==============================] - 2s 33us/step - loss: 1.5360 - accuracy: 0.4545 - val_loss: 1.4597 - val_accuracy: 0.4806\n",
      "Epoch 21/50\n",
      "50000/50000 [==============================] - 2s 33us/step - loss: 1.5263 - accuracy: 0.4584 - val_loss: 1.4597 - val_accuracy: 0.4762\n",
      "Epoch 22/50\n",
      "50000/50000 [==============================] - 2s 33us/step - loss: 1.5154 - accuracy: 0.4592 - val_loss: 1.4430 - val_accuracy: 0.4843\n",
      "Epoch 23/50\n",
      "50000/50000 [==============================] - 2s 33us/step - loss: 1.5001 - accuracy: 0.4649 - val_loss: 1.4311 - val_accuracy: 0.4909\n",
      "Epoch 24/50\n",
      "50000/50000 [==============================] - 2s 35us/step - loss: 1.4934 - accuracy: 0.4695 - val_loss: 1.4303 - val_accuracy: 0.4878\n",
      "Epoch 25/50\n",
      "50000/50000 [==============================] - 2s 35us/step - loss: 1.4842 - accuracy: 0.4707 - val_loss: 1.4197 - val_accuracy: 0.4933\n",
      "Epoch 26/50\n",
      "50000/50000 [==============================] - 2s 33us/step - loss: 1.4745 - accuracy: 0.4735 - val_loss: 1.4108 - val_accuracy: 0.4981\n",
      "Epoch 27/50\n",
      "50000/50000 [==============================] - 2s 33us/step - loss: 1.4591 - accuracy: 0.4812 - val_loss: 1.4050 - val_accuracy: 0.4955\n",
      "Epoch 28/50\n",
      "50000/50000 [==============================] - 2s 33us/step - loss: 1.4571 - accuracy: 0.4820 - val_loss: 1.4203 - val_accuracy: 0.4888\n",
      "Epoch 29/50\n",
      "50000/50000 [==============================] - 2s 34us/step - loss: 1.4446 - accuracy: 0.4823 - val_loss: 1.3987 - val_accuracy: 0.5005\n",
      "Epoch 30/50\n",
      "50000/50000 [==============================] - 2s 34us/step - loss: 1.4345 - accuracy: 0.4892 - val_loss: 1.3821 - val_accuracy: 0.5075\n",
      "Epoch 31/50\n",
      "50000/50000 [==============================] - 2s 34us/step - loss: 1.4245 - accuracy: 0.4922 - val_loss: 1.3889 - val_accuracy: 0.5018\n",
      "Epoch 32/50\n",
      "50000/50000 [==============================] - 2s 35us/step - loss: 1.4218 - accuracy: 0.4935 - val_loss: 1.3861 - val_accuracy: 0.5041\n",
      "Epoch 33/50\n",
      "50000/50000 [==============================] - 2s 35us/step - loss: 1.4103 - accuracy: 0.4973 - val_loss: 1.3743 - val_accuracy: 0.5095\n",
      "Epoch 34/50\n",
      "50000/50000 [==============================] - 2s 35us/step - loss: 1.4030 - accuracy: 0.4997 - val_loss: 1.3712 - val_accuracy: 0.5052\n",
      "Epoch 35/50\n",
      "50000/50000 [==============================] - 2s 35us/step - loss: 1.3999 - accuracy: 0.4971 - val_loss: 1.3730 - val_accuracy: 0.5107\n",
      "Epoch 36/50\n",
      "50000/50000 [==============================] - 2s 34us/step - loss: 1.3916 - accuracy: 0.5023 - val_loss: 1.3658 - val_accuracy: 0.5100\n",
      "Epoch 37/50\n",
      "50000/50000 [==============================] - 2s 35us/step - loss: 1.3814 - accuracy: 0.5097 - val_loss: 1.3573 - val_accuracy: 0.5143\n",
      "Epoch 38/50\n",
      "50000/50000 [==============================] - 2s 35us/step - loss: 1.3753 - accuracy: 0.5092 - val_loss: 1.3616 - val_accuracy: 0.5099\n",
      "Epoch 39/50\n",
      "50000/50000 [==============================] - 2s 35us/step - loss: 1.3655 - accuracy: 0.5107 - val_loss: 1.3454 - val_accuracy: 0.5197\n",
      "Epoch 40/50\n",
      "50000/50000 [==============================] - 2s 34us/step - loss: 1.3590 - accuracy: 0.5146 - val_loss: 1.3478 - val_accuracy: 0.5176\n",
      "Epoch 41/50\n",
      "50000/50000 [==============================] - 2s 34us/step - loss: 1.3536 - accuracy: 0.5152 - val_loss: 1.3508 - val_accuracy: 0.5126\n",
      "Epoch 42/50\n",
      "23552/50000 [=============>................] - ETA: 0s - loss: 1.3473 - accuracy: 0.5175"
     ]
    }
   ],
   "source": [
    "model = build_mlp(input_shape=x_train.shape[1:], drp_ratio=Dropout_EXP)\n",
    "model.summary()\n",
    "optimizer = keras.optimizers.SGD(lr=LEARNING_RATE, nesterov=True, momentum=MOMENTUM)\n",
    "model.compile(loss=\"categorical_crossentropy\", metrics=[\"accuracy\"], optimizer=optimizer)\n",
    "\n",
    "model.fit(x_train, y_train, \n",
    "          epochs=EPOCHS, \n",
    "          batch_size=BATCH_SIZE, \n",
    "          validation_data=(x_test, y_test), \n",
    "          shuffle=True)\n",
    "\n",
    "# Collect results\n",
    "train_loss = model.history.history[\"loss\"]\n",
    "valid_loss = model.history.history[\"val_loss\"]\n",
    "train_acc = model.history.history[\"accuracy\"]\n",
    "valid_acc = model.history.history[\"val_accuracy\"]"
   ]
  },
  {
   "cell_type": "code",
   "execution_count": null,
   "metadata": {},
   "outputs": [],
   "source": [
    "import matplotlib.pyplot as plt\n",
    "%matplotlib inline\n",
    "\n",
    "plt.plot(range(len(train_loss)), train_loss, label=\"train loss\")\n",
    "plt.plot(range(len(valid_loss)), valid_loss, label=\"valid loss\")\n",
    "plt.legend()\n",
    "plt.title(\"Loss\")\n",
    "plt.show()\n",
    "\n",
    "plt.plot(range(len(train_acc)), train_acc, label=\"train accuracy\")\n",
    "plt.plot(range(len(valid_acc)), valid_acc, label=\"valid accuracy\")\n",
    "plt.legend()\n",
    "plt.title(\"Accuracy\")\n",
    "plt.show()"
   ]
  },
  {
   "cell_type": "markdown",
   "metadata": {},
   "source": [
    "## Work\n",
    "1. 請比較使用不同層數以及不同 Dropout rate 對訓練的效果\n",
    "2. 將 optimizer 改成使用 Adam 並加上適當的 dropout rate 檢視結果"
   ]
  }
 ],
 "metadata": {
  "kernelspec": {
   "display_name": "Python 3",
   "language": "python",
   "name": "python3"
  },
  "language_info": {
   "codemirror_mode": {
    "name": "ipython",
    "version": 3
   },
   "file_extension": ".py",
   "mimetype": "text/x-python",
   "name": "python",
   "nbconvert_exporter": "python",
   "pygments_lexer": "ipython3",
   "version": "3.7.7"
  }
 },
 "nbformat": 4,
 "nbformat_minor": 2
}
