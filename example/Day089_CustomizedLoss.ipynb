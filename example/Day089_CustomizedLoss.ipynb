{
 "cells": [
  {
   "cell_type": "markdown",
   "metadata": {},
   "source": [
    "## 範例重點\n",
    "* 學習如何在 keras 中撰寫自定義的 loss function\n",
    "* 知道如何在訓練時使用自定義的 loss function"
   ]
  },
  {
   "cell_type": "code",
   "execution_count": 1,
   "metadata": {},
   "outputs": [
    {
     "name": "stderr",
     "output_type": "stream",
     "text": [
      "Using TensorFlow backend.\n"
     ]
    }
   ],
   "source": [
    "import os\n",
    "import keras\n",
    "\n",
    "# 本範例不需使用 GPU, 將 GPU 設定為 \"無\"\n",
    "os.environ[\"CUDA_VISIBLE_DEVICES\"] = \"\""
   ]
  },
  {
   "cell_type": "code",
   "execution_count": 2,
   "metadata": {},
   "outputs": [],
   "source": [
    "train, test = keras.datasets.cifar10.load_data()"
   ]
  },
  {
   "cell_type": "code",
   "execution_count": 3,
   "metadata": {},
   "outputs": [],
   "source": [
    "## 資料前處理\n",
    "def preproc_x(x, flatten=True):\n",
    "    x = x / 255.\n",
    "    if flatten:\n",
    "        x = x.reshape((len(x), -1))\n",
    "    return x\n",
    "\n",
    "def preproc_y(y, num_classes=10):\n",
    "    if y.shape[-1] == 1:\n",
    "        y = keras.utils.to_categorical(y, num_classes)\n",
    "    return y    "
   ]
  },
  {
   "cell_type": "code",
   "execution_count": 4,
   "metadata": {},
   "outputs": [],
   "source": [
    "x_train, y_train = train\n",
    "x_test, y_test = test\n",
    "\n",
    "# 資料前處理 - X 標準化\n",
    "x_train = preproc_x(x_train)\n",
    "x_test = preproc_x(x_test)\n",
    "\n",
    "# 資料前處理 -Y 轉成 onehot\n",
    "y_train = preproc_y(y_train)\n",
    "y_test = preproc_y(y_test)"
   ]
  },
  {
   "cell_type": "code",
   "execution_count": 5,
   "metadata": {},
   "outputs": [],
   "source": [
    "from keras.layers import BatchNormalization\n",
    "\n",
    "\"\"\"\n",
    "建立神經網路，並加入 BN layer\n",
    "\"\"\"\n",
    "def build_mlp(input_shape, output_units=10, num_neurons=[512, 256, 128]):\n",
    "    input_layer = keras.layers.Input(input_shape)\n",
    "    \n",
    "    for i, n_units in enumerate(num_neurons):\n",
    "        if i == 0:\n",
    "            x = keras.layers.Dense(units=n_units, \n",
    "                                   activation=\"relu\", \n",
    "                                   name=\"hidden_layer\"+str(i+1))(input_layer)\n",
    "            x = BatchNormalization()(x)\n",
    "        else:\n",
    "            x = keras.layers.Dense(units=n_units, \n",
    "                                   activation=\"relu\", \n",
    "                                   name=\"hidden_layer\"+str(i+1))(x)\n",
    "            x = BatchNormalization()(x)\n",
    "    \n",
    "    out = keras.layers.Dense(units=output_units, activation=\"softmax\", name=\"output\")(x)\n",
    "    \n",
    "    model = keras.models.Model(inputs=[input_layer], outputs=[out])\n",
    "    return model"
   ]
  },
  {
   "cell_type": "code",
   "execution_count": 6,
   "metadata": {},
   "outputs": [],
   "source": [
    "## 超參數設定\n",
    "LEARNING_RATE = 1e-3\n",
    "EPOCHS = 50\n",
    "BATCH_SIZE = 1024\n",
    "MOMENTUM = 0.95"
   ]
  },
  {
   "cell_type": "code",
   "execution_count": 10,
   "metadata": {},
   "outputs": [],
   "source": [
    "import tensorflow as tf\n",
    "import keras.backend as K\n",
    "\n",
    "\"\"\"\n",
    "# 撰寫自定義的 loss function: focal loss (https://blog.csdn.net/u014380165/article/details/77019084)\n",
    "\"\"\"\n",
    "def focal_loss(gamma=2., alpha=4.):\n",
    "    gamma = float(gamma)\n",
    "    alpha = float(alpha)\n",
    "    def focal_loss_fixed(y_true, y_pred):\n",
    "        \"\"\"Focal loss for multi-classification\n",
    "        FL(p_t)=-alpha(1-p_t)^{gamma}ln(p_t)\n",
    "        \"\"\"\n",
    "        epsilon = 1e-8\n",
    "        y_true = tf.convert_to_tensor(y_true, tf.float32)\n",
    "        y_pred = tf.convert_to_tensor(y_pred, tf.float32)\n",
    "\n",
    "        model_out = tf.add(y_pred, epsilon)\n",
    "        ce = tf.multiply(y_true, -tf.math.log(model_out))\n",
    "        weight = tf.multiply(y_true, tf.pow(tf.subtract(1., model_out), gamma))\n",
    "        fl = tf.multiply(alpha, tf.multiply(weight, ce))\n",
    "        reduced_fl = tf.reduce_max(fl, axis=1)\n",
    "        return tf.reduce_mean(reduced_fl)\n",
    "    return focal_loss_fixed"
   ]
  },
  {
   "cell_type": "code",
   "execution_count": 11,
   "metadata": {
    "scrolled": true
   },
   "outputs": [
    {
     "name": "stdout",
     "output_type": "stream",
     "text": [
      "Model: \"model_2\"\n",
      "_________________________________________________________________\n",
      "Layer (type)                 Output Shape              Param #   \n",
      "=================================================================\n",
      "input_2 (InputLayer)         (None, 3072)              0         \n",
      "_________________________________________________________________\n",
      "hidden_layer1 (Dense)        (None, 512)               1573376   \n",
      "_________________________________________________________________\n",
      "batch_normalization_4 (Batch (None, 512)               2048      \n",
      "_________________________________________________________________\n",
      "hidden_layer2 (Dense)        (None, 256)               131328    \n",
      "_________________________________________________________________\n",
      "batch_normalization_5 (Batch (None, 256)               1024      \n",
      "_________________________________________________________________\n",
      "hidden_layer3 (Dense)        (None, 128)               32896     \n",
      "_________________________________________________________________\n",
      "batch_normalization_6 (Batch (None, 128)               512       \n",
      "_________________________________________________________________\n",
      "output (Dense)               (None, 10)                1290      \n",
      "=================================================================\n",
      "Total params: 1,742,474\n",
      "Trainable params: 1,740,682\n",
      "Non-trainable params: 1,792\n",
      "_________________________________________________________________\n",
      "Train on 50000 samples, validate on 10000 samples\n",
      "Epoch 1/50\n",
      "50000/50000 [==============================] - 2s 48us/step - loss: 5.9940 - accuracy: 0.3297 - val_loss: 7.0388 - val_accuracy: 0.2117\n",
      "Epoch 2/50\n",
      "50000/50000 [==============================] - 2s 30us/step - loss: 4.3998 - accuracy: 0.4418 - val_loss: 5.5681 - val_accuracy: 0.3152\n",
      "Epoch 3/50\n",
      "50000/50000 [==============================] - 2s 30us/step - loss: 3.9810 - accuracy: 0.4830 - val_loss: 4.9023 - val_accuracy: 0.3929\n",
      "Epoch 4/50\n",
      "50000/50000 [==============================] - 2s 31us/step - loss: 3.7006 - accuracy: 0.5098 - val_loss: 4.5325 - val_accuracy: 0.4244\n",
      "Epoch 5/50\n",
      "50000/50000 [==============================] - 1s 30us/step - loss: 3.4901 - accuracy: 0.5314 - val_loss: 4.3068 - val_accuracy: 0.4372\n",
      "Epoch 6/50\n",
      "50000/50000 [==============================] - 2s 31us/step - loss: 3.2914 - accuracy: 0.5529 - val_loss: 4.0646 - val_accuracy: 0.4715\n",
      "Epoch 7/50\n",
      "50000/50000 [==============================] - 2s 31us/step - loss: 3.1117 - accuracy: 0.5711 - val_loss: 4.0374 - val_accuracy: 0.4715\n",
      "Epoch 8/50\n",
      "50000/50000 [==============================] - 1s 30us/step - loss: 2.9543 - accuracy: 0.5873 - val_loss: 4.0396 - val_accuracy: 0.4663\n",
      "Epoch 9/50\n",
      "50000/50000 [==============================] - 1s 30us/step - loss: 2.8042 - accuracy: 0.6034 - val_loss: 3.8803 - val_accuracy: 0.4843\n",
      "Epoch 10/50\n",
      "50000/50000 [==============================] - 1s 30us/step - loss: 2.6647 - accuracy: 0.6181 - val_loss: 3.9881 - val_accuracy: 0.4768\n",
      "Epoch 11/50\n",
      "50000/50000 [==============================] - 2s 30us/step - loss: 2.5199 - accuracy: 0.6337 - val_loss: 4.0866 - val_accuracy: 0.4599\n",
      "Epoch 12/50\n",
      "50000/50000 [==============================] - 2s 31us/step - loss: 2.3956 - accuracy: 0.6448 - val_loss: 3.9593 - val_accuracy: 0.4845\n",
      "Epoch 13/50\n",
      "50000/50000 [==============================] - 2s 31us/step - loss: 2.2636 - accuracy: 0.6606 - val_loss: 4.1244 - val_accuracy: 0.4640\n",
      "Epoch 14/50\n",
      "50000/50000 [==============================] - 2s 31us/step - loss: 2.1332 - accuracy: 0.6759 - val_loss: 4.0418 - val_accuracy: 0.4829\n",
      "Epoch 15/50\n",
      "50000/50000 [==============================] - 1s 28us/step - loss: 2.0083 - accuracy: 0.6928 - val_loss: 3.9224 - val_accuracy: 0.4910\n",
      "Epoch 16/50\n",
      "50000/50000 [==============================] - 1s 28us/step - loss: 1.8871 - accuracy: 0.7060 - val_loss: 4.1159 - val_accuracy: 0.4783\n",
      "Epoch 17/50\n",
      "50000/50000 [==============================] - 1s 28us/step - loss: 1.7746 - accuracy: 0.7200 - val_loss: 4.0847 - val_accuracy: 0.4914\n",
      "Epoch 18/50\n",
      "50000/50000 [==============================] - 1s 28us/step - loss: 1.6474 - accuracy: 0.7376 - val_loss: 4.1922 - val_accuracy: 0.4750\n",
      "Epoch 19/50\n",
      "50000/50000 [==============================] - 1s 28us/step - loss: 1.5471 - accuracy: 0.7488 - val_loss: 4.2008 - val_accuracy: 0.4836\n",
      "Epoch 20/50\n",
      "50000/50000 [==============================] - 1s 28us/step - loss: 1.4386 - accuracy: 0.7651 - val_loss: 4.4428 - val_accuracy: 0.4826\n",
      "Epoch 21/50\n",
      "50000/50000 [==============================] - 1s 29us/step - loss: 1.3317 - accuracy: 0.7804 - val_loss: 4.4282 - val_accuracy: 0.4782\n",
      "Epoch 22/50\n",
      "50000/50000 [==============================] - 1s 28us/step - loss: 1.2438 - accuracy: 0.7929 - val_loss: 4.4580 - val_accuracy: 0.4813\n",
      "Epoch 23/50\n",
      "50000/50000 [==============================] - 1s 29us/step - loss: 1.1469 - accuracy: 0.8046 - val_loss: 4.5874 - val_accuracy: 0.4705\n",
      "Epoch 24/50\n",
      "50000/50000 [==============================] - 1s 29us/step - loss: 1.0525 - accuracy: 0.8205 - val_loss: 4.5382 - val_accuracy: 0.4843\n",
      "Epoch 25/50\n",
      "50000/50000 [==============================] - 1s 30us/step - loss: 0.9569 - accuracy: 0.8334 - val_loss: 4.8369 - val_accuracy: 0.4714\n",
      "Epoch 26/50\n",
      "50000/50000 [==============================] - 1s 29us/step - loss: 0.8885 - accuracy: 0.8445 - val_loss: 4.7289 - val_accuracy: 0.4783\n",
      "Epoch 27/50\n",
      "50000/50000 [==============================] - 1s 28us/step - loss: 0.8088 - accuracy: 0.8583 - val_loss: 4.9294 - val_accuracy: 0.4674\n",
      "Epoch 28/50\n",
      "50000/50000 [==============================] - 1s 28us/step - loss: 0.7442 - accuracy: 0.8688 - val_loss: 5.1020 - val_accuracy: 0.4684\n",
      "Epoch 29/50\n",
      "50000/50000 [==============================] - 1s 28us/step - loss: 0.6733 - accuracy: 0.8807 - val_loss: 5.1602 - val_accuracy: 0.4640\n",
      "Epoch 30/50\n",
      "50000/50000 [==============================] - 1s 29us/step - loss: 0.6134 - accuracy: 0.8923 - val_loss: 4.9847 - val_accuracy: 0.4896\n",
      "Epoch 31/50\n",
      "50000/50000 [==============================] - 1s 29us/step - loss: 0.5477 - accuracy: 0.9040 - val_loss: 5.2259 - val_accuracy: 0.4749\n",
      "Epoch 32/50\n",
      "50000/50000 [==============================] - 1s 29us/step - loss: 0.4931 - accuracy: 0.9152 - val_loss: 5.5795 - val_accuracy: 0.4591\n",
      "Epoch 33/50\n",
      "50000/50000 [==============================] - 2s 30us/step - loss: 0.4444 - accuracy: 0.9231 - val_loss: 5.2494 - val_accuracy: 0.4796\n",
      "Epoch 34/50\n",
      "50000/50000 [==============================] - 1s 30us/step - loss: 0.4020 - accuracy: 0.9308 - val_loss: 5.3778 - val_accuracy: 0.4760\n",
      "Epoch 35/50\n",
      "50000/50000 [==============================] - 1s 30us/step - loss: 0.3649 - accuracy: 0.9365 - val_loss: 5.4476 - val_accuracy: 0.4810\n",
      "Epoch 36/50\n",
      "50000/50000 [==============================] - 1s 29us/step - loss: 0.3224 - accuracy: 0.9477 - val_loss: 5.5840 - val_accuracy: 0.4819\n",
      "Epoch 37/50\n",
      "50000/50000 [==============================] - 1s 29us/step - loss: 0.2901 - accuracy: 0.9527 - val_loss: 5.6952 - val_accuracy: 0.4748\n",
      "Epoch 38/50\n",
      "50000/50000 [==============================] - 1s 29us/step - loss: 0.2647 - accuracy: 0.9583 - val_loss: 5.7135 - val_accuracy: 0.4791\n",
      "Epoch 39/50\n",
      "50000/50000 [==============================] - 1s 30us/step - loss: 0.2356 - accuracy: 0.9643 - val_loss: 5.7156 - val_accuracy: 0.4732\n",
      "Epoch 40/50\n",
      "50000/50000 [==============================] - 1s 30us/step - loss: 0.2055 - accuracy: 0.9707 - val_loss: 5.8319 - val_accuracy: 0.4828\n",
      "Epoch 41/50\n",
      "50000/50000 [==============================] - 2s 30us/step - loss: 0.1815 - accuracy: 0.9758 - val_loss: 5.8898 - val_accuracy: 0.4814\n",
      "Epoch 42/50\n",
      "50000/50000 [==============================] - 2s 33us/step - loss: 0.1625 - accuracy: 0.9794 - val_loss: 6.0772 - val_accuracy: 0.4742\n",
      "Epoch 43/50\n",
      "50000/50000 [==============================] - 2s 31us/step - loss: 0.1527 - accuracy: 0.9804 - val_loss: 6.0468 - val_accuracy: 0.4756\n",
      "Epoch 44/50\n",
      "50000/50000 [==============================] - 2s 31us/step - loss: 0.1365 - accuracy: 0.9841 - val_loss: 6.0344 - val_accuracy: 0.4789\n",
      "Epoch 45/50\n",
      "50000/50000 [==============================] - 2s 32us/step - loss: 0.1210 - accuracy: 0.9872 - val_loss: 6.1189 - val_accuracy: 0.4776\n",
      "Epoch 46/50\n"
     ]
    },
    {
     "name": "stdout",
     "output_type": "stream",
     "text": [
      "50000/50000 [==============================] - 2s 32us/step - loss: 0.1110 - accuracy: 0.9882 - val_loss: 6.1742 - val_accuracy: 0.4830\n",
      "Epoch 47/50\n",
      "50000/50000 [==============================] - 2s 31us/step - loss: 0.0998 - accuracy: 0.9901 - val_loss: 6.2002 - val_accuracy: 0.4799\n",
      "Epoch 48/50\n",
      "50000/50000 [==============================] - 2s 30us/step - loss: 0.0887 - accuracy: 0.9929 - val_loss: 6.4020 - val_accuracy: 0.4731\n",
      "Epoch 49/50\n",
      "50000/50000 [==============================] - 2s 30us/step - loss: 0.0806 - accuracy: 0.9942 - val_loss: 6.4234 - val_accuracy: 0.4803\n",
      "Epoch 50/50\n",
      "50000/50000 [==============================] - 2s 31us/step - loss: 0.0754 - accuracy: 0.9941 - val_loss: 6.3646 - val_accuracy: 0.4809\n"
     ]
    },
    {
     "ename": "KeyError",
     "evalue": "'val_f1sc'",
     "output_type": "error",
     "traceback": [
      "\u001b[1;31m---------------------------------------------------------------------------\u001b[0m",
      "\u001b[1;31mKeyError\u001b[0m                                  Traceback (most recent call last)",
      "\u001b[1;32m<ipython-input-11-789eed18c614>\u001b[0m in \u001b[0;36m<module>\u001b[1;34m\u001b[0m\n\u001b[0;32m     20\u001b[0m \u001b[0mvalid_acc\u001b[0m \u001b[1;33m=\u001b[0m \u001b[0mmodel\u001b[0m\u001b[1;33m.\u001b[0m\u001b[0mhistory\u001b[0m\u001b[1;33m.\u001b[0m\u001b[0mhistory\u001b[0m\u001b[1;33m[\u001b[0m\u001b[1;34m\"val_accuracy\"\u001b[0m\u001b[1;33m]\u001b[0m\u001b[1;33m\u001b[0m\u001b[1;33m\u001b[0m\u001b[0m\n\u001b[0;32m     21\u001b[0m \u001b[1;33m\u001b[0m\u001b[0m\n\u001b[1;32m---> 22\u001b[1;33m \u001b[0mvalid_f1sc\u001b[0m \u001b[1;33m=\u001b[0m \u001b[0mmodel\u001b[0m\u001b[1;33m.\u001b[0m\u001b[0mhistory\u001b[0m\u001b[1;33m.\u001b[0m\u001b[0mhistory\u001b[0m\u001b[1;33m[\u001b[0m\u001b[1;34m'val_f1sc'\u001b[0m\u001b[1;33m]\u001b[0m\u001b[1;33m\u001b[0m\u001b[1;33m\u001b[0m\u001b[0m\n\u001b[0m",
      "\u001b[1;31mKeyError\u001b[0m: 'val_f1sc'"
     ]
    }
   ],
   "source": [
    "model = build_mlp(input_shape=x_train.shape[1:])\n",
    "model.summary()\n",
    "optimizer = keras.optimizers.SGD(lr=LEARNING_RATE, nesterov=True, momentum=MOMENTUM)\n",
    "\"\"\"\n",
    "# 在 compile 時，使用自定義的 loss function\n",
    "\"\"\"\n",
    "model.compile(loss=focal_loss(), metrics=[\"accuracy\"], optimizer=optimizer)\n",
    "\n",
    "model.fit(x_train, y_train, \n",
    "          epochs=EPOCHS, \n",
    "          batch_size=BATCH_SIZE, \n",
    "          validation_data=(x_test, y_test), \n",
    "          shuffle=True\n",
    "         )\n",
    "\n",
    "# Collect results\n",
    "train_loss = model.history.history[\"loss\"]\n",
    "valid_loss = model.history.history[\"val_loss\"]\n",
    "train_acc = model.history.history[\"accuracy\"]\n",
    "valid_acc = model.history.history[\"val_accuracy\"]\n",
    "\n",
    "#valid_f1sc = model.history.history['val_f1sc']"
   ]
  },
  {
   "cell_type": "code",
   "execution_count": 12,
   "metadata": {},
   "outputs": [
    {
     "data": {
      "image/png": "[encoded data removed]",
      "text/plain": [
       "<Figure size 432x288 with 1 Axes>"
      ]
     },
     "metadata": {
      "needs_background": "light"
     },
     "output_type": "display_data"
    },
    {
     "data": {
      "image/png": "[encoded data removed]",
      "text/plain": [
       "<Figure size 432x288 with 1 Axes>"
      ]
     },
     "metadata": {
      "needs_background": "light"
     },
     "output_type": "display_data"
    }
   ],
   "source": [
    "import matplotlib.pyplot as plt\n",
    "%matplotlib inline\n",
    "\n",
    "plt.plot(range(len(train_loss)), train_loss, label=\"train loss\")\n",
    "plt.plot(range(len(valid_loss)), valid_loss, label=\"valid loss\")\n",
    "plt.legend()\n",
    "plt.title(\"Loss\")\n",
    "plt.show()\n",
    "\n",
    "plt.plot(range(len(train_acc)), train_acc, label=\"train accuracy\")\n",
    "plt.plot(range(len(valid_acc)), valid_acc, label=\"valid accuracy\")\n",
    "plt.legend()\n",
    "plt.title(\"Accuracy\")\n",
    "plt.show()"
   ]
  },
  {
   "cell_type": "markdown",
   "metadata": {},
   "source": [
    "## Work\n",
    "1. 請自行定義一個 loss function, 為 0.3 * focal loss + 0.7 cross-entropy，訓練並比較結果\n"
   ]
  }
 ],
 "metadata": {
  "kernelspec": {
   "display_name": "Python 3",
   "language": "python",
   "name": "python3"
  },
  "language_info": {
   "codemirror_mode": {
    "name": "ipython",
    "version": 3
   },
   "file_extension": ".py",
   "mimetype": "text/x-python",
   "name": "python",
   "nbconvert_exporter": "python",
   "pygments_lexer": "ipython3",
   "version": "3.7.7"
  }
 },
 "nbformat": 4,
 "nbformat_minor": 2
}
