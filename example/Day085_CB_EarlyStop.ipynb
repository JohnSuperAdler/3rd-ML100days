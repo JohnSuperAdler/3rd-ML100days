{
 "cells": [
  {
   "cell_type": "markdown",
   "metadata": {},
   "source": [
    "## 範例重點\n",
    "* 學習如何在 keras 中加入 EarlyStop\n",
    "* 知道如何設定監控目標\n",
    "* 比較有無 earlystopping 對 validation 的影響"
   ]
  },
  {
   "cell_type": "code",
   "execution_count": 1,
   "metadata": {},
   "outputs": [
    {
     "name": "stderr",
     "output_type": "stream",
     "text": [
      "Using TensorFlow backend.\n"
     ]
    }
   ],
   "source": [
    "import os\n",
    "import keras\n",
    "\n",
    "# 本範例不需使用 GPU, 將 GPU 設定為 \"無\"\n",
    "os.environ[\"CUDA_VISIBLE_DEVICES\"] = \"\""
   ]
  },
  {
   "cell_type": "code",
   "execution_count": 2,
   "metadata": {},
   "outputs": [],
   "source": [
    "train, test = keras.datasets.cifar10.load_data()"
   ]
  },
  {
   "cell_type": "code",
   "execution_count": 3,
   "metadata": {},
   "outputs": [],
   "source": [
    "## 資料前處理\n",
    "def preproc_x(x, flatten=True):\n",
    "    x = x / 255.\n",
    "    if flatten:\n",
    "        x = x.reshape((len(x), -1))\n",
    "    return x\n",
    "\n",
    "def preproc_y(y, num_classes=10):\n",
    "    if y.shape[-1] == 1:\n",
    "        y = keras.utils.to_categorical(y, num_classes)\n",
    "    return y    "
   ]
  },
  {
   "cell_type": "code",
   "execution_count": 4,
   "metadata": {},
   "outputs": [],
   "source": [
    "x_train, y_train = train\n",
    "x_test, y_test = test\n",
    "\n",
    "# 資料前處理 - X 標準化\n",
    "x_train = preproc_x(x_train)\n",
    "x_test = preproc_x(x_test)\n",
    "\n",
    "# 資料前處理 -Y 轉成 onehot\n",
    "y_train = preproc_y(y_train)\n",
    "y_test = preproc_y(y_test)"
   ]
  },
  {
   "cell_type": "code",
   "execution_count": 5,
   "metadata": {},
   "outputs": [],
   "source": [
    "from keras.layers import BatchNormalization\n",
    "\n",
    "\"\"\"\n",
    "建立神經網路，並加入 BN layer\n",
    "\"\"\"\n",
    "def build_mlp(input_shape, output_units=10, num_neurons=[512, 256, 128]):\n",
    "    input_layer = keras.layers.Input(input_shape)\n",
    "    \n",
    "    for i, n_units in enumerate(num_neurons):\n",
    "        if i == 0:\n",
    "            x = keras.layers.Dense(units=n_units, \n",
    "                                   activation=\"relu\", \n",
    "                                   name=\"hidden_layer\"+str(i+1))(input_layer)\n",
    "            x = BatchNormalization()(x)\n",
    "        else:\n",
    "            x = keras.layers.Dense(units=n_units, \n",
    "                                   activation=\"relu\", \n",
    "                                   name=\"hidden_layer\"+str(i+1))(x)\n",
    "            x = BatchNormalization()(x)\n",
    "    \n",
    "    out = keras.layers.Dense(units=output_units, activation=\"softmax\", name=\"output\")(x)\n",
    "    \n",
    "    model = keras.models.Model(inputs=[input_layer], outputs=[out])\n",
    "    return model"
   ]
  },
  {
   "cell_type": "code",
   "execution_count": 6,
   "metadata": {},
   "outputs": [],
   "source": [
    "## 超參數設定\n",
    "LEARNING_RATE = 1e-3\n",
    "EPOCHS = 50\n",
    "BATCH_SIZE = 1024\n",
    "MOMENTUM = 0.95"
   ]
  },
  {
   "cell_type": "code",
   "execution_count": 7,
   "metadata": {},
   "outputs": [],
   "source": [
    "\"\"\"\n",
    "# 載入 Callbacks, 並將 monitor 設定為監控 validation loss\n",
    "\"\"\"\n",
    "from keras.callbacks import EarlyStopping\n",
    "\n",
    "earlystop = EarlyStopping(monitor=\"val_loss\", \n",
    "                          patience=5, \n",
    "                          verbose=1\n",
    "                          )"
   ]
  },
  {
   "cell_type": "code",
   "execution_count": 8,
   "metadata": {
    "scrolled": true
   },
   "outputs": [
    {
     "name": "stdout",
     "output_type": "stream",
     "text": [
      "Model: \"model_1\"\n",
      "_________________________________________________________________\n",
      "Layer (type)                 Output Shape              Param #   \n",
      "=================================================================\n",
      "input_1 (InputLayer)         (None, 3072)              0         \n",
      "_________________________________________________________________\n",
      "hidden_layer1 (Dense)        (None, 512)               1573376   \n",
      "_________________________________________________________________\n",
      "batch_normalization_1 (Batch (None, 512)               2048      \n",
      "_________________________________________________________________\n",
      "hidden_layer2 (Dense)        (None, 256)               131328    \n",
      "_________________________________________________________________\n",
      "batch_normalization_2 (Batch (None, 256)               1024      \n",
      "_________________________________________________________________\n",
      "hidden_layer3 (Dense)        (None, 128)               32896     \n",
      "_________________________________________________________________\n",
      "batch_normalization_3 (Batch (None, 128)               512       \n",
      "_________________________________________________________________\n",
      "output (Dense)               (None, 10)                1290      \n",
      "=================================================================\n",
      "Total params: 1,742,474\n",
      "Trainable params: 1,740,682\n",
      "Non-trainable params: 1,792\n",
      "_________________________________________________________________\n",
      "Train on 50000 samples, validate on 10000 samples\n",
      "Epoch 1/50\n",
      "50000/50000 [==============================] - 3s 65us/step - loss: 2.2083 - accuracy: 0.2724 - val_loss: 2.1347 - val_accuracy: 0.2124\n",
      "Epoch 2/50\n",
      "50000/50000 [==============================] - 2s 49us/step - loss: 1.7545 - accuracy: 0.3933 - val_loss: 1.9745 - val_accuracy: 0.2981\n",
      "Epoch 3/50\n",
      "50000/50000 [==============================] - 3s 51us/step - loss: 1.6244 - accuracy: 0.4336 - val_loss: 1.8324 - val_accuracy: 0.3684\n",
      "Epoch 4/50\n",
      "50000/50000 [==============================] - 2s 50us/step - loss: 1.5463 - accuracy: 0.4624 - val_loss: 1.7323 - val_accuracy: 0.4032\n",
      "Epoch 5/50\n",
      "50000/50000 [==============================] - 3s 51us/step - loss: 1.4893 - accuracy: 0.4821 - val_loss: 1.6530 - val_accuracy: 0.4251\n",
      "Epoch 6/50\n",
      "50000/50000 [==============================] - 2s 49us/step - loss: 1.4432 - accuracy: 0.4988 - val_loss: 1.5881 - val_accuracy: 0.4420\n",
      "Epoch 7/50\n",
      "50000/50000 [==============================] - 3s 50us/step - loss: 1.4021 - accuracy: 0.5124 - val_loss: 1.5591 - val_accuracy: 0.4489\n",
      "Epoch 8/50\n",
      "50000/50000 [==============================] - 2s 49us/step - loss: 1.3667 - accuracy: 0.5252 - val_loss: 1.5330 - val_accuracy: 0.4575\n",
      "Epoch 9/50\n",
      "50000/50000 [==============================] - 3s 50us/step - loss: 1.3372 - accuracy: 0.5360 - val_loss: 1.5053 - val_accuracy: 0.4683\n",
      "Epoch 10/50\n",
      "50000/50000 [==============================] - 2s 49us/step - loss: 1.3056 - accuracy: 0.5466 - val_loss: 1.4850 - val_accuracy: 0.4750\n",
      "Epoch 11/50\n",
      "50000/50000 [==============================] - 3s 50us/step - loss: 1.2780 - accuracy: 0.5576 - val_loss: 1.4995 - val_accuracy: 0.4680\n",
      "Epoch 12/50\n",
      "50000/50000 [==============================] - 2s 50us/step - loss: 1.2518 - accuracy: 0.5670 - val_loss: 1.4839 - val_accuracy: 0.4772\n",
      "Epoch 13/50\n",
      "50000/50000 [==============================] - 3s 51us/step - loss: 1.2263 - accuracy: 0.5767 - val_loss: 1.4705 - val_accuracy: 0.4787\n",
      "Epoch 14/50\n",
      "50000/50000 [==============================] - 3s 51us/step - loss: 1.2027 - accuracy: 0.5861 - val_loss: 1.4712 - val_accuracy: 0.4832\n",
      "Epoch 15/50\n",
      "50000/50000 [==============================] - 3s 51us/step - loss: 1.1785 - accuracy: 0.5949 - val_loss: 1.4606 - val_accuracy: 0.4814\n",
      "Epoch 16/50\n",
      "50000/50000 [==============================] - 2s 50us/step - loss: 1.1540 - accuracy: 0.6051 - val_loss: 1.4554 - val_accuracy: 0.4867\n",
      "Epoch 17/50\n",
      "50000/50000 [==============================] - 3s 50us/step - loss: 1.1313 - accuracy: 0.6143 - val_loss: 1.4491 - val_accuracy: 0.4878\n",
      "Epoch 18/50\n",
      "50000/50000 [==============================] - 2s 49us/step - loss: 1.1084 - accuracy: 0.6227 - val_loss: 1.4592 - val_accuracy: 0.4884\n",
      "Epoch 19/50\n",
      "50000/50000 [==============================] - 3s 50us/step - loss: 1.0875 - accuracy: 0.6296 - val_loss: 1.4579 - val_accuracy: 0.4845\n",
      "Epoch 20/50\n",
      "50000/50000 [==============================] - 2s 49us/step - loss: 1.0662 - accuracy: 0.6385 - val_loss: 1.4647 - val_accuracy: 0.4879\n",
      "Epoch 21/50\n",
      "50000/50000 [==============================] - 2s 50us/step - loss: 1.0455 - accuracy: 0.6475 - val_loss: 1.4614 - val_accuracy: 0.4847\n",
      "Epoch 22/50\n",
      "50000/50000 [==============================] - 2s 49us/step - loss: 1.0225 - accuracy: 0.6573 - val_loss: 1.4698 - val_accuracy: 0.4866\n",
      "Epoch 00022: early stopping\n"
     ]
    }
   ],
   "source": [
    "model = build_mlp(input_shape=x_train.shape[1:])\n",
    "model.summary()\n",
    "optimizer = keras.optimizers.SGD(lr=LEARNING_RATE, nesterov=True, momentum=MOMENTUM)\n",
    "model.compile(loss=\"categorical_crossentropy\", metrics=[\"accuracy\"], optimizer=optimizer)\n",
    "\n",
    "model.fit(x_train, y_train, \n",
    "          epochs=EPOCHS, \n",
    "          batch_size=BATCH_SIZE, \n",
    "          validation_data=(x_test, y_test), \n",
    "          shuffle=True,\n",
    "          callbacks=[earlystop]\n",
    "         )\n",
    "\n",
    "# Collect results\n",
    "train_loss = model.history.history[\"loss\"]\n",
    "valid_loss = model.history.history[\"val_loss\"]\n",
    "train_acc = model.history.history[\"accuracy\"]\n",
    "valid_acc = model.history.history[\"val_accuracy\"]"
   ]
  },
  {
   "cell_type": "code",
   "execution_count": 9,
   "metadata": {},
   "outputs": [
    {
     "data": {
      "image/png": "[encoded data removed]",
      "text/plain": [
       "<Figure size 432x288 with 1 Axes>"
      ]
     },
     "metadata": {
      "needs_background": "light"
     },
     "output_type": "display_data"
    },
    {
     "data": {
      "image/png": "[encoded data removed]",
      "text/plain": [
       "<Figure size 432x288 with 1 Axes>"
      ]
     },
     "metadata": {
      "needs_background": "light"
     },
     "output_type": "display_data"
    }
   ],
   "source": [
    "import matplotlib.pyplot as plt\n",
    "%matplotlib inline\n",
    "\n",
    "plt.plot(range(len(train_loss)), train_loss, label=\"train loss\")\n",
    "plt.plot(range(len(valid_loss)), valid_loss, label=\"valid loss\")\n",
    "plt.legend()\n",
    "plt.title(\"Loss\")\n",
    "plt.show()\n",
    "\n",
    "plt.plot(range(len(train_acc)), train_acc, label=\"train accuracy\")\n",
    "plt.plot(range(len(valid_acc)), valid_acc, label=\"valid accuracy\")\n",
    "plt.legend()\n",
    "plt.title(\"Accuracy\")\n",
    "plt.show()"
   ]
  },
  {
   "cell_type": "markdown",
   "metadata": {},
   "source": [
    "## Work\n",
    "1. 試改變 monitor \"Validation Accuracy\" 並比較結果\n",
    "2. 調整 earlystop 的等待次數至 10, 25 並比較結果"
   ]
  }
 ],
 "metadata": {
  "kernelspec": {
   "display_name": "Python 3",
   "language": "python",
   "name": "python3"
  },
  "language_info": {
   "codemirror_mode": {
    "name": "ipython",
    "version": 3
   },
   "file_extension": ".py",
   "mimetype": "text/x-python",
   "name": "python",
   "nbconvert_exporter": "python",
   "pygments_lexer": "ipython3",
   "version": "3.7.7"
  }
 },
 "nbformat": 4,
 "nbformat_minor": 2
}
