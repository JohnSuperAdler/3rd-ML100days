{
 "cells": [
  {
   "cell_type": "markdown",
   "metadata": {},
   "source": [
    "## Work\n",
    "1. 請自行定義一個 loss function, 為 0.3 * focal loss + 0.7 cross-entropy，訓練並比較結果\n"
   ]
  },
  {
   "cell_type": "code",
   "execution_count": 1,
   "metadata": {},
   "outputs": [
    {
     "name": "stderr",
     "output_type": "stream",
     "text": [
      "Using TensorFlow backend.\n"
     ]
    }
   ],
   "source": [
    "import os\n",
    "import keras\n",
    "\n",
    "# Disable GPU\n",
    "#os.environ[\"CUDA_VISIBLE_DEVICES\"] = \"\""
   ]
  },
  {
   "cell_type": "code",
   "execution_count": 2,
   "metadata": {},
   "outputs": [],
   "source": [
    "train, test = keras.datasets.cifar10.load_data()"
   ]
  },
  {
   "cell_type": "code",
   "execution_count": 3,
   "metadata": {},
   "outputs": [],
   "source": [
    "## 資料前處理\n",
    "def preproc_x(x, flatten=True):\n",
    "    x = x / 255.\n",
    "    if flatten:\n",
    "        x = x.reshape((len(x), -1))\n",
    "    return x\n",
    "\n",
    "def preproc_y(y, num_classes=10):\n",
    "    if y.shape[-1] == 1:\n",
    "        y = keras.utils.to_categorical(y, num_classes)\n",
    "    return y    "
   ]
  },
  {
   "cell_type": "code",
   "execution_count": 4,
   "metadata": {},
   "outputs": [],
   "source": [
    "x_train, y_train = train\n",
    "x_test, y_test = test\n",
    "\n",
    "# Preproc the inputs\n",
    "x_train = preproc_x(x_train)\n",
    "x_test = preproc_x(x_test)\n",
    "\n",
    "# Preprc the outputs\n",
    "y_train = preproc_y(y_train)\n",
    "y_test = preproc_y(y_test)"
   ]
  },
  {
   "cell_type": "code",
   "execution_count": 5,
   "metadata": {},
   "outputs": [],
   "source": [
    "from keras.layers import BatchNormalization\n",
    "\n",
    "\"\"\"\n",
    "建立神經網路，並加入 BN layer\n",
    "\"\"\"\n",
    "def build_mlp(input_shape, output_units=10, num_neurons=[512, 256, 128]):\n",
    "    input_layer = keras.layers.Input(input_shape)\n",
    "    for i, n_units in enumerate(num_neurons):\n",
    "        if i == 0:\n",
    "            x = keras.layers.Dense(units=n_units, \n",
    "                                   activation=\"relu\", \n",
    "                                   name=\"hidden_layer\"+str(i+1))(input_layer)\n",
    "            x = BatchNormalization()(x)\n",
    "        else:\n",
    "            x = keras.layers.Dense(units=n_units, \n",
    "                                   activation=\"relu\", \n",
    "                                   name=\"hidden_layer\"+str(i+1))(x)\n",
    "            x = BatchNormalization()(x)\n",
    "    out = keras.layers.Dense(units=output_units, activation=\"softmax\", name=\"output\")(x)\n",
    "    model = keras.models.Model(inputs=[input_layer], outputs=[out])\n",
    "    return model"
   ]
  },
  {
   "cell_type": "code",
   "execution_count": 6,
   "metadata": {},
   "outputs": [],
   "source": [
    "## 超參數設定\n",
    "LEARNING_RATE = 1e-3\n",
    "EPOCHS = 25\n",
    "BATCH_SIZE = 1024\n",
    "MOMENTUM = 0.95"
   ]
  },
  {
   "cell_type": "code",
   "execution_count": 7,
   "metadata": {},
   "outputs": [],
   "source": [
    "import tensorflow as tf\n",
    "import keras.backend as K\n",
    "import math\n",
    "\n",
    "\"\"\"Code Here\n",
    "撰寫一個 loss function, 使其可以結合 focal loss 與 crossentropy loss\n",
    "\"\"\"\n",
    "def combined_loss(gamma=2., alpha=4., ce_weights=0.7, fcl_weights=0.3):\n",
    "    gamma = float(gamma)\n",
    "    alpha = float(alpha)\n",
    "    def CE_focal_loss(y_true, y_pred):\n",
    "        \"\"\"Focal loss for multi-classification\n",
    "        FL(p_t)=-alpha(1-p_t)^{gamma}ln(p_t)\n",
    "        \"\"\"\n",
    "        epsilon = 1e-8\n",
    "        y_true = tf.convert_to_tensor(y_true, tf.float32)\n",
    "        y_pred = tf.convert_to_tensor(y_pred, tf.float32)\n",
    "\n",
    "        model_out = tf.add(y_pred, epsilon)\n",
    "        ce = tf.multiply(y_true, -tf.math.log(model_out))\n",
    "        weight = tf.multiply(y_true, tf.pow(tf.subtract(1., model_out), gamma))\n",
    "        fl = tf.multiply(alpha, tf.multiply(weight, ce))\n",
    "        reduced_fl = tf.reduce_max(fl, axis=1)\n",
    "        \n",
    "        ce_loss = keras.losses.categorical_crossentropy(y_true, y_pred)\n",
    "        return (ce_weights*ce_loss) + (fcl_weights*tf.reduce_mean(reduced_fl) )\n",
    "    return CE_focal_loss"
   ]
  },
  {
   "cell_type": "code",
   "execution_count": 8,
   "metadata": {},
   "outputs": [
    {
     "name": "stdout",
     "output_type": "stream",
     "text": [
      "Model: \"model_1\"\n",
      "_________________________________________________________________\n",
      "Layer (type)                 Output Shape              Param #   \n",
      "=================================================================\n",
      "input_1 (InputLayer)         (None, 3072)              0         \n",
      "_________________________________________________________________\n",
      "hidden_layer1 (Dense)        (None, 512)               1573376   \n",
      "_________________________________________________________________\n",
      "batch_normalization_1 (Batch (None, 512)               2048      \n",
      "_________________________________________________________________\n",
      "hidden_layer2 (Dense)        (None, 256)               131328    \n",
      "_________________________________________________________________\n",
      "batch_normalization_2 (Batch (None, 256)               1024      \n",
      "_________________________________________________________________\n",
      "hidden_layer3 (Dense)        (None, 128)               32896     \n",
      "_________________________________________________________________\n",
      "batch_normalization_3 (Batch (None, 128)               512       \n",
      "_________________________________________________________________\n",
      "output (Dense)               (None, 10)                1290      \n",
      "=================================================================\n",
      "Total params: 1,742,474\n",
      "Trainable params: 1,740,682\n",
      "Non-trainable params: 1,792\n",
      "_________________________________________________________________\n",
      "Train on 50000 samples, validate on 10000 samples\n",
      "Epoch 1/25\n",
      "50000/50000 [==============================] - 2s 41us/step - loss: 3.4198 - accuracy: 0.3023 - val_loss: 3.4966 - val_accuracy: 0.2006\n",
      "Epoch 2/25\n",
      "50000/50000 [==============================] - 1s 29us/step - loss: 2.5908 - accuracy: 0.4133 - val_loss: 3.0864 - val_accuracy: 0.3014\n",
      "Epoch 3/25\n",
      "50000/50000 [==============================] - 1s 29us/step - loss: 2.3768 - accuracy: 0.4561 - val_loss: 2.7650 - val_accuracy: 0.3783\n",
      "Epoch 4/25\n",
      "50000/50000 [==============================] - 1s 30us/step - loss: 2.2404 - accuracy: 0.4831 - val_loss: 2.6002 - val_accuracy: 0.4084\n",
      "Epoch 5/25\n",
      "50000/50000 [==============================] - 1s 29us/step - loss: 2.1376 - accuracy: 0.5033 - val_loss: 2.4381 - val_accuracy: 0.4390\n",
      "Epoch 6/25\n",
      "50000/50000 [==============================] - 1s 29us/step - loss: 2.0509 - accuracy: 0.5239 - val_loss: 2.3796 - val_accuracy: 0.4431\n",
      "Epoch 7/25\n",
      "50000/50000 [==============================] - 1s 28us/step - loss: 1.9788 - accuracy: 0.5382 - val_loss: 2.3254 - val_accuracy: 0.4572\n",
      "Epoch 8/25\n",
      "50000/50000 [==============================] - 1s 29us/step - loss: 1.9096 - accuracy: 0.5535 - val_loss: 2.2517 - val_accuracy: 0.4707\n",
      "Epoch 9/25\n",
      "50000/50000 [==============================] - 1s 28us/step - loss: 1.8440 - accuracy: 0.5667 - val_loss: 2.2374 - val_accuracy: 0.4795\n",
      "Epoch 10/25\n",
      "50000/50000 [==============================] - 1s 29us/step - loss: 1.7859 - accuracy: 0.5797 - val_loss: 2.2105 - val_accuracy: 0.4782\n",
      "Epoch 11/25\n",
      "50000/50000 [==============================] - 1s 29us/step - loss: 1.7264 - accuracy: 0.5915 - val_loss: 2.1927 - val_accuracy: 0.4834\n",
      "Epoch 12/25\n",
      "50000/50000 [==============================] - 1s 29us/step - loss: 1.6739 - accuracy: 0.6048 - val_loss: 2.2118 - val_accuracy: 0.4836\n",
      "Epoch 13/25\n",
      "50000/50000 [==============================] - 1s 29us/step - loss: 1.6189 - accuracy: 0.6150 - val_loss: 2.1663 - val_accuracy: 0.4918\n",
      "Epoch 14/25\n",
      "50000/50000 [==============================] - 1s 29us/step - loss: 1.5694 - accuracy: 0.6283 - val_loss: 2.1591 - val_accuracy: 0.4945\n",
      "Epoch 15/25\n",
      "50000/50000 [==============================] - 1s 29us/step - loss: 1.5174 - accuracy: 0.6402 - val_loss: 2.1721 - val_accuracy: 0.4996\n",
      "Epoch 16/25\n",
      "50000/50000 [==============================] - 1s 29us/step - loss: 1.4665 - accuracy: 0.6501 - val_loss: 2.1981 - val_accuracy: 0.4895\n",
      "Epoch 17/25\n",
      "50000/50000 [==============================] - 1s 29us/step - loss: 1.4215 - accuracy: 0.6613 - val_loss: 2.1909 - val_accuracy: 0.4951\n",
      "Epoch 18/25\n",
      "50000/50000 [==============================] - 1s 29us/step - loss: 1.3758 - accuracy: 0.6718 - val_loss: 2.1956 - val_accuracy: 0.4940\n",
      "Epoch 19/25\n",
      "50000/50000 [==============================] - 1s 29us/step - loss: 1.3246 - accuracy: 0.6832 - val_loss: 2.2033 - val_accuracy: 0.4927\n",
      "Epoch 20/25\n",
      "50000/50000 [==============================] - 1s 29us/step - loss: 1.2832 - accuracy: 0.6922 - val_loss: 2.2252 - val_accuracy: 0.4942\n",
      "Epoch 21/25\n",
      "50000/50000 [==============================] - 1s 29us/step - loss: 1.2392 - accuracy: 0.7040 - val_loss: 2.2430 - val_accuracy: 0.4910\n",
      "Epoch 22/25\n",
      "50000/50000 [==============================] - 1s 29us/step - loss: 1.1923 - accuracy: 0.7133 - val_loss: 2.2402 - val_accuracy: 0.4918\n",
      "Epoch 23/25\n",
      "50000/50000 [==============================] - 1s 29us/step - loss: 1.1520 - accuracy: 0.7234 - val_loss: 2.2636 - val_accuracy: 0.4979\n",
      "Epoch 24/25\n",
      "50000/50000 [==============================] - 1s 29us/step - loss: 1.1075 - accuracy: 0.7342 - val_loss: 2.3019 - val_accuracy: 0.4906\n",
      "Epoch 25/25\n",
      "50000/50000 [==============================] - 1s 29us/step - loss: 1.0630 - accuracy: 0.7466 - val_loss: 2.3365 - val_accuracy: 0.4887\n"
     ]
    },
    {
     "data": {
      "text/plain": [
       "<keras.callbacks.callbacks.History at 0x23f4349bf88>"
      ]
     },
     "execution_count": 8,
     "metadata": {},
     "output_type": "execute_result"
    }
   ],
   "source": [
    "model = build_mlp(input_shape=x_train.shape[1:])\n",
    "model.summary()\n",
    "optimizer = keras.optimizers.SGD(lr=LEARNING_RATE, nesterov=True, momentum=MOMENTUM)\n",
    "\"\"\"Code Here\n",
    "將自定義的 loss function 加入模型\n",
    "\"\"\"\n",
    "model.compile(loss=combined_loss(), metrics=[\"accuracy\"], optimizer=optimizer)\n",
    "model.fit(x_train, y_train, \n",
    "          epochs=EPOCHS, \n",
    "          batch_size=BATCH_SIZE, \n",
    "          validation_data=(x_test, y_test), \n",
    "          shuffle=True)"
   ]
  },
  {
   "cell_type": "code",
   "execution_count": 9,
   "metadata": {},
   "outputs": [],
   "source": [
    "train_loss = model.history.history[\"loss\"]\n",
    "valid_loss = model.history.history[\"val_loss\"]\n",
    "train_acc = model.history.history[\"accuracy\"]\n",
    "valid_acc = model.history.history[\"val_accuracy\"]"
   ]
  },
  {
   "cell_type": "code",
   "execution_count": 10,
   "metadata": {},
   "outputs": [
    {
     "data": {
      "image/png": "[encoded data removed]",
      "text/plain": [
       "<Figure size 432x288 with 1 Axes>"
      ]
     },
     "metadata": {
      "needs_background": "light"
     },
     "output_type": "display_data"
    },
    {
     "data": {
      "image/png": "[encoded data removed]",
      "text/plain": [
       "<Figure size 432x288 with 1 Axes>"
      ]
     },
     "metadata": {
      "needs_background": "light"
     },
     "output_type": "display_data"
    }
   ],
   "source": [
    "import matplotlib.pyplot as plt\n",
    "%matplotlib inline\n",
    "\n",
    "plt.plot(range(len(train_loss)), train_loss, label=\"train loss\")\n",
    "plt.plot(range(len(valid_loss)), valid_loss, label=\"valid loss\")\n",
    "plt.legend()\n",
    "plt.title(\"Loss\")\n",
    "plt.show()\n",
    "\n",
    "plt.plot(range(len(train_acc)), train_acc, label=\"train accuracy\")\n",
    "plt.plot(range(len(valid_acc)), valid_acc, label=\"valid accuracy\")\n",
    "plt.legend()\n",
    "plt.title(\"Accuracy\")\n",
    "plt.show()"
   ]
  }
 ],
 "metadata": {
  "kernelspec": {
   "display_name": "Python 3",
   "language": "python",
   "name": "python3"
  },
  "language_info": {
   "codemirror_mode": {
    "name": "ipython",
    "version": 3
   },
   "file_extension": ".py",
   "mimetype": "text/x-python",
   "name": "python",
   "nbconvert_exporter": "python",
   "pygments_lexer": "ipython3",
   "version": "3.7.7"
  }
 },
 "nbformat": 4,
 "nbformat_minor": 2
}
