{
 "cells": [
  {
   "cell_type": "markdown",
   "metadata": {},
   "source": [
    "## Generator 可以使用 next 來進行循環中的一步\n",
    "文字上有點難解釋，直接來看範例就能了解什麼是 Generator!"
   ]
  },
  {
   "cell_type": "markdown",
   "metadata": {},
   "source": [
    "## 作業"
   ]
  },
  {
   "cell_type": "markdown",
   "metadata": {},
   "source": [
    "請參考昨天的程式碼，將訓練資料讀取方式改寫成 Generator，並將原本的 model.fit 改為 model.fit_generator 來進行訓練。請參考 Keras [官方文件中 fit_generator 的說明](https://keras.io/models/sequential/)"
   ]
  },
  {
   "cell_type": "code",
   "execution_count": 1,
   "metadata": {},
   "outputs": [],
   "source": [
    "import keras\n",
    "from keras.datasets import cifar10\n",
    "from keras.preprocessing.image import ImageDataGenerator\n",
    "from keras.models import Sequential\n",
    "from keras.layers import Dense, Dropout, Activation, Flatten\n",
    "from keras.layers import Conv2D, MaxPooling2D\n",
    "from keras.optimizers import RMSprop, Adam\n",
    "import os"
   ]
  },
  {
   "cell_type": "code",
   "execution_count": 2,
   "metadata": {},
   "outputs": [
    {
     "name": "stdout",
     "output_type": "stream",
     "text": [
      "x_train shape: (50000, 32, 32, 3)\n",
      "50000 train samples\n",
      "10000 test samples\n"
     ]
    }
   ],
   "source": [
    "batch_size = 128 # batch 的大小，如果出現 OOM error，請降低這個值\n",
    "num_classes = 10 # 類別的數量，Cifar 10 共有 10 個類別\n",
    "epochs = 10 # 訓練的 epochs 數量\n",
    "\n",
    "# 讀取資料並檢視\n",
    "(x_train, y_train), (x_test, y_test) = cifar10.load_data()\n",
    "print('x_train shape:', x_train.shape)\n",
    "print(x_train.shape[0], 'train samples')\n",
    "print(x_test.shape[0], 'test samples')\n",
    "\n",
    "# 對 label 進行 one-hot encoding (y_trian 原本是純數字)\n",
    "y_train = keras.utils.to_categorical(y_train, num_classes)\n",
    "y_test = keras.utils.to_categorical(y_test, num_classes)"
   ]
  },
  {
   "cell_type": "code",
   "execution_count": 3,
   "metadata": {},
   "outputs": [
    {
     "name": "stdout",
     "output_type": "stream",
     "text": [
      "50000 train samples\n",
      "10000 test samples\n"
     ]
    }
   ],
   "source": [
    "# 將資料攤平成一維資料\n",
    "x_train = x_train.reshape(50000, 3072) \n",
    "x_test = x_test.reshape(10000, 3072)\n",
    "\n",
    "# 將資料變為 float32 並標準化\n",
    "x_train = x_train.astype('float32')\n",
    "x_test = x_test.astype('float32')\n",
    "x_train /= 255\n",
    "x_test /= 255\n",
    "print(x_train.shape[0], 'train samples')\n",
    "print(x_test.shape[0], 'test samples')"
   ]
  },
  {
   "cell_type": "code",
   "execution_count": 4,
   "metadata": {},
   "outputs": [],
   "source": [
    "#fit_generator(self,\n",
    "#              generator,\n",
    "#              steps_per_epoch=None, \n",
    "#              epochs=1,\n",
    "#              verbose=1,\n",
    "#              callbacks=None,\n",
    "#              validation_data=None,\n",
    "#              validation_steps=None,\n",
    "#              class_weight=None,\n",
    "#              max_queue_size=10,\n",
    "#              workers=1,\n",
    "#              use_multiprocessing=False,\n",
    "#              shuffle=True,\n",
    "#              initial_epoch=0)\n",
    "\n",
    "# https://keras.io/ja/models/sequential/\n",
    "# Output (tuple(inputs, targets))"
   ]
  },
  {
   "cell_type": "code",
   "execution_count": 2,
   "metadata": {},
   "outputs": [],
   "source": [
    "def cifar_generator(image_array, batch_size=32):\n",
    "    while True:\n",
    "        for indexs in range(0, len(image_array), batch_size):\n",
    "            images = x_train[indexs: indexs+batch_size]\n",
    "            labels = y_train[indexs: indexs+batch_size]\n",
    "            yield images, labels"
   ]
  },
  {
   "cell_type": "code",
   "execution_count": null,
   "metadata": {},
   "outputs": [],
   "source": [
    "        for idx in range(0, len(x), batch_size): # 讓 idx 從 0 開始，一次增加 batch size。假設 batch_size=32, idx = 0, 32, 64, 96, ....\n",
    "            batch_x, batch_y = x[idx:idx+batch_size], y[idx:idx+batch_size]\n",
    "            yield batch_x, batch_y\n",
    "        x, y = shuffle(x, y) # loop 結束後，將資料順序打亂再重新循環"
   ]
  },
  {
   "cell_type": "code",
   "execution_count": 5,
   "metadata": {},
   "outputs": [],
   "source": [
    "def new_generator(x_train, y_train, batch_size):\n",
    "    while True:\n",
    "        for indexs in range(0, len(x_train), batch_size):\n",
    "            x = x_train[indexs: indexs+batch_size]\n",
    "            y = y_train[indexs: indexs+batch_size]\n",
    "            yield x, y"
   ]
  },
  {
   "cell_type": "code",
   "execution_count": 6,
   "metadata": {},
   "outputs": [],
   "source": [
    "new_gen = new_generator(x_train, y_train, batch_size)"
   ]
  },
  {
   "cell_type": "code",
   "execution_count": 8,
   "metadata": {},
   "outputs": [
    {
     "name": "stdout",
     "output_type": "stream",
     "text": [
      "Model: \"sequential_2\"\n",
      "_________________________________________________________________\n",
      "Layer (type)                 Output Shape              Param #   \n",
      "=================================================================\n",
      "dense_4 (Dense)              (None, 512)               1573376   \n",
      "_________________________________________________________________\n",
      "dropout_3 (Dropout)          (None, 512)               0         \n",
      "_________________________________________________________________\n",
      "dense_5 (Dense)              (None, 512)               262656    \n",
      "_________________________________________________________________\n",
      "dropout_4 (Dropout)          (None, 512)               0         \n",
      "_________________________________________________________________\n",
      "dense_6 (Dense)              (None, 10)                5130      \n",
      "=================================================================\n",
      "Total params: 1,841,162\n",
      "Trainable params: 1,841,162\n",
      "Non-trainable params: 0\n",
      "_________________________________________________________________\n",
      "Epoch 1/10\n",
      "390/390 [==============================] - 2s 5ms/step - loss: 2.1668 - accuracy: 0.2487 - val_loss: 1.8177 - val_accuracy: 0.3441\n",
      "Epoch 2/10\n",
      "390/390 [==============================] - 2s 4ms/step - loss: 1.8528 - accuracy: 0.3330 - val_loss: 1.7462 - val_accuracy: 0.3857\n",
      "Epoch 3/10\n",
      "390/390 [==============================] - 2s 4ms/step - loss: 1.7724 - accuracy: 0.3641 - val_loss: 1.8261 - val_accuracy: 0.3270\n",
      "Epoch 4/10\n",
      "390/390 [==============================] - 2s 4ms/step - loss: 1.7164 - accuracy: 0.3843 - val_loss: 1.6524 - val_accuracy: 0.4213\n",
      "Epoch 5/10\n",
      "390/390 [==============================] - 2s 4ms/step - loss: 1.6796 - accuracy: 0.3989 - val_loss: 1.5948 - val_accuracy: 0.4335\n",
      "Epoch 6/10\n",
      "390/390 [==============================] - 2s 4ms/step - loss: 1.6490 - accuracy: 0.4116 - val_loss: 1.5876 - val_accuracy: 0.4343\n",
      "Epoch 7/10\n",
      "390/390 [==============================] - 2s 4ms/step - loss: 1.6272 - accuracy: 0.4184 - val_loss: 1.5706 - val_accuracy: 0.4425\n",
      "Epoch 8/10\n",
      "390/390 [==============================] - 2s 4ms/step - loss: 1.6075 - accuracy: 0.4250 - val_loss: 1.5402 - val_accuracy: 0.4534\n",
      "Epoch 9/10\n",
      "390/390 [==============================] - 2s 4ms/step - loss: 1.5902 - accuracy: 0.4315 - val_loss: 1.5242 - val_accuracy: 0.4556\n",
      "Epoch 10/10\n",
      "390/390 [==============================] - 2s 4ms/step - loss: 1.5709 - accuracy: 0.4367 - val_loss: 1.5477 - val_accuracy: 0.4562\n",
      "Test loss: 1.547653333091736\n",
      "Test accuracy: 0.4562000036239624\n"
     ]
    }
   ],
   "source": [
    "model = Sequential()\n",
    "model.add(Dense(512, activation='relu', input_shape=(3072,)))\n",
    "model.add(Dropout(0.2))\n",
    "model.add(Dense(512, activation='relu'))\n",
    "model.add(Dropout(0.2))\n",
    "model.add(Dense(num_classes, activation='softmax'))\n",
    "\n",
    "model.summary()\n",
    "\n",
    "model.compile(loss='categorical_crossentropy',\n",
    "              optimizer=RMSprop(),\n",
    "              metrics=['accuracy'])\n",
    "\n",
    "history = model.fit_generator(new_gen,\n",
    "                              steps_per_epoch=int(len(x_train)/batch_size),\n",
    "                              epochs=epochs,\n",
    "                              verbose=1,\n",
    "                              validation_data=(x_test, y_test))\n",
    "score = model.evaluate(x_test, y_test, verbose=0)\n",
    "print('Test loss:', score[0])\n",
    "print('Test accuracy:', score[1])"
   ]
  },
  {
   "cell_type": "code",
   "execution_count": null,
   "metadata": {},
   "outputs": [],
   "source": []
  }
 ],
 "metadata": {
  "kernelspec": {
   "display_name": "Python 3",
   "language": "python",
   "name": "python3"
  },
  "language_info": {
   "codemirror_mode": {
    "name": "ipython",
    "version": 3
   },
   "file_extension": ".py",
   "mimetype": "text/x-python",
   "name": "python",
   "nbconvert_exporter": "python",
   "pygments_lexer": "ipython3",
   "version": "3.7.9"
  }
 },
 "nbformat": 4,
 "nbformat_minor": 2
}
