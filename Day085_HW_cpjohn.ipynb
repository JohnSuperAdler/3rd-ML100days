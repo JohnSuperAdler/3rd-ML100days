{
 "cells": [
  {
   "cell_type": "markdown",
   "metadata": {},
   "source": [
    "## Work\n",
    "1. 試改變 monitor \"Validation Accuracy\" 並比較結果\n",
    "2. 調整 earlystop 的等待次數至 10, 25 並比較結果"
   ]
  },
  {
   "cell_type": "code",
   "execution_count": 1,
   "metadata": {},
   "outputs": [
    {
     "name": "stderr",
     "output_type": "stream",
     "text": [
      "Using TensorFlow backend.\n"
     ]
    }
   ],
   "source": [
    "import os\n",
    "import keras\n",
    "import matplotlib.pyplot as plt\n",
    "%matplotlib inline\n",
    "\n",
    "\n",
    "# Disable GPU\n",
    "os.environ[\"CUDA_VISIBLE_DEVICES\"] = \"\""
   ]
  },
  {
   "cell_type": "code",
   "execution_count": 2,
   "metadata": {},
   "outputs": [],
   "source": [
    "train, test = keras.datasets.cifar10.load_data()"
   ]
  },
  {
   "cell_type": "code",
   "execution_count": 3,
   "metadata": {},
   "outputs": [],
   "source": [
    "## 資料前處理\n",
    "def preproc_x(x, flatten=True):\n",
    "    x = x / 255.\n",
    "    if flatten:\n",
    "        x = x.reshape((len(x), -1))\n",
    "    return x\n",
    "\n",
    "def preproc_y(y, num_classes=10):\n",
    "    if y.shape[-1] == 1:\n",
    "        y = keras.utils.to_categorical(y, num_classes)\n",
    "    return y    "
   ]
  },
  {
   "cell_type": "code",
   "execution_count": 4,
   "metadata": {},
   "outputs": [],
   "source": [
    "x_train, y_train = train\n",
    "x_test, y_test = test\n",
    "\n",
    "# Preproc the inputs\n",
    "x_train = preproc_x(x_train)\n",
    "x_test = preproc_x(x_test)\n",
    "\n",
    "# Preprc the outputs\n",
    "y_train = preproc_y(y_train)\n",
    "y_test = preproc_y(y_test)"
   ]
  },
  {
   "cell_type": "code",
   "execution_count": 5,
   "metadata": {},
   "outputs": [],
   "source": [
    "from keras.layers import BatchNormalization\n",
    "\n",
    "\"\"\"\n",
    "建立神經網路，並加入 BN layer\n",
    "\"\"\"\n",
    "def build_mlp(input_shape, output_units=10, num_neurons=[512, 256, 128]):\n",
    "    input_layer = keras.layers.Input(input_shape)\n",
    "    \n",
    "    for i, n_units in enumerate(num_neurons):\n",
    "        if i == 0:\n",
    "            x = keras.layers.Dense(units=n_units, \n",
    "                                   activation=\"relu\", \n",
    "                                   name=\"hidden_layer\"+str(i+1))(input_layer)\n",
    "            x = BatchNormalization()(x)\n",
    "        else:\n",
    "            x = keras.layers.Dense(units=n_units, \n",
    "                                   activation=\"relu\", \n",
    "                                   name=\"hidden_layer\"+str(i+1))(x)\n",
    "            x = BatchNormalization()(x)\n",
    "    \n",
    "    out = keras.layers.Dense(units=output_units, activation=\"softmax\", name=\"output\")(x)\n",
    "    \n",
    "    model = keras.models.Model(inputs=[input_layer], outputs=[out])\n",
    "    return model"
   ]
  },
  {
   "cell_type": "code",
   "execution_count": 6,
   "metadata": {},
   "outputs": [],
   "source": [
    "## 超參數設定\n",
    "LEARNING_RATE = 1e-3\n",
    "EPOCHS = 50\n",
    "BATCH_SIZE = 1024\n",
    "MOMENTUM = 0.95"
   ]
  },
  {
   "cell_type": "code",
   "execution_count": 7,
   "metadata": {},
   "outputs": [],
   "source": [
    "# 載入 Callbacks\n",
    "from keras.callbacks import EarlyStopping\n",
    "\n",
    "earlystop = EarlyStopping(monitor=\"val_accuracy\", \n",
    "                          patience=5, \n",
    "                          verbose=1\n",
    "                          )"
   ]
  },
  {
   "cell_type": "code",
   "execution_count": 8,
   "metadata": {},
   "outputs": [
    {
     "name": "stdout",
     "output_type": "stream",
     "text": [
      "Model: \"model_1\"\n",
      "_________________________________________________________________\n",
      "Layer (type)                 Output Shape              Param #   \n",
      "=================================================================\n",
      "input_1 (InputLayer)         (None, 3072)              0         \n",
      "_________________________________________________________________\n",
      "hidden_layer1 (Dense)        (None, 512)               1573376   \n",
      "_________________________________________________________________\n",
      "batch_normalization_1 (Batch (None, 512)               2048      \n",
      "_________________________________________________________________\n",
      "hidden_layer2 (Dense)        (None, 256)               131328    \n",
      "_________________________________________________________________\n",
      "batch_normalization_2 (Batch (None, 256)               1024      \n",
      "_________________________________________________________________\n",
      "hidden_layer3 (Dense)        (None, 128)               32896     \n",
      "_________________________________________________________________\n",
      "batch_normalization_3 (Batch (None, 128)               512       \n",
      "_________________________________________________________________\n",
      "output (Dense)               (None, 10)                1290      \n",
      "=================================================================\n",
      "Total params: 1,742,474\n",
      "Trainable params: 1,740,682\n",
      "Non-trainable params: 1,792\n",
      "_________________________________________________________________\n",
      "Train on 50000 samples, validate on 10000 samples\n",
      "Epoch 1/50\n",
      "50000/50000 [==============================] - 3s 66us/step - loss: 2.1843 - accuracy: 0.2728 - val_loss: 2.1326 - val_accuracy: 0.2161\n",
      "Epoch 2/50\n",
      "50000/50000 [==============================] - 2s 50us/step - loss: 1.7304 - accuracy: 0.3947 - val_loss: 1.9853 - val_accuracy: 0.2869\n",
      "Epoch 3/50\n",
      "50000/50000 [==============================] - 2s 50us/step - loss: 1.6113 - accuracy: 0.4345 - val_loss: 1.8326 - val_accuracy: 0.3605\n",
      "Epoch 4/50\n",
      "50000/50000 [==============================] - 2s 50us/step - loss: 1.5412 - accuracy: 0.4588 - val_loss: 1.7222 - val_accuracy: 0.3943\n",
      "Epoch 5/50\n",
      "50000/50000 [==============================] - 3s 50us/step - loss: 1.4865 - accuracy: 0.4769 - val_loss: 1.6207 - val_accuracy: 0.4298\n",
      "Epoch 6/50\n",
      "50000/50000 [==============================] - 2s 49us/step - loss: 1.4408 - accuracy: 0.4934 - val_loss: 1.5708 - val_accuracy: 0.4440\n",
      "Epoch 7/50\n",
      "50000/50000 [==============================] - 2s 50us/step - loss: 1.4006 - accuracy: 0.5078 - val_loss: 1.5482 - val_accuracy: 0.4483\n",
      "Epoch 8/50\n",
      "50000/50000 [==============================] - 3s 50us/step - loss: 1.3679 - accuracy: 0.5206 - val_loss: 1.5154 - val_accuracy: 0.4656\n",
      "Epoch 9/50\n",
      "50000/50000 [==============================] - 2s 49us/step - loss: 1.3333 - accuracy: 0.5328 - val_loss: 1.5168 - val_accuracy: 0.4591\n",
      "Epoch 10/50\n",
      "50000/50000 [==============================] - 3s 50us/step - loss: 1.3032 - accuracy: 0.5437 - val_loss: 1.4937 - val_accuracy: 0.4728\n",
      "Epoch 11/50\n",
      "50000/50000 [==============================] - 2s 49us/step - loss: 1.2751 - accuracy: 0.5539 - val_loss: 1.4792 - val_accuracy: 0.4728\n",
      "Epoch 12/50\n",
      "50000/50000 [==============================] - 3s 51us/step - loss: 1.2483 - accuracy: 0.5650 - val_loss: 1.4793 - val_accuracy: 0.4747\n",
      "Epoch 13/50\n",
      "50000/50000 [==============================] - 3s 50us/step - loss: 1.2223 - accuracy: 0.5735 - val_loss: 1.4690 - val_accuracy: 0.4791\n",
      "Epoch 14/50\n",
      "50000/50000 [==============================] - 2s 50us/step - loss: 1.1961 - accuracy: 0.5843 - val_loss: 1.4663 - val_accuracy: 0.4820\n",
      "Epoch 15/50\n",
      "50000/50000 [==============================] - 3s 51us/step - loss: 1.1706 - accuracy: 0.5932 - val_loss: 1.4684 - val_accuracy: 0.4851\n",
      "Epoch 16/50\n",
      "50000/50000 [==============================] - 3s 50us/step - loss: 1.1467 - accuracy: 0.6011 - val_loss: 1.4741 - val_accuracy: 0.4800\n",
      "Epoch 17/50\n",
      "50000/50000 [==============================] - 2s 49us/step - loss: 1.1223 - accuracy: 0.6108 - val_loss: 1.4588 - val_accuracy: 0.4898\n",
      "Epoch 18/50\n",
      "50000/50000 [==============================] - 2s 50us/step - loss: 1.0999 - accuracy: 0.6183 - val_loss: 1.4575 - val_accuracy: 0.4908\n",
      "Epoch 19/50\n",
      "50000/50000 [==============================] - 2s 50us/step - loss: 1.0762 - accuracy: 0.6278 - val_loss: 1.4582 - val_accuracy: 0.4957\n",
      "Epoch 20/50\n",
      "50000/50000 [==============================] - 3s 51us/step - loss: 1.0551 - accuracy: 0.6368 - val_loss: 1.4608 - val_accuracy: 0.4891\n",
      "Epoch 21/50\n",
      "50000/50000 [==============================] - 2s 50us/step - loss: 1.0316 - accuracy: 0.6457 - val_loss: 1.4823 - val_accuracy: 0.4896\n",
      "Epoch 22/50\n",
      "50000/50000 [==============================] - 2s 49us/step - loss: 1.0112 - accuracy: 0.6519 - val_loss: 1.4543 - val_accuracy: 0.4988\n",
      "Epoch 23/50\n",
      "50000/50000 [==============================] - 2s 49us/step - loss: 0.9895 - accuracy: 0.6624 - val_loss: 1.4568 - val_accuracy: 0.4964\n",
      "Epoch 24/50\n",
      "50000/50000 [==============================] - 2s 49us/step - loss: 0.9679 - accuracy: 0.6704 - val_loss: 1.4657 - val_accuracy: 0.4945\n",
      "Epoch 25/50\n",
      "50000/50000 [==============================] - 3s 51us/step - loss: 0.9463 - accuracy: 0.6770 - val_loss: 1.4727 - val_accuracy: 0.4954\n",
      "Epoch 26/50\n",
      "50000/50000 [==============================] - 2s 49us/step - loss: 0.9259 - accuracy: 0.6869 - val_loss: 1.4726 - val_accuracy: 0.4991\n",
      "Epoch 27/50\n",
      "50000/50000 [==============================] - 2s 49us/step - loss: 0.9030 - accuracy: 0.6953 - val_loss: 1.4701 - val_accuracy: 0.4958\n",
      "Epoch 28/50\n",
      "50000/50000 [==============================] - 2s 49us/step - loss: 0.8850 - accuracy: 0.7029 - val_loss: 1.4826 - val_accuracy: 0.4973\n",
      "Epoch 29/50\n",
      "50000/50000 [==============================] - 2s 49us/step - loss: 0.8640 - accuracy: 0.7102 - val_loss: 1.4964 - val_accuracy: 0.4930\n",
      "Epoch 30/50\n",
      "50000/50000 [==============================] - 2s 49us/step - loss: 0.8437 - accuracy: 0.7206 - val_loss: 1.4945 - val_accuracy: 0.4972\n",
      "Epoch 31/50\n",
      "50000/50000 [==============================] - 2s 48us/step - loss: 0.8235 - accuracy: 0.7271 - val_loss: 1.4926 - val_accuracy: 0.4918\n",
      "Epoch 00031: early stopping\n"
     ]
    }
   ],
   "source": [
    "results = {}\n",
    "\"\"\"Code Here\n",
    "撰寫你的訓練流程並將結果用 dictionary 紀錄\n",
    "\"\"\"\n",
    "model = build_mlp(input_shape=x_train.shape[1:])\n",
    "model.summary()\n",
    "optimizer = keras.optimizers.SGD(lr=LEARNING_RATE, nesterov=True, momentum=MOMENTUM)\n",
    "model.compile(loss=\"categorical_crossentropy\", metrics=[\"accuracy\"], optimizer=optimizer)\n",
    "\n",
    "model.fit(x_train, y_train, \n",
    "          epochs=EPOCHS, \n",
    "          batch_size=BATCH_SIZE, \n",
    "          validation_data=(x_test, y_test), \n",
    "          shuffle=True,\n",
    "          callbacks=[earlystop]\n",
    "         )\n",
    "\n",
    "# Collect results\n",
    "train_loss = model.history.history[\"loss\"]\n",
    "valid_loss = model.history.history[\"val_loss\"]\n",
    "train_acc = model.history.history[\"accuracy\"]\n",
    "valid_acc = model.history.history[\"val_accuracy\"]"
   ]
  },
  {
   "cell_type": "code",
   "execution_count": 9,
   "metadata": {},
   "outputs": [
    {
     "data": {
      "image/png": "[encoded data removed]",
      "text/plain": [
       "<Figure size 432x288 with 1 Axes>"
      ]
     },
     "metadata": {
      "needs_background": "light"
     },
     "output_type": "display_data"
    },
    {
     "data": {
      "image/png": "[encoded data removed]",
      "text/plain": [
       "<Figure size 432x288 with 1 Axes>"
      ]
     },
     "metadata": {
      "needs_background": "light"
     },
     "output_type": "display_data"
    }
   ],
   "source": [
    "import matplotlib.pyplot as plt\n",
    "%matplotlib inline\n",
    "\n",
    "plt.plot(range(len(train_loss)), train_loss, label=\"train loss\")\n",
    "plt.plot(range(len(valid_loss)), valid_loss, label=\"valid loss\")\n",
    "plt.legend()\n",
    "plt.title(\"Loss\")\n",
    "plt.show()\n",
    "\n",
    "plt.plot(range(len(train_acc)), train_acc, label=\"train accuracy\")\n",
    "plt.plot(range(len(valid_acc)), valid_acc, label=\"valid accuracy\")\n",
    "plt.legend()\n",
    "plt.title(\"Accuracy\")\n",
    "plt.show()"
   ]
  },
  {
   "cell_type": "markdown",
   "metadata": {},
   "source": [
    "## Early Stop 10"
   ]
  },
  {
   "cell_type": "code",
   "execution_count": 10,
   "metadata": {},
   "outputs": [],
   "source": [
    "earlystop = EarlyStopping(monitor=\"val_accuracy\", \n",
    "                          patience=10, \n",
    "                          verbose=1\n",
    "                          )"
   ]
  },
  {
   "cell_type": "code",
   "execution_count": 11,
   "metadata": {},
   "outputs": [
    {
     "name": "stdout",
     "output_type": "stream",
     "text": [
      "Model: \"model_2\"\n",
      "_________________________________________________________________\n",
      "Layer (type)                 Output Shape              Param #   \n",
      "=================================================================\n",
      "input_2 (InputLayer)         (None, 3072)              0         \n",
      "_________________________________________________________________\n",
      "hidden_layer1 (Dense)        (None, 512)               1573376   \n",
      "_________________________________________________________________\n",
      "batch_normalization_4 (Batch (None, 512)               2048      \n",
      "_________________________________________________________________\n",
      "hidden_layer2 (Dense)        (None, 256)               131328    \n",
      "_________________________________________________________________\n",
      "batch_normalization_5 (Batch (None, 256)               1024      \n",
      "_________________________________________________________________\n",
      "hidden_layer3 (Dense)        (None, 128)               32896     \n",
      "_________________________________________________________________\n",
      "batch_normalization_6 (Batch (None, 128)               512       \n",
      "_________________________________________________________________\n",
      "output (Dense)               (None, 10)                1290      \n",
      "=================================================================\n",
      "Total params: 1,742,474\n",
      "Trainable params: 1,740,682\n",
      "Non-trainable params: 1,792\n",
      "_________________________________________________________________\n",
      "Train on 50000 samples, validate on 10000 samples\n",
      "Epoch 1/50\n",
      "50000/50000 [==============================] - 3s 62us/step - loss: 2.1739 - accuracy: 0.2783 - val_loss: 2.1096 - val_accuracy: 0.2217\n",
      "Epoch 2/50\n",
      "50000/50000 [==============================] - 2s 48us/step - loss: 1.7324 - accuracy: 0.3957 - val_loss: 1.9522 - val_accuracy: 0.3034\n",
      "Epoch 3/50\n",
      "50000/50000 [==============================] - 2s 49us/step - loss: 1.6105 - accuracy: 0.4372 - val_loss: 1.8234 - val_accuracy: 0.3546\n",
      "Epoch 4/50\n",
      "50000/50000 [==============================] - 2s 48us/step - loss: 1.5386 - accuracy: 0.4623 - val_loss: 1.7140 - val_accuracy: 0.4105\n",
      "Epoch 5/50\n",
      "50000/50000 [==============================] - 2s 49us/step - loss: 1.4849 - accuracy: 0.4820 - val_loss: 1.6359 - val_accuracy: 0.4282\n",
      "Epoch 6/50\n",
      "50000/50000 [==============================] - 2s 49us/step - loss: 1.4401 - accuracy: 0.4973 - val_loss: 1.5954 - val_accuracy: 0.4383\n",
      "Epoch 7/50\n",
      "50000/50000 [==============================] - 2s 49us/step - loss: 1.4013 - accuracy: 0.5116 - val_loss: 1.5402 - val_accuracy: 0.4564\n",
      "Epoch 8/50\n",
      "50000/50000 [==============================] - 2s 48us/step - loss: 1.3646 - accuracy: 0.5268 - val_loss: 1.5129 - val_accuracy: 0.4688\n",
      "Epoch 9/50\n",
      "50000/50000 [==============================] - 2s 49us/step - loss: 1.3324 - accuracy: 0.5358 - val_loss: 1.5112 - val_accuracy: 0.4698\n",
      "Epoch 10/50\n",
      "50000/50000 [==============================] - 2s 49us/step - loss: 1.3025 - accuracy: 0.5484 - val_loss: 1.4921 - val_accuracy: 0.4713\n",
      "Epoch 11/50\n",
      "50000/50000 [==============================] - 2s 50us/step - loss: 1.2725 - accuracy: 0.5603 - val_loss: 1.4809 - val_accuracy: 0.4802\n",
      "Epoch 12/50\n",
      "50000/50000 [==============================] - 2s 49us/step - loss: 1.2454 - accuracy: 0.5680 - val_loss: 1.4724 - val_accuracy: 0.4833\n",
      "Epoch 13/50\n",
      "50000/50000 [==============================] - 2s 49us/step - loss: 1.2182 - accuracy: 0.5777 - val_loss: 1.4761 - val_accuracy: 0.4817\n",
      "Epoch 14/50\n",
      "50000/50000 [==============================] - 2s 48us/step - loss: 1.1932 - accuracy: 0.5889 - val_loss: 1.4747 - val_accuracy: 0.4890\n",
      "Epoch 15/50\n",
      "50000/50000 [==============================] - 2s 49us/step - loss: 1.1691 - accuracy: 0.5967 - val_loss: 1.4751 - val_accuracy: 0.4880\n",
      "Epoch 16/50\n",
      "50000/50000 [==============================] - 2s 48us/step - loss: 1.1464 - accuracy: 0.6064 - val_loss: 1.4718 - val_accuracy: 0.4872\n",
      "Epoch 17/50\n",
      "50000/50000 [==============================] - 2s 49us/step - loss: 1.1210 - accuracy: 0.6148 - val_loss: 1.4681 - val_accuracy: 0.4895\n",
      "Epoch 18/50\n",
      "50000/50000 [==============================] - 2s 49us/step - loss: 1.0972 - accuracy: 0.6242 - val_loss: 1.4573 - val_accuracy: 0.4915\n",
      "Epoch 19/50\n",
      "50000/50000 [==============================] - 2s 49us/step - loss: 1.0745 - accuracy: 0.6334 - val_loss: 1.4648 - val_accuracy: 0.4947\n",
      "Epoch 20/50\n",
      "50000/50000 [==============================] - 3s 50us/step - loss: 1.0510 - accuracy: 0.6406 - val_loss: 1.4592 - val_accuracy: 0.4892\n",
      "Epoch 21/50\n",
      "50000/50000 [==============================] - 2s 48us/step - loss: 1.0289 - accuracy: 0.6501 - val_loss: 1.4653 - val_accuracy: 0.4913\n",
      "Epoch 22/50\n",
      "50000/50000 [==============================] - 2s 49us/step - loss: 1.0089 - accuracy: 0.6580 - val_loss: 1.4687 - val_accuracy: 0.4942\n",
      "Epoch 23/50\n",
      "50000/50000 [==============================] - 2s 49us/step - loss: 0.9883 - accuracy: 0.6653 - val_loss: 1.4744 - val_accuracy: 0.4916\n",
      "Epoch 24/50\n",
      "50000/50000 [==============================] - 2s 49us/step - loss: 0.9673 - accuracy: 0.6759 - val_loss: 1.4671 - val_accuracy: 0.4959\n",
      "Epoch 25/50\n",
      "50000/50000 [==============================] - 2s 49us/step - loss: 0.9431 - accuracy: 0.6834 - val_loss: 1.4737 - val_accuracy: 0.4937\n",
      "Epoch 26/50\n",
      "50000/50000 [==============================] - 2s 50us/step - loss: 0.9252 - accuracy: 0.6910 - val_loss: 1.4640 - val_accuracy: 0.4954\n",
      "Epoch 27/50\n",
      "50000/50000 [==============================] - 2s 49us/step - loss: 0.9032 - accuracy: 0.6994 - val_loss: 1.4810 - val_accuracy: 0.4941\n",
      "Epoch 28/50\n",
      "50000/50000 [==============================] - 2s 50us/step - loss: 0.8846 - accuracy: 0.7058 - val_loss: 1.4753 - val_accuracy: 0.5027\n",
      "Epoch 29/50\n",
      "50000/50000 [==============================] - 2s 49us/step - loss: 0.8637 - accuracy: 0.7139 - val_loss: 1.4709 - val_accuracy: 0.4974\n",
      "Epoch 30/50\n",
      "50000/50000 [==============================] - 2s 50us/step - loss: 0.8432 - accuracy: 0.7219 - val_loss: 1.4835 - val_accuracy: 0.4964\n",
      "Epoch 31/50\n",
      "50000/50000 [==============================] - 2s 49us/step - loss: 0.8252 - accuracy: 0.7305 - val_loss: 1.4800 - val_accuracy: 0.4984\n",
      "Epoch 32/50\n",
      "50000/50000 [==============================] - 2s 49us/step - loss: 0.8025 - accuracy: 0.7377 - val_loss: 1.5181 - val_accuracy: 0.4959\n",
      "Epoch 33/50\n",
      "50000/50000 [==============================] - 2s 49us/step - loss: 0.7850 - accuracy: 0.7450 - val_loss: 1.4972 - val_accuracy: 0.4973\n",
      "Epoch 34/50\n",
      "50000/50000 [==============================] - 2s 48us/step - loss: 0.7635 - accuracy: 0.7550 - val_loss: 1.5044 - val_accuracy: 0.4956\n",
      "Epoch 35/50\n",
      "50000/50000 [==============================] - 2s 49us/step - loss: 0.7430 - accuracy: 0.7625 - val_loss: 1.5113 - val_accuracy: 0.4971\n",
      "Epoch 36/50\n",
      "50000/50000 [==============================] - 2s 49us/step - loss: 0.7245 - accuracy: 0.7696 - val_loss: 1.5120 - val_accuracy: 0.4992\n",
      "Epoch 37/50\n",
      "50000/50000 [==============================] - 3s 50us/step - loss: 0.7062 - accuracy: 0.7768 - val_loss: 1.5195 - val_accuracy: 0.4946\n",
      "Epoch 38/50\n",
      "50000/50000 [==============================] - 2s 48us/step - loss: 0.6900 - accuracy: 0.7833 - val_loss: 1.5386 - val_accuracy: 0.4897\n",
      "Epoch 00038: early stopping\n"
     ]
    }
   ],
   "source": [
    "\"\"\"Code Here\n",
    "撰寫你的訓練流程並將結果用 dictionary 紀錄\n",
    "\"\"\"\n",
    "model = build_mlp(input_shape=x_train.shape[1:])\n",
    "model.summary()\n",
    "optimizer = keras.optimizers.SGD(lr=LEARNING_RATE, nesterov=True, momentum=MOMENTUM)\n",
    "model.compile(loss=\"categorical_crossentropy\", metrics=[\"accuracy\"], optimizer=optimizer)\n",
    "\n",
    "model.fit(x_train, y_train, \n",
    "          epochs=EPOCHS, \n",
    "          batch_size=BATCH_SIZE, \n",
    "          validation_data=(x_test, y_test), \n",
    "          shuffle=True,\n",
    "          callbacks=[earlystop]\n",
    "         )\n",
    "\n",
    "# Collect results\n",
    "train_loss = model.history.history[\"loss\"]\n",
    "valid_loss = model.history.history[\"val_loss\"]\n",
    "train_acc = model.history.history[\"accuracy\"]\n",
    "valid_acc = model.history.history[\"val_accuracy\"]"
   ]
  },
  {
   "cell_type": "code",
   "execution_count": 12,
   "metadata": {},
   "outputs": [
    {
     "data": {
      "image/png": "[encoded data removed]",
      "text/plain": [
       "<Figure size 432x288 with 1 Axes>"
      ]
     },
     "metadata": {
      "needs_background": "light"
     },
     "output_type": "display_data"
    },
    {
     "data": {
      "image/png": "[encoded data removed]",
      "text/plain": [
       "<Figure size 432x288 with 1 Axes>"
      ]
     },
     "metadata": {
      "needs_background": "light"
     },
     "output_type": "display_data"
    }
   ],
   "source": [
    "plt.plot(range(len(train_loss)), train_loss, label=\"train loss\")\n",
    "plt.plot(range(len(valid_loss)), valid_loss, label=\"valid loss\")\n",
    "plt.legend()\n",
    "plt.title(\"Loss\")\n",
    "plt.show()\n",
    "\n",
    "plt.plot(range(len(train_acc)), train_acc, label=\"train accuracy\")\n",
    "plt.plot(range(len(valid_acc)), valid_acc, label=\"valid accuracy\")\n",
    "plt.legend()\n",
    "plt.title(\"Accuracy\")\n",
    "plt.show()"
   ]
  },
  {
   "cell_type": "markdown",
   "metadata": {},
   "source": [
    "## Early Stop 25"
   ]
  },
  {
   "cell_type": "code",
   "execution_count": 14,
   "metadata": {},
   "outputs": [],
   "source": [
    "earlystop = EarlyStopping(monitor=\"val_accuracy\", \n",
    "                          patience=25, \n",
    "                          verbose=1\n",
    "                          )"
   ]
  },
  {
   "cell_type": "code",
   "execution_count": 15,
   "metadata": {},
   "outputs": [
    {
     "name": "stdout",
     "output_type": "stream",
     "text": [
      "Model: \"model_3\"\n",
      "_________________________________________________________________\n",
      "Layer (type)                 Output Shape              Param #   \n",
      "=================================================================\n",
      "input_3 (InputLayer)         (None, 3072)              0         \n",
      "_________________________________________________________________\n",
      "hidden_layer1 (Dense)        (None, 512)               1573376   \n",
      "_________________________________________________________________\n",
      "batch_normalization_7 (Batch (None, 512)               2048      \n",
      "_________________________________________________________________\n",
      "hidden_layer2 (Dense)        (None, 256)               131328    \n",
      "_________________________________________________________________\n",
      "batch_normalization_8 (Batch (None, 256)               1024      \n",
      "_________________________________________________________________\n",
      "hidden_layer3 (Dense)        (None, 128)               32896     \n",
      "_________________________________________________________________\n",
      "batch_normalization_9 (Batch (None, 128)               512       \n",
      "_________________________________________________________________\n",
      "output (Dense)               (None, 10)                1290      \n",
      "=================================================================\n",
      "Total params: 1,742,474\n",
      "Trainable params: 1,740,682\n",
      "Non-trainable params: 1,792\n",
      "_________________________________________________________________\n",
      "Train on 50000 samples, validate on 10000 samples\n",
      "Epoch 1/50\n",
      "50000/50000 [==============================] - 3s 62us/step - loss: 2.2023 - accuracy: 0.2697 - val_loss: 2.1409 - val_accuracy: 0.2177\n",
      "Epoch 2/50\n",
      "50000/50000 [==============================] - 2s 49us/step - loss: 1.7391 - accuracy: 0.3936 - val_loss: 1.9712 - val_accuracy: 0.3051\n",
      "Epoch 3/50\n",
      "50000/50000 [==============================] - 3s 50us/step - loss: 1.6139 - accuracy: 0.4359 - val_loss: 1.8234 - val_accuracy: 0.3754\n",
      "Epoch 4/50\n",
      "50000/50000 [==============================] - 2s 50us/step - loss: 1.5433 - accuracy: 0.4599 - val_loss: 1.7131 - val_accuracy: 0.4194\n",
      "Epoch 5/50\n",
      "50000/50000 [==============================] - 2s 49us/step - loss: 1.4871 - accuracy: 0.4792 - val_loss: 1.6417 - val_accuracy: 0.4360\n",
      "Epoch 6/50\n",
      "50000/50000 [==============================] - 2s 49us/step - loss: 1.4410 - accuracy: 0.4959 - val_loss: 1.5900 - val_accuracy: 0.4456\n",
      "Epoch 7/50\n",
      "50000/50000 [==============================] - 2s 49us/step - loss: 1.4021 - accuracy: 0.5108 - val_loss: 1.5575 - val_accuracy: 0.4567\n",
      "Epoch 8/50\n",
      "50000/50000 [==============================] - 2s 50us/step - loss: 1.3661 - accuracy: 0.5244 - val_loss: 1.5297 - val_accuracy: 0.4647\n",
      "Epoch 9/50\n",
      "50000/50000 [==============================] - 2s 49us/step - loss: 1.3320 - accuracy: 0.5358 - val_loss: 1.5084 - val_accuracy: 0.4707\n",
      "Epoch 10/50\n",
      "50000/50000 [==============================] - 2s 49us/step - loss: 1.3020 - accuracy: 0.5480 - val_loss: 1.5059 - val_accuracy: 0.4735\n",
      "Epoch 11/50\n",
      "50000/50000 [==============================] - 2s 48us/step - loss: 1.2722 - accuracy: 0.5589 - val_loss: 1.4841 - val_accuracy: 0.4828\n",
      "Epoch 12/50\n",
      "50000/50000 [==============================] - 2s 48us/step - loss: 1.2446 - accuracy: 0.5694 - val_loss: 1.4798 - val_accuracy: 0.4791\n",
      "Epoch 13/50\n",
      "50000/50000 [==============================] - 2s 49us/step - loss: 1.2191 - accuracy: 0.5768 - val_loss: 1.4754 - val_accuracy: 0.4863\n",
      "Epoch 14/50\n",
      "50000/50000 [==============================] - 2s 49us/step - loss: 1.1926 - accuracy: 0.5887 - val_loss: 1.4806 - val_accuracy: 0.4814\n",
      "Epoch 15/50\n",
      "50000/50000 [==============================] - 2s 50us/step - loss: 1.1684 - accuracy: 0.5984 - val_loss: 1.4708 - val_accuracy: 0.4866\n",
      "Epoch 16/50\n",
      "50000/50000 [==============================] - 2s 49us/step - loss: 1.1449 - accuracy: 0.6053 - val_loss: 1.4706 - val_accuracy: 0.4858\n",
      "Epoch 17/50\n",
      "50000/50000 [==============================] - 2s 49us/step - loss: 1.1211 - accuracy: 0.6152 - val_loss: 1.4579 - val_accuracy: 0.4901\n",
      "Epoch 18/50\n",
      "50000/50000 [==============================] - 2s 49us/step - loss: 1.0982 - accuracy: 0.6237 - val_loss: 1.4622 - val_accuracy: 0.4948\n",
      "Epoch 19/50\n",
      "50000/50000 [==============================] - 2s 49us/step - loss: 1.0754 - accuracy: 0.6334 - val_loss: 1.4693 - val_accuracy: 0.4888\n",
      "Epoch 20/50\n",
      "50000/50000 [==============================] - 2s 49us/step - loss: 1.0547 - accuracy: 0.6394 - val_loss: 1.4633 - val_accuracy: 0.4933\n",
      "Epoch 21/50\n",
      "50000/50000 [==============================] - 2s 49us/step - loss: 1.0325 - accuracy: 0.6483 - val_loss: 1.4546 - val_accuracy: 0.4961\n",
      "Epoch 22/50\n",
      "50000/50000 [==============================] - 2s 48us/step - loss: 1.0106 - accuracy: 0.6551 - val_loss: 1.4588 - val_accuracy: 0.4988\n",
      "Epoch 23/50\n",
      "50000/50000 [==============================] - 2s 49us/step - loss: 0.9898 - accuracy: 0.6655 - val_loss: 1.4541 - val_accuracy: 0.4971\n",
      "Epoch 24/50\n",
      "50000/50000 [==============================] - 2s 49us/step - loss: 0.9714 - accuracy: 0.6721 - val_loss: 1.4809 - val_accuracy: 0.4878\n",
      "Epoch 25/50\n",
      "50000/50000 [==============================] - 2s 49us/step - loss: 0.9507 - accuracy: 0.6801 - val_loss: 1.4666 - val_accuracy: 0.4953\n",
      "Epoch 26/50\n",
      "50000/50000 [==============================] - 2s 49us/step - loss: 0.9266 - accuracy: 0.6894 - val_loss: 1.4650 - val_accuracy: 0.4958\n",
      "Epoch 27/50\n",
      "50000/50000 [==============================] - 2s 48us/step - loss: 0.9066 - accuracy: 0.6980 - val_loss: 1.4668 - val_accuracy: 0.4933\n",
      "Epoch 28/50\n",
      "50000/50000 [==============================] - 2s 49us/step - loss: 0.8872 - accuracy: 0.7030 - val_loss: 1.4672 - val_accuracy: 0.5020\n",
      "Epoch 29/50\n",
      "50000/50000 [==============================] - 2s 49us/step - loss: 0.8662 - accuracy: 0.7132 - val_loss: 1.4828 - val_accuracy: 0.4957\n",
      "Epoch 30/50\n",
      "50000/50000 [==============================] - 3s 50us/step - loss: 0.8473 - accuracy: 0.7205 - val_loss: 1.4764 - val_accuracy: 0.4967\n",
      "Epoch 31/50\n",
      "50000/50000 [==============================] - 2s 49us/step - loss: 0.8292 - accuracy: 0.7268 - val_loss: 1.4886 - val_accuracy: 0.5010\n",
      "Epoch 32/50\n",
      "50000/50000 [==============================] - 2s 49us/step - loss: 0.8066 - accuracy: 0.7357 - val_loss: 1.4964 - val_accuracy: 0.5011\n",
      "Epoch 33/50\n",
      "50000/50000 [==============================] - 2s 49us/step - loss: 0.7880 - accuracy: 0.7418 - val_loss: 1.5091 - val_accuracy: 0.4989\n",
      "Epoch 34/50\n",
      "50000/50000 [==============================] - 2s 49us/step - loss: 0.7676 - accuracy: 0.7510 - val_loss: 1.4976 - val_accuracy: 0.5020\n",
      "Epoch 35/50\n",
      "50000/50000 [==============================] - 2s 49us/step - loss: 0.7487 - accuracy: 0.7586 - val_loss: 1.5039 - val_accuracy: 0.5029\n",
      "Epoch 36/50\n",
      "50000/50000 [==============================] - 2s 49us/step - loss: 0.7311 - accuracy: 0.7663 - val_loss: 1.5364 - val_accuracy: 0.4891\n",
      "Epoch 37/50\n",
      "50000/50000 [==============================] - 2s 49us/step - loss: 0.7102 - accuracy: 0.7742 - val_loss: 1.5203 - val_accuracy: 0.5012\n",
      "Epoch 38/50\n",
      "50000/50000 [==============================] - 3s 50us/step - loss: 0.6905 - accuracy: 0.7829 - val_loss: 1.5448 - val_accuracy: 0.5001\n",
      "Epoch 39/50\n",
      "50000/50000 [==============================] - 2s 49us/step - loss: 0.6743 - accuracy: 0.7891 - val_loss: 1.5515 - val_accuracy: 0.4940\n",
      "Epoch 40/50\n",
      "50000/50000 [==============================] - 2s 49us/step - loss: 0.6561 - accuracy: 0.7965 - val_loss: 1.5589 - val_accuracy: 0.4980\n",
      "Epoch 41/50\n",
      "50000/50000 [==============================] - 2s 49us/step - loss: 0.6366 - accuracy: 0.8028 - val_loss: 1.5628 - val_accuracy: 0.4966\n",
      "Epoch 42/50\n",
      "50000/50000 [==============================] - 2s 49us/step - loss: 0.6186 - accuracy: 0.8108 - val_loss: 1.5781 - val_accuracy: 0.4988\n",
      "Epoch 43/50\n",
      "50000/50000 [==============================] - 2s 49us/step - loss: 0.5994 - accuracy: 0.8173 - val_loss: 1.5988 - val_accuracy: 0.4968\n",
      "Epoch 44/50\n",
      "50000/50000 [==============================] - 2s 49us/step - loss: 0.5848 - accuracy: 0.8241 - val_loss: 1.5850 - val_accuracy: 0.5027\n",
      "Epoch 45/50\n",
      "50000/50000 [==============================] - 2s 49us/step - loss: 0.5667 - accuracy: 0.8320 - val_loss: 1.6282 - val_accuracy: 0.4994\n",
      "Epoch 46/50\n"
     ]
    },
    {
     "name": "stdout",
     "output_type": "stream",
     "text": [
      "50000/50000 [==============================] - 2s 49us/step - loss: 0.5492 - accuracy: 0.8381 - val_loss: 1.6160 - val_accuracy: 0.4969\n",
      "Epoch 47/50\n",
      "50000/50000 [==============================] - 2s 49us/step - loss: 0.5321 - accuracy: 0.8456 - val_loss: 1.6254 - val_accuracy: 0.4978\n",
      "Epoch 48/50\n",
      "50000/50000 [==============================] - 2s 50us/step - loss: 0.5146 - accuracy: 0.8527 - val_loss: 1.6453 - val_accuracy: 0.4972\n",
      "Epoch 49/50\n",
      "50000/50000 [==============================] - 2s 49us/step - loss: 0.4970 - accuracy: 0.8601 - val_loss: 1.6430 - val_accuracy: 0.4945\n",
      "Epoch 50/50\n",
      "50000/50000 [==============================] - 2s 50us/step - loss: 0.4808 - accuracy: 0.8662 - val_loss: 1.6715 - val_accuracy: 0.5001\n"
     ]
    }
   ],
   "source": [
    "\"\"\"Code Here\n",
    "撰寫你的訓練流程並將結果用 dictionary 紀錄\n",
    "\"\"\"\n",
    "model = build_mlp(input_shape=x_train.shape[1:])\n",
    "model.summary()\n",
    "optimizer = keras.optimizers.SGD(lr=LEARNING_RATE, nesterov=True, momentum=MOMENTUM)\n",
    "model.compile(loss=\"categorical_crossentropy\", metrics=[\"accuracy\"], optimizer=optimizer)\n",
    "\n",
    "model.fit(x_train, y_train, \n",
    "          epochs=EPOCHS, \n",
    "          batch_size=BATCH_SIZE, \n",
    "          validation_data=(x_test, y_test), \n",
    "          shuffle=True,\n",
    "          callbacks=[earlystop]\n",
    "         )\n",
    "\n",
    "# Collect results\n",
    "train_loss = model.history.history[\"loss\"]\n",
    "valid_loss = model.history.history[\"val_loss\"]\n",
    "train_acc = model.history.history[\"accuracy\"]\n",
    "valid_acc = model.history.history[\"val_accuracy\"]"
   ]
  },
  {
   "cell_type": "code",
   "execution_count": 16,
   "metadata": {},
   "outputs": [
    {
     "data": {
      "image/png": "[encoded data removed]",
      "text/plain": [
       "<Figure size 432x288 with 1 Axes>"
      ]
     },
     "metadata": {
      "needs_background": "light"
     },
     "output_type": "display_data"
    },
    {
     "data": {
      "image/png": "[encoded data removed]",
      "text/plain": [
       "<Figure size 432x288 with 1 Axes>"
      ]
     },
     "metadata": {
      "needs_background": "light"
     },
     "output_type": "display_data"
    }
   ],
   "source": [
    "plt.plot(range(len(train_loss)), train_loss, label=\"train loss\")\n",
    "plt.plot(range(len(valid_loss)), valid_loss, label=\"valid loss\")\n",
    "plt.legend()\n",
    "plt.title(\"Loss\")\n",
    "plt.show()\n",
    "\n",
    "plt.plot(range(len(train_acc)), train_acc, label=\"train accuracy\")\n",
    "plt.plot(range(len(valid_acc)), valid_acc, label=\"valid accuracy\")\n",
    "plt.legend()\n",
    "plt.title(\"Accuracy\")\n",
    "plt.show()"
   ]
  },
  {
   "cell_type": "code",
   "execution_count": null,
   "metadata": {},
   "outputs": [],
   "source": []
  }
 ],
 "metadata": {
  "kernelspec": {
   "display_name": "Python 3",
   "language": "python",
   "name": "python3"
  },
  "language_info": {
   "codemirror_mode": {
    "name": "ipython",
    "version": 3
   },
   "file_extension": ".py",
   "mimetype": "text/x-python",
   "name": "python",
   "nbconvert_exporter": "python",
   "pygments_lexer": "ipython3",
   "version": "3.7.7"
  }
 },
 "nbformat": 4,
 "nbformat_minor": 2
}
