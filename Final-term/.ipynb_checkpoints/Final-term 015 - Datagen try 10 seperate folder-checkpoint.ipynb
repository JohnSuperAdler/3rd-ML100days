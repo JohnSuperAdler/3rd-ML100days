{
 "cells": [
  {
   "cell_type": "code",
   "execution_count": 1,
   "metadata": {},
   "outputs": [
    {
     "name": "stderr",
     "output_type": "stream",
     "text": [
      "Using TensorFlow backend.\n"
     ]
    }
   ],
   "source": [
    "##### DNN module\n",
    "\n",
    "from keras.utils import to_categorical\n",
    "from keras import backend as K\n",
    "from keras.models import Model\n",
    "from keras.applications import ResNet50\n",
    "from keras.optimizers import Adagrad, RMSprop, Adam\n",
    "from sklearn.model_selection import train_test_split\n",
    "from keras.models import Sequential\n",
    "from keras.layers import Dense, Dropout, Activation, Flatten\n",
    "from keras.layers import Conv2D, MaxPooling2D\n",
    "from keras.preprocessing.image import ImageDataGenerator\n",
    "from keras.regularizers import l1, l2, l1_l2"
   ]
  },
  {
   "cell_type": "code",
   "execution_count": 2,
   "metadata": {},
   "outputs": [],
   "source": [
    "#import os\n",
    "#os.environ[\"CUDA_VISIBLE_DEVICES\"] = \"-1\""
   ]
  },
  {
   "cell_type": "code",
   "execution_count": 3,
   "metadata": {},
   "outputs": [],
   "source": [
    "##### Common moldule\n",
    "\n",
    "import numpy as np\n",
    "import os\n",
    "import glob\n",
    "import matplotlib.pyplot as plt\n",
    "import time\n",
    "from PIL import Image\n",
    "from scipy.interpolate import RegularGridInterpolator\n",
    "import pandas as pd"
   ]
  },
  {
   "cell_type": "code",
   "execution_count": 4,
   "metadata": {},
   "outputs": [],
   "source": [
    "batch_size = 64 # batch 的大小，如果出現 OOM error，請降低這個值\n",
    "num_classes = 5 # 類別的數量，Cifar 10 共有 10 個類別\n",
    "epochs = 100 # 訓練的 epochs 數量"
   ]
  },
  {
   "cell_type": "code",
   "execution_count": 5,
   "metadata": {},
   "outputs": [],
   "source": [
    "pic_size = 120\n",
    "fn_serial = '014'"
   ]
  },
  {
   "cell_type": "code",
   "execution_count": 6,
   "metadata": {},
   "outputs": [],
   "source": [
    "l1_ratio = 1e-8"
   ]
  },
  {
   "cell_type": "code",
   "execution_count": 7,
   "metadata": {},
   "outputs": [
    {
     "name": "stdout",
     "output_type": "stream",
     "text": [
      "Model: \"sequential_1\"\n",
      "_________________________________________________________________\n",
      "Layer (type)                 Output Shape              Param #   \n",
      "=================================================================\n",
      "conv2d_1 (Conv2D)            (None, 120, 120, 32)      896       \n",
      "_________________________________________________________________\n",
      "activation_1 (Activation)    (None, 120, 120, 32)      0         \n",
      "_________________________________________________________________\n",
      "max_pooling2d_1 (MaxPooling2 (None, 60, 60, 32)        0         \n",
      "_________________________________________________________________\n",
      "conv2d_2 (Conv2D)            (None, 60, 60, 128)       36992     \n",
      "_________________________________________________________________\n",
      "activation_2 (Activation)    (None, 60, 60, 128)       0         \n",
      "_________________________________________________________________\n",
      "max_pooling2d_2 (MaxPooling2 (None, 30, 30, 128)       0         \n",
      "_________________________________________________________________\n",
      "conv2d_3 (Conv2D)            (None, 30, 30, 64)        73792     \n",
      "_________________________________________________________________\n",
      "activation_3 (Activation)    (None, 30, 30, 64)        0         \n",
      "_________________________________________________________________\n",
      "max_pooling2d_3 (MaxPooling2 (None, 15, 15, 64)        0         \n",
      "_________________________________________________________________\n",
      "conv2d_4 (Conv2D)            (None, 15, 15, 32)        18464     \n",
      "_________________________________________________________________\n",
      "activation_4 (Activation)    (None, 15, 15, 32)        0         \n",
      "_________________________________________________________________\n",
      "max_pooling2d_4 (MaxPooling2 (None, 7, 7, 32)          0         \n",
      "_________________________________________________________________\n",
      "flatten_1 (Flatten)          (None, 1568)              0         \n",
      "_________________________________________________________________\n",
      "dense_1 (Dense)              (None, 512)               803328    \n",
      "_________________________________________________________________\n",
      "activation_5 (Activation)    (None, 512)               0         \n",
      "_________________________________________________________________\n",
      "dense_2 (Dense)              (None, 5)                 2565      \n",
      "_________________________________________________________________\n",
      "activation_6 (Activation)    (None, 5)                 0         \n",
      "=================================================================\n",
      "Total params: 936,037\n",
      "Trainable params: 936,037\n",
      "Non-trainable params: 0\n",
      "_________________________________________________________________\n"
     ]
    }
   ],
   "source": [
    "model = Sequential()\n",
    "model.add(Conv2D(32, (3, 3), padding='same', input_shape=(pic_size, pic_size, 3), kernel_regularizer=l1(l1_ratio)))\n",
    "model.add(Activation('relu'))\n",
    "model.add(MaxPooling2D(pool_size=(2, 2)))\n",
    "#model.add(Dropout(0.25))\n",
    "\n",
    "model.add(Conv2D(128, (3, 3), padding='same', kernel_regularizer=l1(l1_ratio)))\n",
    "model.add(Activation('relu'))\n",
    "model.add(MaxPooling2D(pool_size=(2, 2)))\n",
    "#model.add(Dropout(0.25))\n",
    "\n",
    "model.add(Conv2D(64, (3, 3), padding='same', kernel_regularizer=l1(l1_ratio)))\n",
    "model.add(Activation('relu'))\n",
    "model.add(MaxPooling2D(pool_size=(2, 2)))\n",
    "#model.add(Dropout(0.25))\n",
    "\n",
    "model.add(Conv2D(32, (3, 3), padding='same', kernel_regularizer=l1(l1_ratio)))\n",
    "model.add(Activation('relu'))\n",
    "model.add(MaxPooling2D(pool_size=(2, 2)))\n",
    "#model.add(Dropout(0.25))\n",
    "\n",
    "model.add(Flatten())\n",
    "model.add(Dense(512, kernel_regularizer=l1(l1_ratio)))\n",
    "model.add(Activation('relu'))\n",
    "#model.add(Dropout(0.5))\n",
    "model.add(Dense(num_classes))\n",
    "model.add(Activation('softmax'))\n",
    "model.summary()"
   ]
  },
  {
   "cell_type": "code",
   "execution_count": 8,
   "metadata": {},
   "outputs": [],
   "source": [
    "model.compile(loss='categorical_crossentropy',\n",
    "              optimizer=RMSprop(),\n",
    "              metrics=['accuracy'])"
   ]
  },
  {
   "cell_type": "code",
   "execution_count": 9,
   "metadata": {},
   "outputs": [],
   "source": [
    "augment_generator = ImageDataGenerator(\n",
    "                                       rotation_range=20,\n",
    "                                       rescale=1./255,\n",
    "                                       #featurewise_center=True,\n",
    "                                       #featurewise_std_normalization=True,\n",
    "                                       width_shift_range=0.2,\n",
    "                                       height_shift_range=0.2,\n",
    "                                       horizontal_flip=True,\n",
    "                                       #data_format='channels_last'\n",
    "                                      )"
   ]
  },
  {
   "cell_type": "code",
   "execution_count": 10,
   "metadata": {},
   "outputs": [
    {
     "name": "stdout",
     "output_type": "stream",
     "text": [
      "Found 2823 images belonging to 5 classes.\n"
     ]
    }
   ],
   "source": [
    "train_generator = augment_generator.flow_from_directory('database/image_data/train',\n",
    "                                                        target_size=(pic_size, pic_size),\n",
    "                                                        batch_size=batch_size,\n",
    "                                                        class_mode='categorical',\n",
    "                                                        )"
   ]
  },
  {
   "cell_type": "code",
   "execution_count": 11,
   "metadata": {},
   "outputs": [
    {
     "name": "stdout",
     "output_type": "stream",
     "text": [
      "Found 2823 images belonging to 5 classes.\n"
     ]
    }
   ],
   "source": [
    "valid_generator = augment_generator.flow_from_directory('database/image_data/train',\n",
    "                                                        target_size=(pic_size, pic_size),\n",
    "                                                        batch_size=batch_size,\n",
    "                                                        class_mode='categorical',\n",
    "                                                        )"
   ]
  },
  {
   "cell_type": "code",
   "execution_count": 12,
   "metadata": {},
   "outputs": [
    {
     "name": "stdout",
     "output_type": "stream",
     "text": [
      "data batch shape: (64, 120, 120, 3)\n",
      "labels batch shape: (64, 5)\n"
     ]
    }
   ],
   "source": [
    "for data_batch, labels_batch in train_generator:\n",
    "    print('data batch shape:', data_batch.shape)\n",
    "    print('labels batch shape:', labels_batch.shape)\n",
    "    break"
   ]
  },
  {
   "cell_type": "code",
   "execution_count": 13,
   "metadata": {},
   "outputs": [
    {
     "name": "stdout",
     "output_type": "stream",
     "text": [
      "Epoch 1/100\n",
      "44/44 [==============================] - 24s 538ms/step - loss: 1.6355 - accuracy: 0.2965 - val_loss: 1.5828 - val_accuracy: 0.3229\n",
      "Epoch 2/100\n",
      "44/44 [==============================] - 22s 505ms/step - loss: 1.3185 - accuracy: 0.4451 - val_loss: 1.2322 - val_accuracy: 0.4893\n",
      "Epoch 3/100\n",
      "44/44 [==============================] - 22s 500ms/step - loss: 1.1745 - accuracy: 0.5219 - val_loss: 0.8553 - val_accuracy: 0.5826\n",
      "Epoch 4/100\n",
      "44/44 [==============================] - 21s 482ms/step - loss: 1.0867 - accuracy: 0.5687 - val_loss: 1.1858 - val_accuracy: 0.5530\n",
      "Epoch 5/100\n",
      "44/44 [==============================] - 22s 496ms/step - loss: 1.0238 - accuracy: 0.6097 - val_loss: 0.9794 - val_accuracy: 0.6398\n",
      "Epoch 6/100\n",
      "44/44 [==============================] - 21s 484ms/step - loss: 0.9450 - accuracy: 0.6343 - val_loss: 0.9972 - val_accuracy: 0.6122\n",
      "Epoch 7/100\n",
      "44/44 [==============================] - 21s 467ms/step - loss: 0.9146 - accuracy: 0.6444 - val_loss: 0.9257 - val_accuracy: 0.6519\n",
      "Epoch 8/100\n",
      "44/44 [==============================] - 21s 486ms/step - loss: 0.9041 - accuracy: 0.6502 - val_loss: 0.8459 - val_accuracy: 0.6351\n",
      "Epoch 9/100\n",
      "44/44 [==============================] - 22s 505ms/step - loss: 0.8839 - accuracy: 0.6713 - val_loss: 0.6331 - val_accuracy: 0.7275\n",
      "Epoch 10/100\n",
      "44/44 [==============================] - 20s 460ms/step - loss: 0.8602 - accuracy: 0.6829 - val_loss: 0.8924 - val_accuracy: 0.7216\n",
      "Epoch 11/100\n",
      "44/44 [==============================] - 20s 459ms/step - loss: 0.7982 - accuracy: 0.6989 - val_loss: 0.5961 - val_accuracy: 0.7044\n",
      "Epoch 12/100\n",
      "44/44 [==============================] - 19s 442ms/step - loss: 0.8217 - accuracy: 0.7002 - val_loss: 0.6669 - val_accuracy: 0.7136\n",
      "Epoch 13/100\n",
      "44/44 [==============================] - 20s 454ms/step - loss: 0.8001 - accuracy: 0.7031 - val_loss: 0.5755 - val_accuracy: 0.7276\n",
      "Epoch 14/100\n",
      "44/44 [==============================] - 19s 437ms/step - loss: 0.7613 - accuracy: 0.7278 - val_loss: 0.8164 - val_accuracy: 0.7171\n",
      "Epoch 15/100\n",
      "44/44 [==============================] - 19s 442ms/step - loss: 0.7180 - accuracy: 0.7187 - val_loss: 0.6216 - val_accuracy: 0.7257\n",
      "Epoch 16/100\n",
      "44/44 [==============================] - 19s 441ms/step - loss: 0.7299 - accuracy: 0.7209 - val_loss: 0.6237 - val_accuracy: 0.7413\n",
      "Epoch 17/100\n",
      "44/44 [==============================] - 20s 461ms/step - loss: 0.7015 - accuracy: 0.7322 - val_loss: 0.6301 - val_accuracy: 0.7556\n",
      "Epoch 18/100\n",
      "44/44 [==============================] - 21s 474ms/step - loss: 0.7563 - accuracy: 0.7209 - val_loss: 1.6074 - val_accuracy: 0.7612\n",
      "Epoch 19/100\n",
      "44/44 [==============================] - 20s 446ms/step - loss: 0.6865 - accuracy: 0.7450 - val_loss: 0.5173 - val_accuracy: 0.7754\n",
      "Epoch 20/100\n",
      "44/44 [==============================] - 20s 448ms/step - loss: 0.6574 - accuracy: 0.7597 - val_loss: 0.7311 - val_accuracy: 0.7280\n",
      "Epoch 21/100\n",
      "44/44 [==============================] - 19s 438ms/step - loss: 0.6782 - accuracy: 0.7423 - val_loss: 0.6617 - val_accuracy: 0.7626\n",
      "Epoch 22/100\n",
      "44/44 [==============================] - 19s 436ms/step - loss: 0.6437 - accuracy: 0.7572 - val_loss: 0.6170 - val_accuracy: 0.7811\n",
      "Epoch 23/100\n",
      "44/44 [==============================] - 20s 448ms/step - loss: 0.6265 - accuracy: 0.7596 - val_loss: 0.4567 - val_accuracy: 0.8043\n",
      "Epoch 24/100\n",
      "44/44 [==============================] - 19s 430ms/step - loss: 0.6573 - accuracy: 0.7557 - val_loss: 0.5488 - val_accuracy: 0.7996\n",
      "Epoch 25/100\n",
      "44/44 [==============================] - 20s 456ms/step - loss: 0.6006 - accuracy: 0.7809 - val_loss: 0.5855 - val_accuracy: 0.7560\n",
      "Epoch 26/100\n",
      "44/44 [==============================] - 21s 476ms/step - loss: 0.5927 - accuracy: 0.7775 - val_loss: 0.5454 - val_accuracy: 0.7474\n",
      "Epoch 27/100\n",
      "44/44 [==============================] - 21s 488ms/step - loss: 0.5957 - accuracy: 0.7746 - val_loss: 0.6750 - val_accuracy: 0.7890\n",
      "Epoch 28/100\n",
      "44/44 [==============================] - 20s 454ms/step - loss: 0.5745 - accuracy: 0.7869 - val_loss: 0.4196 - val_accuracy: 0.8145\n",
      "Epoch 29/100\n",
      "44/44 [==============================] - 19s 439ms/step - loss: 0.5728 - accuracy: 0.7887 - val_loss: 0.7804 - val_accuracy: 0.8031\n",
      "Epoch 30/100\n",
      "44/44 [==============================] - 19s 442ms/step - loss: 0.5595 - accuracy: 0.7894 - val_loss: 0.6133 - val_accuracy: 0.8066\n",
      "Epoch 31/100\n",
      "44/44 [==============================] - 20s 449ms/step - loss: 0.5315 - accuracy: 0.7978 - val_loss: 0.3425 - val_accuracy: 0.8088\n",
      "Epoch 32/100\n",
      "44/44 [==============================] - 20s 444ms/step - loss: 0.5546 - accuracy: 0.7851 - val_loss: 0.7056 - val_accuracy: 0.7703\n",
      "Epoch 33/100\n",
      "44/44 [==============================] - 20s 445ms/step - loss: 0.5522 - accuracy: 0.8017 - val_loss: 0.5373 - val_accuracy: 0.8101\n",
      "Epoch 34/100\n",
      "44/44 [==============================] - 19s 429ms/step - loss: 0.5390 - accuracy: 0.8027 - val_loss: 0.8798 - val_accuracy: 0.8008\n",
      "Epoch 35/100\n",
      "44/44 [==============================] - 20s 445ms/step - loss: 0.5052 - accuracy: 0.8017 - val_loss: 0.6047 - val_accuracy: 0.8241\n",
      "Epoch 36/100\n",
      "44/44 [==============================] - 21s 485ms/step - loss: 0.5180 - accuracy: 0.8040 - val_loss: 0.2564 - val_accuracy: 0.8078\n",
      "Epoch 37/100\n",
      "44/44 [==============================] - 20s 444ms/step - loss: 0.4675 - accuracy: 0.8191 - val_loss: 0.3140 - val_accuracy: 0.8412\n",
      "Epoch 38/100\n",
      "44/44 [==============================] - 19s 435ms/step - loss: 0.5039 - accuracy: 0.8123 - val_loss: 0.4103 - val_accuracy: 0.8428\n",
      "Epoch 39/100\n",
      "44/44 [==============================] - 20s 445ms/step - loss: 0.4894 - accuracy: 0.8231 - val_loss: 0.3160 - val_accuracy: 0.8336\n",
      "Epoch 40/100\n",
      "44/44 [==============================] - 19s 442ms/step - loss: 0.4940 - accuracy: 0.8130 - val_loss: 0.4410 - val_accuracy: 0.8562\n",
      "Epoch 41/100\n",
      "44/44 [==============================] - 19s 443ms/step - loss: 0.4502 - accuracy: 0.8307 - val_loss: 0.4317 - val_accuracy: 0.8463\n",
      "Epoch 42/100\n",
      "44/44 [==============================] - 19s 438ms/step - loss: 0.4825 - accuracy: 0.8213 - val_loss: 0.3374 - val_accuracy: 0.8708\n",
      "Epoch 43/100\n",
      "44/44 [==============================] - 19s 440ms/step - loss: 0.4561 - accuracy: 0.8362 - val_loss: 0.5602 - val_accuracy: 0.8489\n",
      "Epoch 44/100\n",
      "44/44 [==============================] - 20s 449ms/step - loss: 0.4388 - accuracy: 0.8423 - val_loss: 0.4090 - val_accuracy: 0.8288\n",
      "Epoch 45/100\n",
      "44/44 [==============================] - 21s 485ms/step - loss: 0.4263 - accuracy: 0.8434 - val_loss: 0.0408 - val_accuracy: 0.8665\n",
      "Epoch 46/100\n",
      "44/44 [==============================] - 20s 444ms/step - loss: 0.4207 - accuracy: 0.8474 - val_loss: 0.4593 - val_accuracy: 0.8476\n",
      "Epoch 47/100\n",
      "44/44 [==============================] - 22s 501ms/step - loss: 0.3981 - accuracy: 0.8532 - val_loss: 0.4589 - val_accuracy: 0.8886\n",
      "Epoch 48/100\n",
      "44/44 [==============================] - 22s 496ms/step - loss: 0.4078 - accuracy: 0.8467 - val_loss: 0.2890 - val_accuracy: 0.8724\n",
      "Epoch 49/100\n",
      "44/44 [==============================] - 22s 493ms/step - loss: 0.4189 - accuracy: 0.8485 - val_loss: 0.7122 - val_accuracy: 0.7821\n",
      "Epoch 50/100\n",
      "44/44 [==============================] - 21s 482ms/step - loss: 0.4399 - accuracy: 0.8354 - val_loss: 0.3926 - val_accuracy: 0.8708\n",
      "Epoch 51/100\n",
      "44/44 [==============================] - 21s 486ms/step - loss: 0.3957 - accuracy: 0.8501 - val_loss: 0.2627 - val_accuracy: 0.8826\n",
      "Epoch 52/100\n",
      "44/44 [==============================] - 21s 471ms/step - loss: 0.3984 - accuracy: 0.8605 - val_loss: 0.2820 - val_accuracy: 0.8925\n",
      "Epoch 53/100\n",
      "44/44 [==============================] - 21s 482ms/step - loss: 0.3765 - accuracy: 0.8547 - val_loss: 0.3432 - val_accuracy: 0.8766\n",
      "Epoch 54/100\n",
      "44/44 [==============================] - 22s 494ms/step - loss: 0.3988 - accuracy: 0.8561 - val_loss: 0.0058 - val_accuracy: 0.8843\n",
      "Epoch 55/100\n",
      "44/44 [==============================] - 20s 451ms/step - loss: 0.3707 - accuracy: 0.8605 - val_loss: 0.2585 - val_accuracy: 0.8788\n",
      "Epoch 56/100\n",
      "44/44 [==============================] - 20s 456ms/step - loss: 0.3444 - accuracy: 0.8688 - val_loss: 0.4021 - val_accuracy: 0.8727\n",
      "Epoch 57/100\n"
     ]
    },
    {
     "name": "stdout",
     "output_type": "stream",
     "text": [
      "44/44 [==============================] - 19s 439ms/step - loss: 0.3787 - accuracy: 0.8550 - val_loss: 0.1927 - val_accuracy: 0.8890\n",
      "Epoch 58/100\n",
      "44/44 [==============================] - 20s 447ms/step - loss: 0.3683 - accuracy: 0.8666 - val_loss: 0.3118 - val_accuracy: 0.8928\n",
      "Epoch 59/100\n",
      "44/44 [==============================] - 20s 446ms/step - loss: 0.3458 - accuracy: 0.8713 - val_loss: 0.3095 - val_accuracy: 0.8931\n",
      "Epoch 60/100\n",
      "44/44 [==============================] - 19s 443ms/step - loss: 0.3337 - accuracy: 0.8793 - val_loss: 0.4609 - val_accuracy: 0.8874\n",
      "Epoch 61/100\n",
      "44/44 [==============================] - 19s 442ms/step - loss: 0.3306 - accuracy: 0.8782 - val_loss: 0.3014 - val_accuracy: 0.8998\n",
      "Epoch 62/100\n",
      "44/44 [==============================] - 21s 467ms/step - loss: 0.3179 - accuracy: 0.8825 - val_loss: 0.3702 - val_accuracy: 0.8963\n",
      "Epoch 63/100\n",
      "44/44 [==============================] - 21s 485ms/step - loss: 0.3725 - accuracy: 0.8671 - val_loss: 0.2070 - val_accuracy: 0.8477\n",
      "Epoch 64/100\n",
      "44/44 [==============================] - 19s 438ms/step - loss: 0.3204 - accuracy: 0.8829 - val_loss: 0.3614 - val_accuracy: 0.8950\n",
      "Epoch 65/100\n",
      "44/44 [==============================] - 20s 445ms/step - loss: 0.3061 - accuracy: 0.8888 - val_loss: 0.2711 - val_accuracy: 0.8937\n",
      "Epoch 66/100\n",
      "44/44 [==============================] - 20s 451ms/step - loss: 0.3104 - accuracy: 0.8811 - val_loss: 0.3726 - val_accuracy: 0.8781\n",
      "Epoch 67/100\n",
      "44/44 [==============================] - 20s 446ms/step - loss: 0.3006 - accuracy: 0.8945 - val_loss: 0.4086 - val_accuracy: 0.8766\n",
      "Epoch 68/100\n",
      "44/44 [==============================] - 19s 439ms/step - loss: 0.2907 - accuracy: 0.8855 - val_loss: 0.3155 - val_accuracy: 0.8778\n",
      "Epoch 69/100\n",
      "44/44 [==============================] - 19s 432ms/step - loss: 0.3059 - accuracy: 0.8912 - val_loss: 0.5157 - val_accuracy: 0.8769\n",
      "Epoch 70/100\n",
      "44/44 [==============================] - 20s 446ms/step - loss: 0.2865 - accuracy: 0.9006 - val_loss: 0.1772 - val_accuracy: 0.9135\n",
      "Epoch 71/100\n",
      "44/44 [==============================] - 20s 455ms/step - loss: 0.3210 - accuracy: 0.8853 - val_loss: 0.2586 - val_accuracy: 0.9192\n",
      "Epoch 72/100\n",
      "44/44 [==============================] - 22s 497ms/step - loss: 0.2765 - accuracy: 0.8970 - val_loss: 0.0959 - val_accuracy: 0.8788\n",
      "Epoch 73/100\n",
      "44/44 [==============================] - 20s 446ms/step - loss: 0.2964 - accuracy: 0.8927 - val_loss: 0.2809 - val_accuracy: 0.8896\n",
      "Epoch 74/100\n",
      "44/44 [==============================] - 19s 440ms/step - loss: 0.2870 - accuracy: 0.8970 - val_loss: 0.1095 - val_accuracy: 0.9252\n",
      "Epoch 75/100\n",
      "44/44 [==============================] - 19s 434ms/step - loss: 0.2621 - accuracy: 0.9083 - val_loss: 0.2535 - val_accuracy: 0.8851\n",
      "Epoch 76/100\n",
      "44/44 [==============================] - 20s 443ms/step - loss: 0.3068 - accuracy: 0.8920 - val_loss: 0.2697 - val_accuracy: 0.9300\n",
      "Epoch 77/100\n",
      "44/44 [==============================] - 19s 442ms/step - loss: 0.2546 - accuracy: 0.9025 - val_loss: 0.1866 - val_accuracy: 0.9246\n",
      "Epoch 78/100\n",
      "44/44 [==============================] - 19s 434ms/step - loss: 0.3078 - accuracy: 0.8853 - val_loss: 0.2804 - val_accuracy: 0.9297\n",
      "Epoch 79/100\n",
      "44/44 [==============================] - 20s 445ms/step - loss: 0.2287 - accuracy: 0.9187 - val_loss: 0.0437 - val_accuracy: 0.9405\n",
      "Epoch 80/100\n",
      "44/44 [==============================] - 20s 452ms/step - loss: 0.2666 - accuracy: 0.8996 - val_loss: 0.1770 - val_accuracy: 0.9411\n",
      "Epoch 81/100\n",
      "44/44 [==============================] - 21s 480ms/step - loss: 0.2530 - accuracy: 0.9101 - val_loss: 0.2638 - val_accuracy: 0.9274\n",
      "Epoch 82/100\n",
      "44/44 [==============================] - 19s 433ms/step - loss: 0.2547 - accuracy: 0.9116 - val_loss: 0.3305 - val_accuracy: 0.9007\n",
      "Epoch 83/100\n",
      "44/44 [==============================] - 19s 439ms/step - loss: 0.2452 - accuracy: 0.9163 - val_loss: 0.1935 - val_accuracy: 0.9325\n",
      "Epoch 84/100\n",
      "44/44 [==============================] - 19s 435ms/step - loss: 0.2665 - accuracy: 0.9094 - val_loss: 0.3384 - val_accuracy: 0.8960\n",
      "Epoch 85/100\n",
      "44/44 [==============================] - 20s 452ms/step - loss: 0.2500 - accuracy: 0.9210 - val_loss: 0.6658 - val_accuracy: 0.8234\n",
      "Epoch 86/100\n",
      "44/44 [==============================] - 19s 439ms/step - loss: 0.2682 - accuracy: 0.8992 - val_loss: 0.2525 - val_accuracy: 0.9198\n",
      "Epoch 87/100\n",
      "44/44 [==============================] - 19s 435ms/step - loss: 0.2329 - accuracy: 0.9203 - val_loss: 0.2677 - val_accuracy: 0.9065\n",
      "Epoch 88/100\n",
      "44/44 [==============================] - 20s 453ms/step - loss: 0.2506 - accuracy: 0.9119 - val_loss: 0.2737 - val_accuracy: 0.9491\n",
      "Epoch 89/100\n",
      "44/44 [==============================] - 20s 452ms/step - loss: 0.2291 - accuracy: 0.9188 - val_loss: 0.2726 - val_accuracy: 0.9357\n",
      "Epoch 90/100\n",
      "44/44 [==============================] - 21s 479ms/step - loss: 0.2554 - accuracy: 0.9007 - val_loss: 0.1364 - val_accuracy: 0.9465\n",
      "Epoch 91/100\n",
      "44/44 [==============================] - 19s 440ms/step - loss: 0.2289 - accuracy: 0.9195 - val_loss: 0.4195 - val_accuracy: 0.9026\n",
      "Epoch 92/100\n",
      "44/44 [==============================] - 22s 503ms/step - loss: 0.2054 - accuracy: 0.9224 - val_loss: 0.5176 - val_accuracy: 0.8298\n",
      "Epoch 93/100\n",
      "44/44 [==============================] - 24s 541ms/step - loss: 0.2284 - accuracy: 0.9282 - val_loss: 0.1266 - val_accuracy: 0.9475\n",
      "Epoch 94/100\n",
      "44/44 [==============================] - 22s 491ms/step - loss: 0.2395 - accuracy: 0.9169 - val_loss: 0.1674 - val_accuracy: 0.8979\n",
      "Epoch 95/100\n",
      "44/44 [==============================] - 21s 483ms/step - loss: 0.2312 - accuracy: 0.9149 - val_loss: 0.0914 - val_accuracy: 0.9478\n",
      "Epoch 96/100\n",
      "44/44 [==============================] - 21s 478ms/step - loss: 0.2005 - accuracy: 0.9308 - val_loss: 0.2645 - val_accuracy: 0.9360\n",
      "Epoch 97/100\n",
      "44/44 [==============================] - 21s 477ms/step - loss: 0.2139 - accuracy: 0.9204 - val_loss: 0.1225 - val_accuracy: 0.9555\n",
      "Epoch 98/100\n",
      "44/44 [==============================] - 21s 480ms/step - loss: 0.1915 - accuracy: 0.9322 - val_loss: 0.2207 - val_accuracy: 0.9049\n",
      "Epoch 99/100\n",
      "44/44 [==============================] - 22s 490ms/step - loss: 0.2151 - accuracy: 0.9275 - val_loss: 0.0983 - val_accuracy: 0.9187\n",
      "Epoch 100/100\n",
      "44/44 [==============================] - 20s 458ms/step - loss: 0.1875 - accuracy: 0.9350 - val_loss: 0.2559 - val_accuracy: 0.9504\n"
     ]
    }
   ],
   "source": [
    "history = model.fit(train_generator,\n",
    "                    steps_per_epoch=int(2823/batch_size), # 一個 epochs 要執行幾次 update，通常是資料量除以 batch size\n",
    "                    epochs=epochs,\n",
    "                    verbose=1,\n",
    "                    validation_data=valid_generator,\n",
    "                    validation_steps=50)"
   ]
  },
  {
   "cell_type": "code",
   "execution_count": 14,
   "metadata": {},
   "outputs": [],
   "source": [
    "model.save(f'model/STD_datagen_0101_{fn_serial}-100eps.h5')"
   ]
  },
  {
   "cell_type": "code",
   "execution_count": 15,
   "metadata": {},
   "outputs": [],
   "source": [
    "##### Test on unknown sample"
   ]
  },
  {
   "cell_type": "code",
   "execution_count": 16,
   "metadata": {},
   "outputs": [
    {
     "data": {
      "text/plain": [
       "['database/image_data/test\\\\0028624c49b3e0610ff9f1d111f5d532.jpg',\n",
       " 'database/image_data/test\\\\002c30700185b7971369258b438070d5.jpg',\n",
       " 'database/image_data/test\\\\00852f4f666acecd0c0d140365b42efd.jpg',\n",
       " 'database/image_data/test\\\\00c08828fce04e360c732cac01edad9e.jpg',\n",
       " 'database/image_data/test\\\\00d366e7877b6a78b104b57d67b60e6b.jpg']"
      ]
     },
     "execution_count": 16,
     "metadata": {},
     "output_type": "execute_result"
    }
   ],
   "source": [
    "path_unknown = glob.glob('database/image_data/test/*')\n",
    "path_unknown[:5]"
   ]
  },
  {
   "cell_type": "code",
   "execution_count": 17,
   "metadata": {},
   "outputs": [],
   "source": [
    "def resampleRGI3d(input_mx, resize_to, dtype='float32'):\n",
    "    # Ref: 10 3-A-7\n",
    "    # Ver. 2.1\n",
    "    # input_mx : numpy array, the original target matrix\n",
    "    # resize_to: list or tuple with 3 int inside\n",
    "    a, b, c = np.shape(input_mx)\n",
    "    p, q, r = resize_to\n",
    "    z_grid = np.linspace(0, p - 1, a)\n",
    "    y_grid = np.linspace(0, q - 1, b)\n",
    "    x_grid = np.linspace(0, r - 1, c)\n",
    "    RGI = RegularGridInterpolator((z_grid, y_grid, x_grid), input_mx)\n",
    "    z_grid_t2 = np.arange(p)\n",
    "    y_grid_t2 = np.arange(q)\n",
    "    x_grid_t2 = np.arange(r)\n",
    "    meshgrid_para = np.meshgrid(z_grid_t2, y_grid_t2, x_grid_t2)\n",
    "    RGI_mesh_mx = RGI((meshgrid_para[0], meshgrid_para[1], meshgrid_para[2]))\n",
    "    RGI_mx = np.transpose(RGI_mesh_mx, axes=[1, 0, 2]).astype(dtype)\n",
    "    return RGI_mx\n",
    "\n",
    "def happy_time(start,stop):\n",
    "    process_time = round(stop - start)\n",
    "    ss = process_time % 60\n",
    "    mm = process_time // 60 % 60\n",
    "    hh = process_time // 3600\n",
    "    duration = \"Process time == {}s == {}H {}m {}s\".format(process_time,hh,mm,ss)\n",
    "    return duration"
   ]
  },
  {
   "cell_type": "code",
   "execution_count": 18,
   "metadata": {},
   "outputs": [
    {
     "name": "stdout",
     "output_type": "stream",
     "text": [
      "200 files done. Process time == 3s == 0H 0m 3s\n",
      "400 files done. Process time == 6s == 0H 0m 6s\n",
      "600 files done. Process time == 8s == 0H 0m 8s\n",
      "800 files done. Process time == 11s == 0H 0m 11s\n",
      "1000 files done. Process time == 14s == 0H 0m 14s\n",
      "1200 files done. Process time == 17s == 0H 0m 17s\n",
      "1400 files done. Process time == 19s == 0H 0m 19s\n",
      "1600 files done. Process time == 22s == 0H 0m 22s\n",
      "1800 files done. Process time == 25s == 0H 0m 25s\n",
      "2000 files done. Process time == 28s == 0H 0m 28s\n"
     ]
    }
   ],
   "source": [
    "\n",
    "id_li = []\n",
    "flower_class = []\n",
    "loop_start = time.time()\n",
    "\n",
    "for j in range(len(path_unknown)):\n",
    "    serial = os.path.basename(path_unknown[j])[:-4]\n",
    "    temp_pic = np.asarray(Image.open(path_unknown[j]))\n",
    "    temp_pic = resampleRGI3d(temp_pic, (pic_size, pic_size, 3))\n",
    "    temp_shape = np.shape(temp_pic)\n",
    "    temp_pic = np.expand_dims(temp_pic, axis = 0)\n",
    "    pred = model.predict(temp_pic)[0]\n",
    "    id_li.append(serial)\n",
    "    flower_class.append(list(pred).index(max(pred)))\n",
    "    if (j+1) % 200 == 0:\n",
    "        print(j+1, 'files done.', happy_time(loop_start, time.time()))"
   ]
  },
  {
   "cell_type": "code",
   "execution_count": 19,
   "metadata": {},
   "outputs": [
    {
     "data": {
      "text/html": [
       "<div>\n",
       "<style scoped>\n",
       "    .dataframe tbody tr th:only-of-type {\n",
       "        vertical-align: middle;\n",
       "    }\n",
       "\n",
       "    .dataframe tbody tr th {\n",
       "        vertical-align: top;\n",
       "    }\n",
       "\n",
       "    .dataframe thead th {\n",
       "        text-align: right;\n",
       "    }\n",
       "</style>\n",
       "<table border=\"1\" class=\"dataframe\">\n",
       "  <thead>\n",
       "    <tr style=\"text-align: right;\">\n",
       "      <th></th>\n",
       "      <th>id</th>\n",
       "      <th>flower_class</th>\n",
       "    </tr>\n",
       "  </thead>\n",
       "  <tbody>\n",
       "    <tr>\n",
       "      <th>0</th>\n",
       "      <td>0028624c49b3e0610ff9f1d111f5d532</td>\n",
       "      <td>2</td>\n",
       "    </tr>\n",
       "    <tr>\n",
       "      <th>1</th>\n",
       "      <td>002c30700185b7971369258b438070d5</td>\n",
       "      <td>4</td>\n",
       "    </tr>\n",
       "    <tr>\n",
       "      <th>2</th>\n",
       "      <td>00852f4f666acecd0c0d140365b42efd</td>\n",
       "      <td>4</td>\n",
       "    </tr>\n",
       "    <tr>\n",
       "      <th>3</th>\n",
       "      <td>00c08828fce04e360c732cac01edad9e</td>\n",
       "      <td>4</td>\n",
       "    </tr>\n",
       "    <tr>\n",
       "      <th>4</th>\n",
       "      <td>00d366e7877b6a78b104b57d67b60e6b</td>\n",
       "      <td>3</td>\n",
       "    </tr>\n",
       "    <tr>\n",
       "      <th>...</th>\n",
       "      <td>...</td>\n",
       "      <td>...</td>\n",
       "    </tr>\n",
       "    <tr>\n",
       "      <th>1995</th>\n",
       "      <td>ff7eac29b6d7a33fbd8009677c3e9c58</td>\n",
       "      <td>1</td>\n",
       "    </tr>\n",
       "    <tr>\n",
       "      <th>1996</th>\n",
       "      <td>ffbc32a7b67dfe72b8d35d4b1b35fd6c</td>\n",
       "      <td>0</td>\n",
       "    </tr>\n",
       "    <tr>\n",
       "      <th>1997</th>\n",
       "      <td>ffea1f275c05accb0a6bfd1203620c7e</td>\n",
       "      <td>0</td>\n",
       "    </tr>\n",
       "    <tr>\n",
       "      <th>1998</th>\n",
       "      <td>ffeb2a1cf53464b6af937ab8af0c2946</td>\n",
       "      <td>3</td>\n",
       "    </tr>\n",
       "    <tr>\n",
       "      <th>1999</th>\n",
       "      <td>ffefcc68e2e7eed8b17b0b5b0f740538</td>\n",
       "      <td>4</td>\n",
       "    </tr>\n",
       "  </tbody>\n",
       "</table>\n",
       "<p>2000 rows × 2 columns</p>\n",
       "</div>"
      ],
      "text/plain": [
       "                                    id  flower_class\n",
       "0     0028624c49b3e0610ff9f1d111f5d532             2\n",
       "1     002c30700185b7971369258b438070d5             4\n",
       "2     00852f4f666acecd0c0d140365b42efd             4\n",
       "3     00c08828fce04e360c732cac01edad9e             4\n",
       "4     00d366e7877b6a78b104b57d67b60e6b             3\n",
       "...                                ...           ...\n",
       "1995  ff7eac29b6d7a33fbd8009677c3e9c58             1\n",
       "1996  ffbc32a7b67dfe72b8d35d4b1b35fd6c             0\n",
       "1997  ffea1f275c05accb0a6bfd1203620c7e             0\n",
       "1998  ffeb2a1cf53464b6af937ab8af0c2946             3\n",
       "1999  ffefcc68e2e7eed8b17b0b5b0f740538             4\n",
       "\n",
       "[2000 rows x 2 columns]"
      ]
     },
     "execution_count": 19,
     "metadata": {},
     "output_type": "execute_result"
    }
   ],
   "source": [
    "pred_result_df = pd.DataFrame(columns=['id', 'flower_class'])\n",
    "pred_result_df['id'] = id_li\n",
    "pred_result_df['flower_class'] = flower_class\n",
    "pred_result_df"
   ]
  },
  {
   "cell_type": "code",
   "execution_count": 20,
   "metadata": {},
   "outputs": [
    {
     "data": {
      "text/plain": [
       "0    323\n",
       "1    192\n",
       "2    217\n",
       "3    640\n",
       "4    628\n",
       "Name: flower_class, dtype: int64"
      ]
     },
     "execution_count": 20,
     "metadata": {},
     "output_type": "execute_result"
    }
   ],
   "source": [
    "pred_result_df['flower_class'].value_counts().sort_index()\n",
    "\n",
    "\n",
    "#50eps\n",
    "#0    490\n",
    "#1    139\n",
    "#2    264\n",
    "#3    696\n",
    "#4    411\n",
    "#Name: flower_class, dtype: int64"
   ]
  },
  {
   "cell_type": "code",
   "execution_count": 21,
   "metadata": {},
   "outputs": [],
   "source": [
    "train_acc = model.history.history[\"accuracy\"]\n",
    "valid_acc = model.history.history[\"val_accuracy\"]"
   ]
  },
  {
   "cell_type": "code",
   "execution_count": null,
   "metadata": {},
   "outputs": [],
   "source": [
    "plt.figure(figsize=(10,8))\n",
    "plt.title('Accuracy')\n",
    "plt.plot(train_acc, label = 'train_acc')\n",
    "plt.plot(valid_acc, label = 'valid_acc')\n",
    "plt.legend()\n",
    "plt.show()"
   ]
  },
  {
   "cell_type": "code",
   "execution_count": 23,
   "metadata": {},
   "outputs": [],
   "source": [
    "pred_result_df.to_csv(f'model/pred_result_STD_datagen_0101_{fn_serial}-100eps.csv', index=False)"
   ]
  },
  {
   "cell_type": "code",
   "execution_count": null,
   "metadata": {},
   "outputs": [],
   "source": []
  },
  {
   "cell_type": "code",
   "execution_count": 22,
   "metadata": {},
   "outputs": [],
   "source": [
    "#####\n",
    "#####\n",
    "#####"
   ]
  },
  {
   "cell_type": "code",
   "execution_count": 30,
   "metadata": {},
   "outputs": [
    {
     "data": {
      "image/png": "[encoded data removed]",
      "text/plain": [
       "<Figure size 720x576 with 1 Axes>"
      ]
     },
     "metadata": {
      "needs_background": "light"
     },
     "output_type": "display_data"
    }
   ],
   "source": [
    "plt.figure(figsize=(10,8))\n",
    "plt.title('Accuracy')\n",
    "plt.plot(train_acc, label = 'train_acc')\n",
    "plt.plot(valid_acc, label = 'valid_acc')\n",
    "plt.legend()\n",
    "plt.show()"
   ]
  },
  {
   "cell_type": "code",
   "execution_count": 24,
   "metadata": {},
   "outputs": [
    {
     "data": {
      "image/png": "[encoded data removed]",
      "text/plain": [
       "<Figure size 720x576 with 1 Axes>"
      ]
     },
     "metadata": {
      "needs_background": "light"
     },
     "output_type": "display_data"
    }
   ],
   "source": [
    "plt.figure(figsize=(10,8))\n",
    "plt.title('Accuracy')\n",
    "plt.plot(train_acc, label = 'train_acc')\n",
    "plt.plot(valid_acc, label = 'valid_acc')\n",
    "plt.legend()\n",
    "plt.show()"
   ]
  },
  {
   "cell_type": "code",
   "execution_count": 24,
   "metadata": {},
   "outputs": [
    {
     "data": {
      "image/png": "[encoded data removed]",
      "text/plain": [
       "<Figure size 720x576 with 1 Axes>"
      ]
     },
     "metadata": {
      "needs_background": "light"
     },
     "output_type": "display_data"
    }
   ],
   "source": [
    "plt.figure(figsize=(10,8))\n",
    "plt.title('Accuracy')\n",
    "plt.plot(train_acc, label = 'train_acc')\n",
    "plt.plot(valid_acc, label = 'valid_acc')\n",
    "plt.legend()\n",
    "plt.show()"
   ]
  },
  {
   "cell_type": "code",
   "execution_count": 22,
   "metadata": {},
   "outputs": [
    {
     "data": {
      "image/png": "[encoded data removed]",
      "text/plain": [
       "<Figure size 720x576 with 1 Axes>"
      ]
     },
     "metadata": {
      "needs_background": "light"
     },
     "output_type": "display_data"
    }
   ],
   "source": [
    "plt.figure(figsize=(10,8))\n",
    "plt.title('Accuracy')\n",
    "plt.plot(train_acc, label = 'train_acc')\n",
    "plt.plot(valid_acc, label = 'valid_acc')\n",
    "plt.legend()\n",
    "plt.show()"
   ]
  }
 ],
 "metadata": {
  "kernelspec": {
   "display_name": "Python 3",
   "language": "python",
   "name": "python3"
  },
  "language_info": {
   "codemirror_mode": {
    "name": "ipython",
    "version": 3
   },
   "file_extension": ".py",
   "mimetype": "text/x-python",
   "name": "python",
   "nbconvert_exporter": "python",
   "pygments_lexer": "ipython3",
   "version": "3.7.9"
  }
 },
 "nbformat": 4,
 "nbformat_minor": 4
}
