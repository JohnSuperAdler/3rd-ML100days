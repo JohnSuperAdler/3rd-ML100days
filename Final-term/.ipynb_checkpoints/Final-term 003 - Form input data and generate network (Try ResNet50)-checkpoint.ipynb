{
 "cells": [
  {
   "cell_type": "code",
   "execution_count": 1,
   "metadata": {},
   "outputs": [
    {
     "name": "stderr",
     "output_type": "stream",
     "text": [
      "Using TensorFlow backend.\n"
     ]
    }
   ],
   "source": [
    "##### DNN module\n",
    "\n",
    "from keras.utils import to_categorical\n",
    "from keras import backend as K\n",
    "from keras.models import Model\n",
    "from keras.applications import ResNet50\n",
    "from keras.optimizers import Adagrad\n",
    "from sklearn.model_selection import train_test_split\n",
    "from keras.models import Sequential\n",
    "from keras.layers import Dense, Dropout, Activation, Flatten\n",
    "from keras.layers import Conv2D, MaxPooling2D"
   ]
  },
  {
   "cell_type": "code",
   "execution_count": 2,
   "metadata": {},
   "outputs": [],
   "source": [
    "##### Common moldule\n",
    "\n",
    "import numpy as np\n",
    "import os\n",
    "import glob\n",
    "import matplotlib.pyplot as plt"
   ]
  },
  {
   "cell_type": "code",
   "execution_count": 3,
   "metadata": {},
   "outputs": [
    {
     "name": "stdout",
     "output_type": "stream",
     "text": [
      "{'daisy': 0, 'dandelion': 1, 'rose': 2, 'sunflower': 3, 'tulip': 4}\n"
     ]
    }
   ],
   "source": [
    "##### Path\n",
    "\n",
    "train_db = 'database/combined_train_mx_uint8.npy'\n",
    "label_db = 'database/combined_label_mx_uint8.npy'\n",
    "\n",
    "flower_li = list(map(os.path.basename, glob.glob('database/image_data/train/*')))\n",
    "flower_mapping = {flower_li[i]: i for i in range(5)}\n",
    "\n",
    "print(flower_mapping)"
   ]
  },
  {
   "cell_type": "code",
   "execution_count": 4,
   "metadata": {},
   "outputs": [],
   "source": [
    "##### Load data\n",
    "\n",
    "flower_data   = np.load(train_db)\n",
    "flower_target = np.load(label_db)\n",
    "\n",
    "x_train, x_test, y_train, y_test = train_test_split(flower_data, flower_target, test_size=0.2, random_state=9527)"
   ]
  },
  {
   "cell_type": "code",
   "execution_count": 5,
   "metadata": {},
   "outputs": [
    {
     "data": {
      "text/plain": [
       "((2258, 180, 240, 3), (565, 180, 240, 3), (2258,), (565,))"
      ]
     },
     "execution_count": 5,
     "metadata": {},
     "output_type": "execute_result"
    }
   ],
   "source": [
    "##### Dimenssion check\n",
    "\n",
    "(np.shape(x_train), np.shape(x_test), np.shape(y_train), np.shape(y_test))"
   ]
  },
  {
   "cell_type": "code",
   "execution_count": 6,
   "metadata": {},
   "outputs": [],
   "source": [
    "##### Normalize / Categorize\n",
    "\n",
    "x_train = x_train / 255.\n",
    "x_test = x_test / 255.\n",
    "y_train = to_categorical(y_train, 5)\n",
    "y_test = to_categorical(y_test, 5)"
   ]
  },
  {
   "cell_type": "code",
   "execution_count": 7,
   "metadata": {},
   "outputs": [],
   "source": [
    "##### Parameter\n",
    "\n",
    "num_class = 5\n",
    "batch_size = 32\n",
    "num_epoches = 30"
   ]
  },
  {
   "cell_type": "code",
   "execution_count": 8,
   "metadata": {},
   "outputs": [
    {
     "name": "stdout",
     "output_type": "stream",
     "text": [
      "Model: \"sequential_1\"\n",
      "_________________________________________________________________\n",
      "Layer (type)                 Output Shape              Param #   \n",
      "=================================================================\n",
      "conv2d_1 (Conv2D)            (None, 180, 240, 32)      896       \n",
      "_________________________________________________________________\n",
      "activation_1 (Activation)    (None, 180, 240, 32)      0         \n",
      "_________________________________________________________________\n",
      "conv2d_2 (Conv2D)            (None, 178, 238, 32)      9248      \n",
      "_________________________________________________________________\n",
      "activation_2 (Activation)    (None, 178, 238, 32)      0         \n",
      "_________________________________________________________________\n",
      "max_pooling2d_1 (MaxPooling2 (None, 89, 119, 32)       0         \n",
      "_________________________________________________________________\n",
      "dropout_1 (Dropout)          (None, 89, 119, 32)       0         \n",
      "_________________________________________________________________\n",
      "conv2d_3 (Conv2D)            (None, 89, 119, 64)       18496     \n",
      "_________________________________________________________________\n",
      "activation_3 (Activation)    (None, 89, 119, 64)       0         \n",
      "_________________________________________________________________\n",
      "conv2d_4 (Conv2D)            (None, 87, 117, 64)       36928     \n",
      "_________________________________________________________________\n",
      "activation_4 (Activation)    (None, 87, 117, 64)       0         \n",
      "_________________________________________________________________\n",
      "max_pooling2d_2 (MaxPooling2 (None, 43, 58, 64)        0         \n",
      "_________________________________________________________________\n",
      "dropout_2 (Dropout)          (None, 43, 58, 64)        0         \n",
      "_________________________________________________________________\n",
      "flatten_1 (Flatten)          (None, 159616)            0         \n",
      "_________________________________________________________________\n",
      "dense_1 (Dense)              (None, 512)               81723904  \n",
      "_________________________________________________________________\n",
      "activation_5 (Activation)    (None, 512)               0         \n",
      "_________________________________________________________________\n",
      "dropout_3 (Dropout)          (None, 512)               0         \n",
      "_________________________________________________________________\n",
      "dense_2 (Dense)              (None, 5)                 2565      \n",
      "_________________________________________________________________\n",
      "activation_6 (Activation)    (None, 5)                 0         \n",
      "=================================================================\n",
      "Total params: 81,792,037\n",
      "Trainable params: 81,792,037\n",
      "Non-trainable params: 0\n",
      "_________________________________________________________________\n"
     ]
    }
   ],
   "source": [
    "##### Model\n",
    "\n",
    "model = Sequential()\n",
    "\n",
    "'''\n",
    "model.add(Conv2D(32, (5, 5), padding='same', input_shape=x_train.shape[1:]))\n",
    "model.add(Activation('relu'))\n",
    "model.add(Conv2D(32, (5, 5)))\n",
    "model.add(Activation('relu'))\n",
    "model.add(MaxPooling2D(pool_size=(2, 2)))\n",
    "model.add(Dropout(0.25))\n",
    "'''\n",
    "\n",
    "\n",
    "model.add(Conv2D(32, (3, 3), padding='same', input_shape=x_train.shape[1:]))\n",
    "model.add(Activation('relu'))\n",
    "model.add(Conv2D(32, (3, 3)))\n",
    "model.add(Activation('relu'))\n",
    "model.add(MaxPooling2D(pool_size=(2, 2)))\n",
    "model.add(Dropout(0.25))\n",
    "\n",
    "\n",
    "model.add(Conv2D(64, (3, 3), padding='same'))\n",
    "model.add(Activation('relu'))\n",
    "model.add(Conv2D(64, (3, 3)))\n",
    "model.add(Activation('relu'))\n",
    "model.add(MaxPooling2D(pool_size=(2, 2)))\n",
    "model.add(Dropout(0.25))\n",
    "\n",
    "model.add(Flatten())\n",
    "model.add(Dense(512))\n",
    "model.add(Activation('relu'))\n",
    "model.add(Dropout(0.5))\n",
    "model.add(Dense(num_class))\n",
    "model.add(Activation('softmax'))\n",
    "model.summary()"
   ]
  },
  {
   "cell_type": "code",
   "execution_count": 9,
   "metadata": {},
   "outputs": [
    {
     "name": "stdout",
     "output_type": "stream",
     "text": [
      "Train on 2258 samples, validate on 565 samples\n",
      "Epoch 1/30\n",
      "2258/2258 [==============================] - 19s 8ms/step - loss: 27.7777 - accuracy: 0.2374 - val_loss: 1.6028 - val_accuracy: 0.2460\n",
      "Epoch 2/30\n",
      "2258/2258 [==============================] - 14s 6ms/step - loss: 1.5812 - accuracy: 0.2511 - val_loss: 1.5906 - val_accuracy: 0.2885\n",
      "Epoch 3/30\n",
      "2258/2258 [==============================] - 14s 6ms/step - loss: 1.5510 - accuracy: 0.3198 - val_loss: 1.5271 - val_accuracy: 0.3628\n",
      "Epoch 4/30\n",
      "2258/2258 [==============================] - 14s 6ms/step - loss: 1.5106 - accuracy: 0.3370 - val_loss: 1.4882 - val_accuracy: 0.3558\n",
      "Epoch 5/30\n",
      "2258/2258 [==============================] - 14s 6ms/step - loss: 1.4688 - accuracy: 0.3689 - val_loss: 1.5083 - val_accuracy: 0.3558\n",
      "Epoch 6/30\n",
      "2258/2258 [==============================] - 14s 6ms/step - loss: 1.4327 - accuracy: 0.4035 - val_loss: 1.4747 - val_accuracy: 0.3664\n",
      "Epoch 7/30\n",
      "2258/2258 [==============================] - 14s 6ms/step - loss: 1.3274 - accuracy: 0.4517 - val_loss: 1.3658 - val_accuracy: 0.3965\n",
      "Epoch 8/30\n",
      "2258/2258 [==============================] - 14s 6ms/step - loss: 1.2566 - accuracy: 0.5031 - val_loss: 1.3235 - val_accuracy: 0.4584\n",
      "Epoch 9/30\n",
      "2258/2258 [==============================] - 14s 6ms/step - loss: 1.0634 - accuracy: 0.5970 - val_loss: 1.3212 - val_accuracy: 0.4885\n",
      "Epoch 10/30\n",
      "2258/2258 [==============================] - 14s 6ms/step - loss: 0.8776 - accuracy: 0.6612 - val_loss: 1.3600 - val_accuracy: 0.4690\n",
      "Epoch 11/30\n",
      "2258/2258 [==============================] - 14s 6ms/step - loss: 0.7051 - accuracy: 0.7352 - val_loss: 1.5688 - val_accuracy: 0.5009\n",
      "Epoch 12/30\n",
      "2258/2258 [==============================] - 14s 6ms/step - loss: 0.5890 - accuracy: 0.7932 - val_loss: 1.6456 - val_accuracy: 0.4850\n",
      "Epoch 13/30\n",
      "2258/2258 [==============================] - 14s 6ms/step - loss: 0.4795 - accuracy: 0.8295 - val_loss: 1.8078 - val_accuracy: 0.5062\n",
      "Epoch 14/30\n",
      "2258/2258 [==============================] - 14s 6ms/step - loss: 0.4391 - accuracy: 0.8485 - val_loss: 1.9262 - val_accuracy: 0.4920\n",
      "Epoch 15/30\n",
      "2258/2258 [==============================] - 14s 6ms/step - loss: 0.3402 - accuracy: 0.8844 - val_loss: 1.7767 - val_accuracy: 0.4920\n",
      "Epoch 16/30\n",
      "2258/2258 [==============================] - 14s 6ms/step - loss: 0.3000 - accuracy: 0.9052 - val_loss: 2.2352 - val_accuracy: 0.5009\n",
      "Epoch 17/30\n",
      "2258/2258 [==============================] - 14s 6ms/step - loss: 0.2534 - accuracy: 0.9185 - val_loss: 2.5234 - val_accuracy: 0.4336\n",
      "Epoch 18/30\n",
      "2258/2258 [==============================] - 14s 6ms/step - loss: 0.2141 - accuracy: 0.9256 - val_loss: 2.4895 - val_accuracy: 0.5027\n",
      "Epoch 19/30\n",
      "2258/2258 [==============================] - 14s 6ms/step - loss: 0.1852 - accuracy: 0.9389 - val_loss: 2.6379 - val_accuracy: 0.5115\n",
      "Epoch 20/30\n",
      "2258/2258 [==============================] - 14s 6ms/step - loss: 0.1482 - accuracy: 0.9548 - val_loss: 2.6770 - val_accuracy: 0.4779\n",
      "Epoch 21/30\n",
      "2258/2258 [==============================] - 14s 6ms/step - loss: 0.1244 - accuracy: 0.9672 - val_loss: 2.9446 - val_accuracy: 0.4920\n",
      "Epoch 22/30\n",
      "2258/2258 [==============================] - 14s 6ms/step - loss: 0.1095 - accuracy: 0.9703 - val_loss: 2.9330 - val_accuracy: 0.5044\n",
      "Epoch 23/30\n",
      "2258/2258 [==============================] - 14s 6ms/step - loss: 0.1122 - accuracy: 0.9686 - val_loss: 3.0449 - val_accuracy: 0.5097\n",
      "Epoch 24/30\n",
      "2258/2258 [==============================] - 14s 6ms/step - loss: 0.0988 - accuracy: 0.9734 - val_loss: 3.0247 - val_accuracy: 0.4956\n",
      "Epoch 25/30\n",
      "2258/2258 [==============================] - 14s 6ms/step - loss: 0.0759 - accuracy: 0.9810 - val_loss: 3.1195 - val_accuracy: 0.4903\n",
      "Epoch 26/30\n",
      "2258/2258 [==============================] - 14s 6ms/step - loss: 0.0867 - accuracy: 0.9774 - val_loss: 3.0157 - val_accuracy: 0.4991\n",
      "Epoch 27/30\n",
      "2258/2258 [==============================] - 14s 6ms/step - loss: 0.0629 - accuracy: 0.9836 - val_loss: 3.3523 - val_accuracy: 0.4973\n",
      "Epoch 28/30\n",
      "2258/2258 [==============================] - 14s 6ms/step - loss: 0.0656 - accuracy: 0.9827 - val_loss: 3.4515 - val_accuracy: 0.5044\n",
      "Epoch 29/30\n",
      "2258/2258 [==============================] - 14s 6ms/step - loss: 0.0462 - accuracy: 0.9858 - val_loss: 3.4631 - val_accuracy: 0.4991\n",
      "Epoch 30/30\n",
      "2258/2258 [==============================] - 14s 6ms/step - loss: 0.0387 - accuracy: 0.9911 - val_loss: 3.4430 - val_accuracy: 0.4991\n"
     ]
    }
   ],
   "source": [
    "##### Compile\n",
    "\n",
    "model.compile(loss='categorical_crossentropy',\n",
    "              optimizer=Adagrad(),\n",
    "              metrics=['accuracy'])\n",
    "\n",
    "history = model.fit(x_train, y_train,\n",
    "                    batch_size=batch_size,\n",
    "                    epochs=num_epoches,\n",
    "                    verbose=1,\n",
    "                    validation_data=(x_test, y_test))"
   ]
  },
  {
   "cell_type": "code",
   "execution_count": 10,
   "metadata": {},
   "outputs": [
    {
     "name": "stdout",
     "output_type": "stream",
     "text": [
      "Test loss: 3.442981396734187\n",
      "Test accuracy: 0.4991150498390198\n"
     ]
    }
   ],
   "source": [
    "##### Result\n",
    "\n",
    "score = model.evaluate(x_test, y_test, verbose=0)\n",
    "print('Test loss:', score[0])\n",
    "print('Test accuracy:', score[1])"
   ]
  },
  {
   "cell_type": "code",
   "execution_count": null,
   "metadata": {},
   "outputs": [],
   "source": []
  },
  {
   "cell_type": "code",
   "execution_count": 11,
   "metadata": {},
   "outputs": [],
   "source": [
    "#####\n",
    "#####\n",
    "#####"
   ]
  },
  {
   "cell_type": "code",
   "execution_count": null,
   "metadata": {},
   "outputs": [],
   "source": []
  }
 ],
 "metadata": {
  "kernelspec": {
   "display_name": "Python 3",
   "language": "python",
   "name": "python3"
  },
  "language_info": {
   "codemirror_mode": {
    "name": "ipython",
    "version": 3
   },
   "file_extension": ".py",
   "mimetype": "text/x-python",
   "name": "python",
   "nbconvert_exporter": "python",
   "pygments_lexer": "ipython3",
   "version": "3.7.7"
  }
 },
 "nbformat": 4,
 "nbformat_minor": 4
}
