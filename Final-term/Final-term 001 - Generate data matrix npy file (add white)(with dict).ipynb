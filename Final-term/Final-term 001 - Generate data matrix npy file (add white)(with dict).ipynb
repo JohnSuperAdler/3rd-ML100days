{
 "cells": [
  {
   "cell_type": "code",
   "execution_count": 1,
   "metadata": {},
   "outputs": [
    {
     "name": "stderr",
     "output_type": "stream",
     "text": [
      "Using TensorFlow backend.\n"
     ]
    }
   ],
   "source": [
    "##### DNN module\n",
    "\n",
    "from keras.utils import to_categorical\n",
    "from keras import backend as K\n",
    "from keras.models import Model\n",
    "from keras.layers import Flatten, Dense, Dropout\n",
    "from keras.applications import ResNet50\n",
    "from keras.optimizers import Adagrad\n",
    "#from keras.preprocessing import image\n",
    "\n",
    "from functools import partial\n",
    "from collections import defaultdict"
   ]
  },
  {
   "cell_type": "code",
   "execution_count": 2,
   "metadata": {},
   "outputs": [],
   "source": [
    "##### Common moldule\n",
    "\n",
    "import numpy as np\n",
    "import os\n",
    "import glob\n",
    "import matplotlib.pyplot as plt\n",
    "from PIL import Image\n",
    "from scipy.interpolate import RegularGridInterpolator"
   ]
  },
  {
   "cell_type": "code",
   "execution_count": 3,
   "metadata": {},
   "outputs": [],
   "source": [
    "##### Personal function\n",
    "\n",
    "def mx_preview2(array, min=0, max=2048, plotsize=6):\n",
    "    plt.figure(figsize=(plotsize, plotsize))\n",
    "    plt.imshow(array, aspect = 'equal', interpolation='nearest')\n",
    "    plt.title('(x, y) = {}, Int limit = {}'.format(np.shape(array), [min, max]),\n",
    "              fontsize = 16, y=1.05)\n",
    "    plt.xlabel('X', fontsize = 16)\n",
    "    plt.ylabel('Y', fontsize = 16)\n",
    "    plt.clim(min,max)\n",
    "    plt.colorbar(fraction=0.0451, pad=0.05)\n",
    "    return plt.show()\n",
    "\n",
    "def resampleRGI3d(input_mx, resize_to, dtype='float32'):\n",
    "    # Ref: 10 3-A-7\n",
    "    # Ver. 2.1\n",
    "    # input_mx : numpy array, the original target matrix\n",
    "    # resize_to: list or tuple with 3 int inside\n",
    "    a, b, c = np.shape(input_mx)\n",
    "    p, q, r = resize_to\n",
    "    z_grid = np.linspace(0, p - 1, a)\n",
    "    y_grid = np.linspace(0, q - 1, b)\n",
    "    x_grid = np.linspace(0, r - 1, c)\n",
    "    RGI = RegularGridInterpolator((z_grid, y_grid, x_grid), input_mx)\n",
    "    z_grid_t2 = np.arange(p)\n",
    "    y_grid_t2 = np.arange(q)\n",
    "    x_grid_t2 = np.arange(r)\n",
    "    meshgrid_para = np.meshgrid(z_grid_t2, y_grid_t2, x_grid_t2)\n",
    "    RGI_mesh_mx = RGI((meshgrid_para[0], meshgrid_para[1], meshgrid_para[2]))\n",
    "    RGI_mx = np.transpose(RGI_mesh_mx, axes=[1, 0, 2]).astype(dtype)\n",
    "    return RGI_mx"
   ]
  },
  {
   "cell_type": "code",
   "execution_count": 4,
   "metadata": {},
   "outputs": [
    {
     "name": "stdout",
     "output_type": "stream",
     "text": [
      "{'daisy': 0, 'dandelion': 1, 'rose': 2, 'sunflower': 3, 'tulip': 4}\n"
     ]
    }
   ],
   "source": [
    "##### Path and Read\n",
    "\n",
    "path_db       = 'database/image_data'\n",
    "path_train    = os.path.join(path_db, 'train')\n",
    "path_test     = os.path.join(path_db, 'test')\n",
    "sub_folder_li = list(map(os.path.basename, glob.glob(os.path.join(path_train, '*'))))\n",
    "\n",
    "flower_mapping = {sub_folder_li[i]: i for i in range(5)}\n",
    "\n",
    "print(flower_mapping)"
   ]
  },
  {
   "cell_type": "code",
   "execution_count": 5,
   "metadata": {},
   "outputs": [],
   "source": [
    "##### Load Training file\n",
    "#pic_store_dict = defaultdict(partial(np.ndarray, 0))\n",
    "total_dict = {}\n",
    "for i in range(len(sub_folder_li)):\n",
    "    path_train_0 = glob.glob(os.path.join(path_train, list(flower_mapping.keys())[i], '*'))\n",
    "    pic_store_dict = None\n",
    "    pic_store_dict = {}\n",
    "    for j in range(len(path_train_0)):\n",
    "        serial = os.path.basename(path_train_0[j])[:-4]\n",
    "        temp_pic = np.asarray(Image.open(path_train_0[j]))\n",
    "        temp_shape = np.shape(temp_pic)\n",
    "        if temp_shape[0] > 640:\n",
    "            temp_pic = temp_pic[:640]\n",
    "            temp_shape = np.shape(temp_pic)\n",
    "        if temp_shape[1] > 640:\n",
    "            temp_pic = temp_pic[:, :640]\n",
    "            temp_shape = np.shape(temp_pic)\n",
    "        if temp_shape[0] > 100:\n",
    "            temp_pic = resampleRGI3d(temp_pic, (240, int(temp_shape[1]*240/temp_shape[0]), 3))\n",
    "            temp_shape = np.shape(temp_pic)\n",
    "        if temp_shape[1] > 100:\n",
    "            temp_pic = resampleRGI3d(temp_pic, (int(temp_shape[0]*240/temp_shape[1]), 240, 3))\n",
    "            temp_shape = np.shape(temp_pic)\n",
    "        #if (temp_shape[0] <= 640) and (temp_shape[1] <= 640):\n",
    "        temp_pic = np.pad(temp_pic, ((0, 100 - temp_shape[0]), (0, 100 - temp_shape[1]), (0, 0)), 'constant', constant_values=255)\n",
    "        pic_store_dict[serial] = temp_pic\n",
    "    stack_a = np.stack([pic_store_dict[x] for x in list(pic_store_dict.keys())], axis=0)\n",
    "    total_dict[sub_folder_li[i]] = stack_a\n",
    "#print(np.shape(merged_mx))"
   ]
  },
  {
   "cell_type": "code",
   "execution_count": 6,
   "metadata": {},
   "outputs": [
    {
     "data": {
      "text/plain": [
       "240"
      ]
     },
     "execution_count": 6,
     "metadata": {},
     "output_type": "execute_result"
    }
   ],
   "source": [
    "temp_shape[1]"
   ]
  },
  {
   "cell_type": "code",
   "execution_count": 7,
   "metadata": {},
   "outputs": [
    {
     "name": "stdout",
     "output_type": "stream",
     "text": [
      "(500, 240, 240, 3)\n",
      "(687, 240, 240, 3)\n",
      "(515, 240, 240, 3)\n",
      "(488, 240, 240, 3)\n",
      "(633, 240, 240, 3)\n"
     ]
    }
   ],
   "source": [
    "print(np.shape(total_dict['daisy']))\n",
    "print(np.shape(total_dict['dandelion']))\n",
    "print(np.shape(total_dict['rose']))\n",
    "print(np.shape(total_dict['sunflower']))\n",
    "print(np.shape(total_dict['tulip']))"
   ]
  },
  {
   "cell_type": "code",
   "execution_count": 8,
   "metadata": {},
   "outputs": [
    {
     "name": "stdout",
     "output_type": "stream",
     "text": [
      "(2823, 240, 240, 3)\n"
     ]
    }
   ],
   "source": [
    "merged_mx = np.concatenate((total_dict['daisy'],\n",
    "                            total_dict['dandelion'],\n",
    "                            total_dict['rose'],\n",
    "                            total_dict['sunflower'],\n",
    "                            total_dict['tulip']), axis = 0)\n",
    "print(np.shape(merged_mx))"
   ]
  },
  {
   "cell_type": "code",
   "execution_count": 9,
   "metadata": {},
   "outputs": [
    {
     "name": "stdout",
     "output_type": "stream",
     "text": [
      "(2823,)\n"
     ]
    }
   ],
   "source": [
    "##### Generate Labels\n",
    "\n",
    "for i in range(len(list(flower_mapping.keys()))):\n",
    "    if i == 0:\n",
    "        label_li = [i]* len(glob.glob(os.path.join(path_train, list(flower_mapping.keys())[i], '*')))\n",
    "    else:\n",
    "        label_li += [i]* len(glob.glob(os.path.join(path_train, list(flower_mapping.keys())[i], '*')))\n",
    "label_mx = np.array(label_li)\n",
    "print(np.shape(label_mx))"
   ]
  },
  {
   "cell_type": "code",
   "execution_count": 10,
   "metadata": {},
   "outputs": [],
   "source": [
    "##### Save training matrix and label matrix to file\n",
    "np.save('database/combined_train_mx_240.npy', merged_mx.astype('uint8'))\n",
    "np.save('database/combined_label_mx_240.npy', label_mx.astype('uint8'))"
   ]
  },
  {
   "cell_type": "code",
   "execution_count": null,
   "metadata": {},
   "outputs": [],
   "source": []
  },
  {
   "cell_type": "code",
   "execution_count": null,
   "metadata": {},
   "outputs": [],
   "source": [
    "#####\n",
    "#####\n",
    "#####"
   ]
  }
 ],
 "metadata": {
  "kernelspec": {
   "display_name": "Python 3",
   "language": "python",
   "name": "python3"
  },
  "language_info": {
   "codemirror_mode": {
    "name": "ipython",
    "version": 3
   },
   "file_extension": ".py",
   "mimetype": "text/x-python",
   "name": "python",
   "nbconvert_exporter": "python",
   "pygments_lexer": "ipython3",
   "version": "3.7.9"
  }
 },
 "nbformat": 4,
 "nbformat_minor": 4
}
