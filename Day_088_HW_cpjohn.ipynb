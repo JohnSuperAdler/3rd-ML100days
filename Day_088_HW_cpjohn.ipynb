{
 "cells": [
  {
   "cell_type": "markdown",
   "metadata": {},
   "source": [
    "## Work\n",
    "1. 請嘗試寫一個 callback 用來記錄各類別在訓練過程中，對驗證集的 True Positive 與 True Negative"
   ]
  },
  {
   "cell_type": "code",
   "execution_count": 1,
   "metadata": {},
   "outputs": [
    {
     "name": "stderr",
     "output_type": "stream",
     "text": [
      "Using TensorFlow backend.\n"
     ]
    }
   ],
   "source": [
    "import os\n",
    "import keras\n",
    "\n",
    "# Disable GPU\n",
    "os.environ[\"CUDA_VISIBLE_DEVICES\"] = \"\""
   ]
  },
  {
   "cell_type": "code",
   "execution_count": 2,
   "metadata": {},
   "outputs": [],
   "source": [
    "train, test = keras.datasets.cifar10.load_data()"
   ]
  },
  {
   "cell_type": "code",
   "execution_count": 3,
   "metadata": {},
   "outputs": [],
   "source": [
    "## 資料前處理\n",
    "def preproc_x(x, flatten=True):\n",
    "    x = x / 255.\n",
    "    if flatten:\n",
    "        x = x.reshape((len(x), -1))\n",
    "    return x\n",
    "\n",
    "def preproc_y(y, num_classes=10):\n",
    "    if y.shape[-1] == 1:\n",
    "        y = keras.utils.to_categorical(y, num_classes)\n",
    "    return y    "
   ]
  },
  {
   "cell_type": "code",
   "execution_count": 4,
   "metadata": {},
   "outputs": [],
   "source": [
    "x_train, y_train = train\n",
    "x_test, y_test = test\n",
    "\n",
    "# Preproc the inputs\n",
    "x_train = preproc_x(x_train)\n",
    "x_test = preproc_x(x_test)\n",
    "\n",
    "# Preprc the outputs\n",
    "y_train = preproc_y(y_train)\n",
    "y_test = preproc_y(y_test)"
   ]
  },
  {
   "cell_type": "code",
   "execution_count": 5,
   "metadata": {},
   "outputs": [],
   "source": [
    "from keras.layers import BatchNormalization\n",
    "\n",
    "\"\"\"\n",
    "建立神經網路，並加入 BN layer\n",
    "\"\"\"\n",
    "def build_mlp(input_shape, output_units=10, num_neurons=[512, 256, 128]):\n",
    "    input_layer = keras.layers.Input(input_shape)\n",
    "    \n",
    "    for i, n_units in enumerate(num_neurons):\n",
    "        if i == 0:\n",
    "            x = keras.layers.Dense(units=n_units, \n",
    "                                   activation=\"relu\", \n",
    "                                   name=\"hidden_layer\"+str(i+1))(input_layer)\n",
    "            x = BatchNormalization()(x)\n",
    "        else:\n",
    "            x = keras.layers.Dense(units=n_units, \n",
    "                                   activation=\"relu\", \n",
    "                                   name=\"hidden_layer\"+str(i+1))(x)\n",
    "            x = BatchNormalization()(x)\n",
    "    out = keras.layers.Dense(units=output_units, activation=\"softmax\", name=\"output\")(x)\n",
    "    model = keras.models.Model(inputs=[input_layer], outputs=[out])\n",
    "    return model"
   ]
  },
  {
   "cell_type": "code",
   "execution_count": 6,
   "metadata": {},
   "outputs": [],
   "source": [
    "## 超參數設定\n",
    "LEARNING_RATE = 1e-3\n",
    "EPOCHS = 25\n",
    "BATCH_SIZE = 1024\n",
    "MOMENTUM = 0.95"
   ]
  },
  {
   "cell_type": "code",
   "execution_count": 7,
   "metadata": {},
   "outputs": [],
   "source": [
    "# 載入 Callbacks\n",
    "from keras.callbacks import Callback\n",
    "\n",
    "# Record_fp_tp\n",
    "class Record_tp_tn(Callback):\n",
    "    def on_train_begin(self, epoch, logs = {}):\n",
    "        logs = logs or {}\n",
    "        record_items = [\"val_tp\", \"val_tn\"]\n",
    "        for i in record_items:\n",
    "            if i not in self.params['metrics']:\n",
    "                self.params['metrics'].append(i)\n",
    "    \n",
    "    def on_epoch_end(self, epoch, logs = {}, thres=0.5):\n",
    "        logs = logs or {}\n",
    "        y_true = self.validation_data[1].argmax(axis = 1)\n",
    "        y_pred = self.model.predict(self.validation_data[0])\n",
    "        y_pred = (y_pred[:, 1] >= thres) * 1\n",
    "        \n",
    "        val_tp = sum(y_true*y_pred)\n",
    "        val_tn = sum((y_true==0) & (y_pred==0))\n",
    "        logs[\"val_tp\"] = val_tp\n",
    "        logs[\"val_tn\"] = val_tn\n",
    "        \n",
    "rec_tptn = Record_tp_tn()"
   ]
  },
  {
   "cell_type": "code",
   "execution_count": 8,
   "metadata": {
    "scrolled": true
   },
   "outputs": [
    {
     "name": "stdout",
     "output_type": "stream",
     "text": [
      "Model: \"model_1\"\n",
      "_________________________________________________________________\n",
      "Layer (type)                 Output Shape              Param #   \n",
      "=================================================================\n",
      "input_1 (InputLayer)         (None, 3072)              0         \n",
      "_________________________________________________________________\n",
      "hidden_layer1 (Dense)        (None, 512)               1573376   \n",
      "_________________________________________________________________\n",
      "batch_normalization_1 (Batch (None, 512)               2048      \n",
      "_________________________________________________________________\n",
      "hidden_layer2 (Dense)        (None, 256)               131328    \n",
      "_________________________________________________________________\n",
      "batch_normalization_2 (Batch (None, 256)               1024      \n",
      "_________________________________________________________________\n",
      "hidden_layer3 (Dense)        (None, 128)               32896     \n",
      "_________________________________________________________________\n",
      "batch_normalization_3 (Batch (None, 128)               512       \n",
      "_________________________________________________________________\n",
      "output (Dense)               (None, 10)                1290      \n",
      "=================================================================\n",
      "Total params: 1,742,474\n",
      "Trainable params: 1,740,682\n",
      "Non-trainable params: 1,792\n",
      "_________________________________________________________________\n",
      "Train on 50000 samples, validate on 10000 samples\n",
      "Epoch 1/25\n",
      "50000/50000 [==============================] - 2s 40us/step - loss: 2.1891 - accuracy: 0.2722 - val_loss: 2.0962 - val_accuracy: 0.2394\n",
      "Epoch 2/25\n",
      "50000/50000 [==============================] - 1s 28us/step - loss: 1.7280 - accuracy: 0.3991 - val_loss: 1.9434 - val_accuracy: 0.2996\n",
      "Epoch 3/25\n",
      "50000/50000 [==============================] - 1s 29us/step - loss: 1.6084 - accuracy: 0.4397 - val_loss: 1.8117 - val_accuracy: 0.3713\n",
      "Epoch 4/25\n",
      "50000/50000 [==============================] - 1s 28us/step - loss: 1.5377 - accuracy: 0.4636 - val_loss: 1.7156 - val_accuracy: 0.4063\n",
      "Epoch 5/25\n",
      "50000/50000 [==============================] - 1s 28us/step - loss: 1.4809 - accuracy: 0.4825 - val_loss: 1.6434 - val_accuracy: 0.4257\n",
      "Epoch 6/25\n",
      "50000/50000 [==============================] - 1s 29us/step - loss: 1.4357 - accuracy: 0.4994 - val_loss: 1.5835 - val_accuracy: 0.4396\n",
      "Epoch 7/25\n",
      "50000/50000 [==============================] - 1s 28us/step - loss: 1.3972 - accuracy: 0.5151 - val_loss: 1.5763 - val_accuracy: 0.4435\n",
      "Epoch 8/25\n",
      "50000/50000 [==============================] - 1s 28us/step - loss: 1.3609 - accuracy: 0.5276 - val_loss: 1.5331 - val_accuracy: 0.4577\n",
      "Epoch 9/25\n",
      "50000/50000 [==============================] - 1s 28us/step - loss: 1.3312 - accuracy: 0.5364 - val_loss: 1.5079 - val_accuracy: 0.4613\n",
      "Epoch 10/25\n",
      "50000/50000 [==============================] - 1s 28us/step - loss: 1.3003 - accuracy: 0.5493 - val_loss: 1.4931 - val_accuracy: 0.4673\n",
      "Epoch 11/25\n",
      "50000/50000 [==============================] - 1s 28us/step - loss: 1.2737 - accuracy: 0.5581 - val_loss: 1.4885 - val_accuracy: 0.4711\n",
      "Epoch 12/25\n",
      "50000/50000 [==============================] - 1s 29us/step - loss: 1.2463 - accuracy: 0.5673 - val_loss: 1.4839 - val_accuracy: 0.4712\n",
      "Epoch 13/25\n",
      "50000/50000 [==============================] - 1s 28us/step - loss: 1.2213 - accuracy: 0.5775 - val_loss: 1.4749 - val_accuracy: 0.4767\n",
      "Epoch 14/25\n",
      "50000/50000 [==============================] - 1s 28us/step - loss: 1.1962 - accuracy: 0.5886 - val_loss: 1.4762 - val_accuracy: 0.4806\n",
      "Epoch 15/25\n",
      "50000/50000 [==============================] - 1s 28us/step - loss: 1.1729 - accuracy: 0.5965 - val_loss: 1.4714 - val_accuracy: 0.4788\n",
      "Epoch 16/25\n",
      "50000/50000 [==============================] - 1s 27us/step - loss: 1.1491 - accuracy: 0.6058 - val_loss: 1.4653 - val_accuracy: 0.4811\n",
      "Epoch 17/25\n",
      "50000/50000 [==============================] - 1s 27us/step - loss: 1.1295 - accuracy: 0.6132 - val_loss: 1.4602 - val_accuracy: 0.4832\n",
      "Epoch 18/25\n",
      "50000/50000 [==============================] - 1s 27us/step - loss: 1.1071 - accuracy: 0.6210 - val_loss: 1.4691 - val_accuracy: 0.4790\n",
      "Epoch 19/25\n",
      "50000/50000 [==============================] - 1s 27us/step - loss: 1.0832 - accuracy: 0.6310 - val_loss: 1.4758 - val_accuracy: 0.4856\n",
      "Epoch 20/25\n",
      "50000/50000 [==============================] - 1s 27us/step - loss: 1.0624 - accuracy: 0.6385 - val_loss: 1.4747 - val_accuracy: 0.4807\n",
      "Epoch 21/25\n",
      "50000/50000 [==============================] - 1s 28us/step - loss: 1.0415 - accuracy: 0.6472 - val_loss: 1.4674 - val_accuracy: 0.4867\n",
      "Epoch 22/25\n",
      "50000/50000 [==============================] - 1s 28us/step - loss: 1.0208 - accuracy: 0.6541 - val_loss: 1.4790 - val_accuracy: 0.4847\n",
      "Epoch 23/25\n",
      "50000/50000 [==============================] - 1s 28us/step - loss: 1.0009 - accuracy: 0.6598 - val_loss: 1.4692 - val_accuracy: 0.4836\n",
      "Epoch 24/25\n",
      "50000/50000 [==============================] - 1s 28us/step - loss: 0.9806 - accuracy: 0.6702 - val_loss: 1.4742 - val_accuracy: 0.4846\n",
      "Epoch 25/25\n",
      "50000/50000 [==============================] - 1s 28us/step - loss: 0.9594 - accuracy: 0.6787 - val_loss: 1.4779 - val_accuracy: 0.4882\n"
     ]
    }
   ],
   "source": [
    "model = build_mlp(input_shape=x_train.shape[1:])\n",
    "model.summary()\n",
    "optimizer = keras.optimizers.SGD(lr=LEARNING_RATE, nesterov=True, momentum=MOMENTUM)\n",
    "model.compile(loss=\"categorical_crossentropy\", metrics=[\"accuracy\"], optimizer=optimizer)\n",
    "\n",
    "\"\"\"Code Here\n",
    "將 callbacks 放入模型訓練流程中\n",
    "\"\"\"\n",
    "model.fit(x_train, y_train, \n",
    "          epochs=EPOCHS, \n",
    "          batch_size=BATCH_SIZE, \n",
    "          validation_data=(x_test, y_test), \n",
    "          shuffle=True,\n",
    "          callbacks=[rec_tptn]\n",
    "         )\n",
    "\n",
    "# Collect results\n",
    "train_loss = model.history.history[\"loss\"]\n",
    "valid_loss = model.history.history[\"val_loss\"]\n",
    "train_acc = model.history.history[\"accuracy\"]\n",
    "valid_acc = model.history.history[\"val_accuracy\"]\n",
    "\n",
    "\"\"\"Code Here\n",
    "將 tp/tn 從訓練完的模型中取出\n",
    "\"\"\"\n",
    "valid_tp = model.history.history[\"val_tp\"]\n",
    "valid_tn = model.history.history[\"val_tn\"]"
   ]
  },
  {
   "cell_type": "code",
   "execution_count": 9,
   "metadata": {},
   "outputs": [
    {
     "data": {
      "image/png": "[encoded data removed]",
      "text/plain": [
       "<Figure size 432x288 with 1 Axes>"
      ]
     },
     "metadata": {
      "needs_background": "light"
     },
     "output_type": "display_data"
    },
    {
     "data": {
      "image/png": "[encoded data removed]",
      "text/plain": [
       "<Figure size 432x288 with 1 Axes>"
      ]
     },
     "metadata": {
      "needs_background": "light"
     },
     "output_type": "display_data"
    },
    {
     "data": {
      "image/png": "[encoded data removed]",
      "text/plain": [
       "<Figure size 432x288 with 1 Axes>"
      ]
     },
     "metadata": {
      "needs_background": "light"
     },
     "output_type": "display_data"
    }
   ],
   "source": [
    "import matplotlib.pyplot as plt\n",
    "%matplotlib inline\n",
    "\n",
    "plt.plot(range(len(train_loss)), train_loss, label=\"train loss\")\n",
    "plt.plot(range(len(valid_loss)), valid_loss, label=\"valid loss\")\n",
    "plt.legend()\n",
    "plt.title(\"Loss\")\n",
    "plt.show()\n",
    "\n",
    "plt.plot(range(len(train_acc)), train_acc, label=\"train accuracy\")\n",
    "plt.plot(range(len(valid_acc)), valid_acc, label=\"valid accuracy\")\n",
    "plt.legend()\n",
    "plt.title(\"Accuracy\")\n",
    "plt.show()\n",
    "\n",
    "plt.plot(range(len(valid_tp)), valid_tp, label=\"valid tp\", color=\"navy\")\n",
    "plt.plot(range(len(valid_tn)), valid_tn, label=\"valid tn\", color=\"red\")\n",
    "plt.legend()\n",
    "plt.title(\"True positives and True Negatives\")\n",
    "plt.show()\n"
   ]
  },
  {
   "cell_type": "code",
   "execution_count": null,
   "metadata": {},
   "outputs": [],
   "source": []
  }
 ],
 "metadata": {
  "kernelspec": {
   "display_name": "Python 3",
   "language": "python",
   "name": "python3"
  },
  "language_info": {
   "codemirror_mode": {
    "name": "ipython",
    "version": 3
   },
   "file_extension": ".py",
   "mimetype": "text/x-python",
   "name": "python",
   "nbconvert_exporter": "python",
   "pygments_lexer": "ipython3",
   "version": "3.7.7"
  }
 },
 "nbformat": 4,
 "nbformat_minor": 2
}
