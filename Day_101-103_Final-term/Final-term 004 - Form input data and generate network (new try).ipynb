{
 "cells": [
  {
   "cell_type": "code",
   "execution_count": 1,
   "metadata": {},
   "outputs": [
    {
     "name": "stderr",
     "output_type": "stream",
     "text": [
      "Using TensorFlow backend.\n"
     ]
    }
   ],
   "source": [
    "##### DNN module\n",
    "\n",
    "from keras.utils import to_categorical\n",
    "from keras import backend as K\n",
    "from keras.models import Model\n",
    "from keras.applications import ResNet50\n",
    "from keras.optimizers import Adagrad, RMSprop, Adam\n",
    "from sklearn.model_selection import train_test_split\n",
    "from keras.models import Sequential\n",
    "from keras.layers import Dense, Dropout, Activation, Flatten\n",
    "from keras.layers import Conv2D, MaxPooling2D\n",
    "from keras.preprocessing.image import ImageDataGenerator"
   ]
  },
  {
   "cell_type": "code",
   "execution_count": 2,
   "metadata": {},
   "outputs": [],
   "source": [
    "##### Common moldule\n",
    "\n",
    "import numpy as np\n",
    "import os\n",
    "import glob\n",
    "import matplotlib.pyplot as plt\n",
    "import time\n",
    "from PIL import Image\n",
    "from scipy.interpolate import RegularGridInterpolator\n",
    "import pandas as pd"
   ]
  },
  {
   "cell_type": "code",
   "execution_count": 3,
   "metadata": {},
   "outputs": [
    {
     "name": "stdout",
     "output_type": "stream",
     "text": [
      "{'daisy': 0, 'dandelion': 1, 'rose': 2, 'sunflower': 3, 'tulip': 4}\n"
     ]
    }
   ],
   "source": [
    "##### Path\n",
    "\n",
    "train_db = 'database/combined_train_mx_240.npy'\n",
    "label_db = 'database/combined_label_mx_240.npy'\n",
    "\n",
    "flower_li = list(map(os.path.basename, glob.glob('database/image_data/train/*')))\n",
    "flower_mapping = {flower_li[i]: i for i in range(5)}\n",
    "\n",
    "print(flower_mapping)"
   ]
  },
  {
   "cell_type": "code",
   "execution_count": 4,
   "metadata": {},
   "outputs": [],
   "source": [
    "##### Load data\n",
    "\n",
    "flower_data   = np.load(train_db).astype('uint8')\n",
    "flower_target = np.load(label_db).astype('uint8')\n",
    "\n",
    "x_train, x_test, y_train, y_test = train_test_split(flower_data, flower_target, test_size=0.2, random_state=9527)"
   ]
  },
  {
   "cell_type": "code",
   "execution_count": 5,
   "metadata": {},
   "outputs": [
    {
     "data": {
      "text/plain": [
       "((2258, 240, 240, 3), (565, 240, 240, 3), (2258,), (565,))"
      ]
     },
     "execution_count": 5,
     "metadata": {},
     "output_type": "execute_result"
    }
   ],
   "source": [
    "##### Dimenssion check\n",
    "\n",
    "(np.shape(x_train), np.shape(x_test), np.shape(y_train), np.shape(y_test))"
   ]
  },
  {
   "cell_type": "code",
   "execution_count": 6,
   "metadata": {},
   "outputs": [],
   "source": [
    "batch_size = 20 # batch 的大小，如果出現 OOM error，請降低這個值\n",
    "num_classes = 5 # 類別的數量，Cifar 10 共有 10 個類別\n",
    "epochs = 20 # 訓練的 epochs 數量"
   ]
  },
  {
   "cell_type": "code",
   "execution_count": 7,
   "metadata": {},
   "outputs": [
    {
     "name": "stdout",
     "output_type": "stream",
     "text": [
      "x_train shape: (2258, 240, 240, 3)\n",
      "2258 train samples\n",
      "565 test samples\n"
     ]
    }
   ],
   "source": [
    "#(x_train, y_train), (x_test, y_test) = cifar10.load_data()\n",
    "print('x_train shape:', x_train.shape)\n",
    "print(x_train.shape[0], 'train samples')\n",
    "print(x_test.shape[0], 'test samples')\n",
    "x_train = x_train.astype('float32')\n",
    "x_test = x_test.astype('float32')\n",
    "x_train /= 255\n",
    "x_test /= 255"
   ]
  },
  {
   "cell_type": "code",
   "execution_count": 8,
   "metadata": {},
   "outputs": [],
   "source": [
    "# Convert class vectors to binary class matrices.\n",
    "y_train = to_categorical(y_train, num_classes)\n",
    "y_test = to_categorical(y_test, num_classes)"
   ]
  },
  {
   "cell_type": "code",
   "execution_count": 9,
   "metadata": {},
   "outputs": [
    {
     "name": "stdout",
     "output_type": "stream",
     "text": [
      "Model: \"sequential_1\"\n",
      "_________________________________________________________________\n",
      "Layer (type)                 Output Shape              Param #   \n",
      "=================================================================\n",
      "conv2d_1 (Conv2D)            (None, 240, 240, 32)      896       \n",
      "_________________________________________________________________\n",
      "activation_1 (Activation)    (None, 240, 240, 32)      0         \n",
      "_________________________________________________________________\n",
      "conv2d_2 (Conv2D)            (None, 238, 238, 32)      9248      \n",
      "_________________________________________________________________\n",
      "activation_2 (Activation)    (None, 238, 238, 32)      0         \n",
      "_________________________________________________________________\n",
      "max_pooling2d_1 (MaxPooling2 (None, 119, 119, 32)      0         \n",
      "_________________________________________________________________\n",
      "dropout_1 (Dropout)          (None, 119, 119, 32)      0         \n",
      "_________________________________________________________________\n",
      "conv2d_3 (Conv2D)            (None, 119, 119, 128)     36992     \n",
      "_________________________________________________________________\n",
      "activation_3 (Activation)    (None, 119, 119, 128)     0         \n",
      "_________________________________________________________________\n",
      "conv2d_4 (Conv2D)            (None, 117, 117, 128)     147584    \n",
      "_________________________________________________________________\n",
      "activation_4 (Activation)    (None, 117, 117, 128)     0         \n",
      "_________________________________________________________________\n",
      "max_pooling2d_2 (MaxPooling2 (None, 58, 58, 128)       0         \n",
      "_________________________________________________________________\n",
      "dropout_2 (Dropout)          (None, 58, 58, 128)       0         \n",
      "_________________________________________________________________\n",
      "conv2d_5 (Conv2D)            (None, 58, 58, 64)        73792     \n",
      "_________________________________________________________________\n",
      "activation_5 (Activation)    (None, 58, 58, 64)        0         \n",
      "_________________________________________________________________\n",
      "conv2d_6 (Conv2D)            (None, 56, 56, 64)        36928     \n",
      "_________________________________________________________________\n",
      "activation_6 (Activation)    (None, 56, 56, 64)        0         \n",
      "_________________________________________________________________\n",
      "max_pooling2d_3 (MaxPooling2 (None, 28, 28, 64)        0         \n",
      "_________________________________________________________________\n",
      "dropout_3 (Dropout)          (None, 28, 28, 64)        0         \n",
      "_________________________________________________________________\n",
      "conv2d_7 (Conv2D)            (None, 28, 28, 32)        18464     \n",
      "_________________________________________________________________\n",
      "activation_7 (Activation)    (None, 28, 28, 32)        0         \n",
      "_________________________________________________________________\n",
      "conv2d_8 (Conv2D)            (None, 26, 26, 32)        9248      \n",
      "_________________________________________________________________\n",
      "activation_8 (Activation)    (None, 26, 26, 32)        0         \n",
      "_________________________________________________________________\n",
      "max_pooling2d_4 (MaxPooling2 (None, 13, 13, 32)        0         \n",
      "_________________________________________________________________\n",
      "dropout_4 (Dropout)          (None, 13, 13, 32)        0         \n",
      "_________________________________________________________________\n",
      "flatten_1 (Flatten)          (None, 5408)              0         \n",
      "_________________________________________________________________\n",
      "dense_1 (Dense)              (None, 512)               2769408   \n",
      "_________________________________________________________________\n",
      "activation_9 (Activation)    (None, 512)               0         \n",
      "_________________________________________________________________\n",
      "dropout_5 (Dropout)          (None, 512)               0         \n",
      "_________________________________________________________________\n",
      "dense_2 (Dense)              (None, 5)                 2565      \n",
      "_________________________________________________________________\n",
      "activation_10 (Activation)   (None, 5)                 0         \n",
      "=================================================================\n",
      "Total params: 3,105,125\n",
      "Trainable params: 3,105,125\n",
      "Non-trainable params: 0\n",
      "_________________________________________________________________\n"
     ]
    }
   ],
   "source": [
    "model = Sequential()\n",
    "model.add(Conv2D(32, (3, 3), padding='same',\n",
    "                 input_shape=x_train.shape[1:]))\n",
    "model.add(Activation('relu'))\n",
    "model.add(Conv2D(32, (3, 3)))\n",
    "model.add(Activation('relu'))\n",
    "model.add(MaxPooling2D(pool_size=(2, 2)))\n",
    "model.add(Dropout(0.25))\n",
    "\n",
    "model.add(Conv2D(128, (3, 3), padding='same'))\n",
    "model.add(Activation('relu'))\n",
    "model.add(Conv2D(128, (3, 3)))\n",
    "model.add(Activation('relu'))\n",
    "model.add(MaxPooling2D(pool_size=(2, 2)))\n",
    "model.add(Dropout(0.25))\n",
    "\n",
    "model.add(Conv2D(64, (3, 3), padding='same'))\n",
    "model.add(Activation('relu'))\n",
    "model.add(Conv2D(64, (3, 3)))\n",
    "model.add(Activation('relu'))\n",
    "model.add(MaxPooling2D(pool_size=(2, 2)))\n",
    "model.add(Dropout(0.25))\n",
    "\n",
    "model.add(Conv2D(32, (3, 3), padding='same'))\n",
    "model.add(Activation('relu'))\n",
    "model.add(Conv2D(32, (3, 3)))\n",
    "model.add(Activation('relu'))\n",
    "model.add(MaxPooling2D(pool_size=(2, 2)))\n",
    "model.add(Dropout(0.25))\n",
    "\n",
    "model.add(Flatten())\n",
    "model.add(Dense(512))\n",
    "model.add(Activation('relu'))\n",
    "model.add(Dropout(0.5))\n",
    "model.add(Dense(num_classes))\n",
    "model.add(Activation('softmax'))\n",
    "model.summary()"
   ]
  },
  {
   "cell_type": "code",
   "execution_count": 10,
   "metadata": {},
   "outputs": [],
   "source": [
    "model.compile(loss='categorical_crossentropy',\n",
    "              optimizer=RMSprop(),\n",
    "              metrics=['accuracy'])"
   ]
  },
  {
   "cell_type": "code",
   "execution_count": 11,
   "metadata": {},
   "outputs": [],
   "source": [
    "augment_generator = ImageDataGenerator(rotation_range=10, width_shift_range=0.1, height_shift_range=0.1, horizontal_flip=True)"
   ]
  },
  {
   "cell_type": "code",
   "execution_count": 12,
   "metadata": {},
   "outputs": [
    {
     "name": "stdout",
     "output_type": "stream",
     "text": [
      "Epoch 1/20\n",
      "112/112 [==============================] - 25s 226ms/step - loss: 1.6582 - accuracy: 0.2516 - val_loss: 1.7874 - val_accuracy: 0.3186\n",
      "Epoch 2/20\n",
      "112/112 [==============================] - 22s 192ms/step - loss: 1.3603 - accuracy: 0.4111 - val_loss: 1.2488 - val_accuracy: 0.4637\n",
      "Epoch 3/20\n",
      "112/112 [==============================] - 22s 200ms/step - loss: 1.2344 - accuracy: 0.5022 - val_loss: 1.3898 - val_accuracy: 0.4478\n",
      "Epoch 4/20\n",
      "112/112 [==============================] - 22s 195ms/step - loss: 1.1537 - accuracy: 0.5384 - val_loss: 1.1396 - val_accuracy: 0.5310\n",
      "Epoch 5/20\n",
      "112/112 [==============================] - 21s 186ms/step - loss: 1.0958 - accuracy: 0.5840 - val_loss: 1.0394 - val_accuracy: 0.5929\n",
      "Epoch 6/20\n",
      "112/112 [==============================] - 22s 193ms/step - loss: 1.0154 - accuracy: 0.6171 - val_loss: 1.2860 - val_accuracy: 0.5115\n",
      "Epoch 7/20\n",
      "112/112 [==============================] - 21s 188ms/step - loss: 0.9686 - accuracy: 0.6251 - val_loss: 0.9277 - val_accuracy: 0.6230\n",
      "Epoch 8/20\n",
      "112/112 [==============================] - 22s 192ms/step - loss: 0.9861 - accuracy: 0.6421 - val_loss: 1.0539 - val_accuracy: 0.6319\n",
      "Epoch 9/20\n",
      "112/112 [==============================] - 24s 216ms/step - loss: 0.9063 - accuracy: 0.6693 - val_loss: 1.3341 - val_accuracy: 0.5274\n",
      "Epoch 10/20\n",
      "112/112 [==============================] - 25s 224ms/step - loss: 0.9457 - accuracy: 0.6622 - val_loss: 0.8570 - val_accuracy: 0.6726\n",
      "Epoch 11/20\n",
      "112/112 [==============================] - 25s 222ms/step - loss: 0.8737 - accuracy: 0.6872 - val_loss: 0.8843 - val_accuracy: 0.6991\n",
      "Epoch 12/20\n",
      "112/112 [==============================] - 25s 223ms/step - loss: 0.9037 - accuracy: 0.6743 - val_loss: 1.0084 - val_accuracy: 0.6619\n",
      "Epoch 13/20\n",
      "112/112 [==============================] - 25s 226ms/step - loss: 0.8875 - accuracy: 0.6881 - val_loss: 0.8688 - val_accuracy: 0.6938\n",
      "Epoch 14/20\n",
      "112/112 [==============================] - 24s 215ms/step - loss: 0.8450 - accuracy: 0.6890 - val_loss: 0.8831 - val_accuracy: 0.6619\n",
      "Epoch 15/20\n",
      "112/112 [==============================] - 22s 198ms/step - loss: 0.8412 - accuracy: 0.7105 - val_loss: 0.8784 - val_accuracy: 0.6496\n",
      "Epoch 16/20\n",
      "112/112 [==============================] - 21s 189ms/step - loss: 0.8286 - accuracy: 0.7087 - val_loss: 0.7700 - val_accuracy: 0.7186\n",
      "Epoch 17/20\n",
      "112/112 [==============================] - 23s 202ms/step - loss: 0.8464 - accuracy: 0.6944 - val_loss: 0.8537 - val_accuracy: 0.6779\n",
      "Epoch 18/20\n",
      "112/112 [==============================] - 26s 228ms/step - loss: 0.8429 - accuracy: 0.7055 - val_loss: 0.8629 - val_accuracy: 0.6460\n",
      "Epoch 19/20\n",
      "112/112 [==============================] - 25s 224ms/step - loss: 0.8466 - accuracy: 0.7071 - val_loss: 0.8259 - val_accuracy: 0.6903\n",
      "Epoch 20/20\n",
      "112/112 [==============================] - 24s 217ms/step - loss: 0.7878 - accuracy: 0.7258 - val_loss: 0.8679 - val_accuracy: 0.6920\n"
     ]
    }
   ],
   "source": [
    "history = model.fit_generator(augment_generator.flow(x_train, y_train, batch_size=batch_size),\n",
    "                    steps_per_epoch=int(len(x_train)/batch_size), # 一個 epochs 要執行幾次 update，通常是資料量除以 batch size\n",
    "                    epochs=epochs,\n",
    "                    verbose=1,\n",
    "                    validation_data=(x_test, y_test))"
   ]
  },
  {
   "cell_type": "code",
   "execution_count": 13,
   "metadata": {},
   "outputs": [
    {
     "name": "stdout",
     "output_type": "stream",
     "text": [
      "Test loss: 0.8678605078595929\n",
      "Test accuracy: 0.6920353770256042\n"
     ]
    }
   ],
   "source": [
    "score = model.evaluate(x_test, y_test, verbose=0)\n",
    "print('Test loss:', score[0])\n",
    "print('Test accuracy:', score[1])"
   ]
  },
  {
   "cell_type": "code",
   "execution_count": 14,
   "metadata": {},
   "outputs": [],
   "source": [
    "model.save('model/STD_datagen_1230_03.h5')"
   ]
  },
  {
   "cell_type": "code",
   "execution_count": 15,
   "metadata": {},
   "outputs": [],
   "source": [
    "##### Test on unknown sample"
   ]
  },
  {
   "cell_type": "code",
   "execution_count": 16,
   "metadata": {},
   "outputs": [],
   "source": [
    "def resampleRGI3d(input_mx, resize_to, dtype='float32'):\n",
    "    # Ref: 10 3-A-7\n",
    "    # Ver. 2.1\n",
    "    # input_mx : numpy array, the original target matrix\n",
    "    # resize_to: list or tuple with 3 int inside\n",
    "    a, b, c = np.shape(input_mx)\n",
    "    p, q, r = resize_to\n",
    "    z_grid = np.linspace(0, p - 1, a)\n",
    "    y_grid = np.linspace(0, q - 1, b)\n",
    "    x_grid = np.linspace(0, r - 1, c)\n",
    "    RGI = RegularGridInterpolator((z_grid, y_grid, x_grid), input_mx)\n",
    "    z_grid_t2 = np.arange(p)\n",
    "    y_grid_t2 = np.arange(q)\n",
    "    x_grid_t2 = np.arange(r)\n",
    "    meshgrid_para = np.meshgrid(z_grid_t2, y_grid_t2, x_grid_t2)\n",
    "    RGI_mesh_mx = RGI((meshgrid_para[0], meshgrid_para[1], meshgrid_para[2]))\n",
    "    RGI_mx = np.transpose(RGI_mesh_mx, axes=[1, 0, 2]).astype(dtype)\n",
    "    return RGI_mx\n",
    "\n",
    "def happy_time(start,stop):\n",
    "    process_time = round(stop - start)\n",
    "    ss = process_time % 60\n",
    "    mm = process_time // 60 % 60\n",
    "    hh = process_time // 3600\n",
    "    duration = \"Process time == {}s == {}H {}m {}s\".format(process_time,hh,mm,ss)\n",
    "    return duration"
   ]
  },
  {
   "cell_type": "code",
   "execution_count": 17,
   "metadata": {},
   "outputs": [
    {
     "data": {
      "text/plain": [
       "['database/image_data/test\\\\0028624c49b3e0610ff9f1d111f5d532.jpg',\n",
       " 'database/image_data/test\\\\002c30700185b7971369258b438070d5.jpg',\n",
       " 'database/image_data/test\\\\00852f4f666acecd0c0d140365b42efd.jpg',\n",
       " 'database/image_data/test\\\\00c08828fce04e360c732cac01edad9e.jpg',\n",
       " 'database/image_data/test\\\\00d366e7877b6a78b104b57d67b60e6b.jpg']"
      ]
     },
     "execution_count": 17,
     "metadata": {},
     "output_type": "execute_result"
    }
   ],
   "source": [
    "path_unknown = glob.glob('database/image_data/test/*')\n",
    "path_unknown[:5]"
   ]
  },
  {
   "cell_type": "code",
   "execution_count": 18,
   "metadata": {},
   "outputs": [
    {
     "name": "stdout",
     "output_type": "stream",
     "text": [
      "200 files done. Process time == 15s == 0H 0m 15s\n",
      "400 files done. Process time == 30s == 0H 0m 30s\n",
      "600 files done. Process time == 44s == 0H 0m 44s\n",
      "800 files done. Process time == 59s == 0H 0m 59s\n",
      "1000 files done. Process time == 74s == 0H 1m 14s\n",
      "1200 files done. Process time == 87s == 0H 1m 27s\n",
      "1400 files done. Process time == 101s == 0H 1m 41s\n",
      "1600 files done. Process time == 115s == 0H 1m 55s\n",
      "1800 files done. Process time == 128s == 0H 2m 8s\n",
      "2000 files done. Process time == 143s == 0H 2m 23s\n"
     ]
    }
   ],
   "source": [
    "#path_train_0 = glob.glob(os.path.join(path_train, list(flower_mapping.keys())[i], '*'))\n",
    "#pic_store_dict = None\n",
    "#pic_store_dict = {}\n",
    "\n",
    "id_li = []\n",
    "flower_class = []\n",
    "loop_start = time.time()\n",
    "\n",
    "for j in range(len(path_unknown)):\n",
    "    serial = os.path.basename(path_unknown[j])[:-4]\n",
    "    temp_pic = np.asarray(Image.open(path_unknown[j]))\n",
    "    temp_shape = np.shape(temp_pic)\n",
    "    if temp_shape[0] > 640:\n",
    "        temp_pic = temp_pic[:640]\n",
    "        temp_shape = np.shape(temp_pic)\n",
    "    if temp_shape[1] > 640:\n",
    "        temp_pic = temp_pic[:, :640]\n",
    "        temp_shape = np.shape(temp_pic)\n",
    "    if temp_shape[0] > 240:\n",
    "        temp_pic = resampleRGI3d(temp_pic, (240, int(temp_shape[1]*240/temp_shape[0]), 3))\n",
    "        temp_shape = np.shape(temp_pic)\n",
    "    if temp_shape[1] > 240:\n",
    "        temp_pic = resampleRGI3d(temp_pic, (int(temp_shape[0]*240/temp_shape[1]), 240, 3))\n",
    "        temp_shape = np.shape(temp_pic)\n",
    "    temp_pic = np.pad(temp_pic, ((0, 240 - temp_shape[0]), (0, 240 - temp_shape[1]), (0, 0)), 'constant', constant_values=0)\n",
    "    temp_pic = np.expand_dims(temp_pic, axis = 0)\n",
    "    pred = model.predict(temp_pic)[0]\n",
    "    id_li.append(serial)\n",
    "    flower_class.append(list(pred).index(max(pred)))\n",
    "    if (j+1) % 200 == 0:\n",
    "        print(j+1, 'files done.', happy_time(loop_start, time.time()))\n",
    "    #pic_store_dict[serial] = temp_pic\n",
    "#stack_a = np.stack([pic_store_dict[x] for x in list(pic_store_dict.keys())], axis=0)\n",
    "#total_dict[sub_folder_li[i]] = stack_a"
   ]
  },
  {
   "cell_type": "code",
   "execution_count": 19,
   "metadata": {},
   "outputs": [
    {
     "data": {
      "text/html": [
       "<div>\n",
       "<style scoped>\n",
       "    .dataframe tbody tr th:only-of-type {\n",
       "        vertical-align: middle;\n",
       "    }\n",
       "\n",
       "    .dataframe tbody tr th {\n",
       "        vertical-align: top;\n",
       "    }\n",
       "\n",
       "    .dataframe thead th {\n",
       "        text-align: right;\n",
       "    }\n",
       "</style>\n",
       "<table border=\"1\" class=\"dataframe\">\n",
       "  <thead>\n",
       "    <tr style=\"text-align: right;\">\n",
       "      <th></th>\n",
       "      <th>id</th>\n",
       "      <th>flower_class</th>\n",
       "    </tr>\n",
       "  </thead>\n",
       "  <tbody>\n",
       "    <tr>\n",
       "      <th>0</th>\n",
       "      <td>0028624c49b3e0610ff9f1d111f5d532</td>\n",
       "      <td>4</td>\n",
       "    </tr>\n",
       "    <tr>\n",
       "      <th>1</th>\n",
       "      <td>002c30700185b7971369258b438070d5</td>\n",
       "      <td>3</td>\n",
       "    </tr>\n",
       "    <tr>\n",
       "      <th>2</th>\n",
       "      <td>00852f4f666acecd0c0d140365b42efd</td>\n",
       "      <td>4</td>\n",
       "    </tr>\n",
       "    <tr>\n",
       "      <th>3</th>\n",
       "      <td>00c08828fce04e360c732cac01edad9e</td>\n",
       "      <td>4</td>\n",
       "    </tr>\n",
       "    <tr>\n",
       "      <th>4</th>\n",
       "      <td>00d366e7877b6a78b104b57d67b60e6b</td>\n",
       "      <td>4</td>\n",
       "    </tr>\n",
       "    <tr>\n",
       "      <th>...</th>\n",
       "      <td>...</td>\n",
       "      <td>...</td>\n",
       "    </tr>\n",
       "    <tr>\n",
       "      <th>1995</th>\n",
       "      <td>ff7eac29b6d7a33fbd8009677c3e9c58</td>\n",
       "      <td>3</td>\n",
       "    </tr>\n",
       "    <tr>\n",
       "      <th>1996</th>\n",
       "      <td>ffbc32a7b67dfe72b8d35d4b1b35fd6c</td>\n",
       "      <td>3</td>\n",
       "    </tr>\n",
       "    <tr>\n",
       "      <th>1997</th>\n",
       "      <td>ffea1f275c05accb0a6bfd1203620c7e</td>\n",
       "      <td>0</td>\n",
       "    </tr>\n",
       "    <tr>\n",
       "      <th>1998</th>\n",
       "      <td>ffeb2a1cf53464b6af937ab8af0c2946</td>\n",
       "      <td>3</td>\n",
       "    </tr>\n",
       "    <tr>\n",
       "      <th>1999</th>\n",
       "      <td>ffefcc68e2e7eed8b17b0b5b0f740538</td>\n",
       "      <td>4</td>\n",
       "    </tr>\n",
       "  </tbody>\n",
       "</table>\n",
       "<p>2000 rows × 2 columns</p>\n",
       "</div>"
      ],
      "text/plain": [
       "                                    id  flower_class\n",
       "0     0028624c49b3e0610ff9f1d111f5d532             4\n",
       "1     002c30700185b7971369258b438070d5             3\n",
       "2     00852f4f666acecd0c0d140365b42efd             4\n",
       "3     00c08828fce04e360c732cac01edad9e             4\n",
       "4     00d366e7877b6a78b104b57d67b60e6b             4\n",
       "...                                ...           ...\n",
       "1995  ff7eac29b6d7a33fbd8009677c3e9c58             3\n",
       "1996  ffbc32a7b67dfe72b8d35d4b1b35fd6c             3\n",
       "1997  ffea1f275c05accb0a6bfd1203620c7e             0\n",
       "1998  ffeb2a1cf53464b6af937ab8af0c2946             3\n",
       "1999  ffefcc68e2e7eed8b17b0b5b0f740538             4\n",
       "\n",
       "[2000 rows x 2 columns]"
      ]
     },
     "execution_count": 19,
     "metadata": {},
     "output_type": "execute_result"
    }
   ],
   "source": [
    "pred_result_df = pd.DataFrame(columns=['id', 'flower_class'])\n",
    "pred_result_df['id'] = id_li\n",
    "pred_result_df['flower_class'] = flower_class\n",
    "pred_result_df"
   ]
  },
  {
   "cell_type": "code",
   "execution_count": 20,
   "metadata": {},
   "outputs": [],
   "source": [
    "pred_result_df.to_csv('model/pred_result_STD_datagen_1230_03.csv', index=False)"
   ]
  },
  {
   "cell_type": "code",
   "execution_count": 21,
   "metadata": {},
   "outputs": [],
   "source": [
    "#####\n",
    "#####\n",
    "#####"
   ]
  },
  {
   "cell_type": "code",
   "execution_count": null,
   "metadata": {},
   "outputs": [],
   "source": []
  }
 ],
 "metadata": {
  "kernelspec": {
   "display_name": "Python 3",
   "language": "python",
   "name": "python3"
  },
  "language_info": {
   "codemirror_mode": {
    "name": "ipython",
    "version": 3
   },
   "file_extension": ".py",
   "mimetype": "text/x-python",
   "name": "python",
   "nbconvert_exporter": "python",
   "pygments_lexer": "ipython3",
   "version": "3.7.9"
  }
 },
 "nbformat": 4,
 "nbformat_minor": 4
}
