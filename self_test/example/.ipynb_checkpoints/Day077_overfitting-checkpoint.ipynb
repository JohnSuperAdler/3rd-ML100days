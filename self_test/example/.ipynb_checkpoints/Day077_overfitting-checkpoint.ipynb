{
 "cells": [
  {
   "cell_type": "markdown",
   "metadata": {},
   "source": [
    "## 範例重點\n",
    "* 學會從 Keras 內建函式取得資料\n",
    "* 能夠建立簡易的深度學習模型\n",
    "* 觀察並了解 Overfit 現象"
   ]
  },
  {
   "cell_type": "code",
   "execution_count": 1,
   "metadata": {},
   "outputs": [
    {
     "name": "stderr",
     "output_type": "stream",
     "text": [
      "Using TensorFlow backend.\n"
     ]
    }
   ],
   "source": [
    "import os\n",
    "import keras\n",
    "\n",
    "# 本範例不需使用 GPU, 將 GPU 設定為 \"無\"\n",
    "os.environ[\"CUDA_VISIBLE_DEVICES\"] = \"\""
   ]
  },
  {
   "cell_type": "code",
   "execution_count": 2,
   "metadata": {},
   "outputs": [],
   "source": [
    "# 從 Keras 的內建功能中，取得 train 與 test 資料集\n",
    "train, test = keras.datasets.cifar10.load_data()"
   ]
  },
  {
   "cell_type": "code",
   "execution_count": 3,
   "metadata": {},
   "outputs": [],
   "source": [
    "# 將 X 與 Y 獨立放進變數\n",
    "x_train, y_train = train\n",
    "x_test, y_test = test\n",
    "# 資料前處理 - 標準化\n",
    "x_train = x_train / 255.\n",
    "x_test = x_test / 255.\n",
    "\n",
    "# 將資料從圖形 (RGB) 轉為向量 (Single Vector)\n",
    "x_train = x_train.reshape((len(x_train), -1))\n",
    "x_test = x_test.reshape((len(x_test), -1))\n",
    "\n",
    "# 將目標轉為 one-hot encoding\n",
    "y_train = keras.utils.to_categorical(y_train, num_classes=10)\n",
    "y_test = keras.utils.to_categorical(y_test, num_classes=10)"
   ]
  },
  {
   "cell_type": "code",
   "execution_count": 4,
   "metadata": {},
   "outputs": [],
   "source": [
    "# 建立一個有三層隱藏層之神經網路\n",
    "def build_mlp():\n",
    "    input_layer = keras.layers.Input([x_train.shape[-1]])\n",
    "    x = keras.layers.Dense(units=512, activation=\"relu\")(input_layer)\n",
    "    x = keras.layers.Dense(units=256, activation=\"relu\")(x)\n",
    "    x = keras.layers.Dense(units=128, activation=\"relu\")(x)\n",
    "    out = keras.layers.Dense(units=10, activation=\"softmax\")(x)\n",
    "    \n",
    "    model = keras.models.Model(inputs=[input_layer], outputs=[out])\n",
    "    return model"
   ]
  },
  {
   "cell_type": "code",
   "execution_count": 5,
   "metadata": {},
   "outputs": [
    {
     "name": "stdout",
     "output_type": "stream",
     "text": [
      "Model: \"model_1\"\n",
      "_________________________________________________________________\n",
      "Layer (type)                 Output Shape              Param #   \n",
      "=================================================================\n",
      "input_1 (InputLayer)         (None, 3072)              0         \n",
      "_________________________________________________________________\n",
      "dense_1 (Dense)              (None, 512)               1573376   \n",
      "_________________________________________________________________\n",
      "dense_2 (Dense)              (None, 256)               131328    \n",
      "_________________________________________________________________\n",
      "dense_3 (Dense)              (None, 128)               32896     \n",
      "_________________________________________________________________\n",
      "dense_4 (Dense)              (None, 10)                1290      \n",
      "=================================================================\n",
      "Total params: 1,738,890\n",
      "Trainable params: 1,738,890\n",
      "Non-trainable params: 0\n",
      "_________________________________________________________________\n"
     ]
    }
   ],
   "source": [
    "model = build_mlp()\n",
    "# 用 Keras 內建方法檢視模型各層參數量\n",
    "model.summary()\n",
    "\n",
    "optimizer = keras.optimizers.Adam(lr=0.001)\n",
    "model.compile(loss=\"categorical_crossentropy\", metrics=[\"accuracy\"], optimizer=optimizer)"
   ]
  },
  {
   "cell_type": "code",
   "execution_count": null,
   "metadata": {},
   "outputs": [
    {
     "name": "stdout",
     "output_type": "stream",
     "text": [
      "Train on 50000 samples, validate on 10000 samples\n",
      "Epoch 1/100\n",
      "50000/50000 [==============================] - 2s 50us/step - loss: 1.9407 - accuracy: 0.2983 - val_loss: 1.7706 - val_accuracy: 0.3707\n",
      "Epoch 2/100\n",
      "50000/50000 [==============================] - 2s 38us/step - loss: 1.7166 - accuracy: 0.3861 - val_loss: 1.7001 - val_accuracy: 0.3919\n",
      "Epoch 3/100\n",
      "50000/50000 [==============================] - 2s 38us/step - loss: 1.6209 - accuracy: 0.4208 - val_loss: 1.5822 - val_accuracy: 0.4435\n",
      "Epoch 4/100\n",
      "50000/50000 [==============================] - 2s 38us/step - loss: 1.5518 - accuracy: 0.4472 - val_loss: 1.5983 - val_accuracy: 0.4366\n",
      "Epoch 5/100\n",
      "50000/50000 [==============================] - 2s 38us/step - loss: 1.5090 - accuracy: 0.4618 - val_loss: 1.5563 - val_accuracy: 0.4389\n",
      "Epoch 6/100\n",
      "50000/50000 [==============================] - 2s 38us/step - loss: 1.4700 - accuracy: 0.4755 - val_loss: 1.4979 - val_accuracy: 0.4684\n",
      "Epoch 7/100\n",
      "50000/50000 [==============================] - 2s 38us/step - loss: 1.4337 - accuracy: 0.4871 - val_loss: 1.4772 - val_accuracy: 0.4703\n",
      "Epoch 8/100\n",
      "50000/50000 [==============================] - 2s 37us/step - loss: 1.4135 - accuracy: 0.4946 - val_loss: 1.4408 - val_accuracy: 0.4838\n",
      "Epoch 9/100\n",
      "50000/50000 [==============================] - 2s 37us/step - loss: 1.3843 - accuracy: 0.5077 - val_loss: 1.4327 - val_accuracy: 0.4843\n",
      "Epoch 10/100\n",
      "50000/50000 [==============================] - 2s 39us/step - loss: 1.3607 - accuracy: 0.5134 - val_loss: 1.4285 - val_accuracy: 0.4930\n",
      "Epoch 11/100\n",
      "50000/50000 [==============================] - 2s 38us/step - loss: 1.3243 - accuracy: 0.5289 - val_loss: 1.4429 - val_accuracy: 0.4822\n",
      "Epoch 12/100\n",
      "50000/50000 [==============================] - 2s 37us/step - loss: 1.3035 - accuracy: 0.5353 - val_loss: 1.4378 - val_accuracy: 0.4901\n",
      "Epoch 13/100\n",
      "50000/50000 [==============================] - 2s 37us/step - loss: 1.2896 - accuracy: 0.5409 - val_loss: 1.4356 - val_accuracy: 0.4976\n",
      "Epoch 14/100\n",
      "50000/50000 [==============================] - 2s 37us/step - loss: 1.2635 - accuracy: 0.5500 - val_loss: 1.4137 - val_accuracy: 0.5073\n",
      "Epoch 15/100\n",
      "50000/50000 [==============================] - 2s 37us/step - loss: 1.2360 - accuracy: 0.5597 - val_loss: 1.4033 - val_accuracy: 0.5045\n",
      "Epoch 16/100\n",
      "50000/50000 [==============================] - 2s 37us/step - loss: 1.2180 - accuracy: 0.5676 - val_loss: 1.3597 - val_accuracy: 0.5232\n",
      "Epoch 17/100\n",
      "50000/50000 [==============================] - 2s 37us/step - loss: 1.1898 - accuracy: 0.5758 - val_loss: 1.3675 - val_accuracy: 0.5184\n",
      "Epoch 18/100\n",
      "50000/50000 [==============================] - 2s 37us/step - loss: 1.1689 - accuracy: 0.5822 - val_loss: 1.3987 - val_accuracy: 0.5105\n",
      "Epoch 19/100\n",
      "50000/50000 [==============================] - 2s 38us/step - loss: 1.1489 - accuracy: 0.5907 - val_loss: 1.4207 - val_accuracy: 0.5070\n",
      "Epoch 20/100\n",
      "50000/50000 [==============================] - 2s 39us/step - loss: 1.1439 - accuracy: 0.5926 - val_loss: 1.4030 - val_accuracy: 0.5101\n",
      "Epoch 21/100\n",
      "50000/50000 [==============================] - 2s 37us/step - loss: 1.1207 - accuracy: 0.6019 - val_loss: 1.3954 - val_accuracy: 0.5167\n",
      "Epoch 22/100\n",
      "50000/50000 [==============================] - 2s 37us/step - loss: 1.0947 - accuracy: 0.6078 - val_loss: 1.3910 - val_accuracy: 0.5267\n",
      "Epoch 23/100\n",
      "50000/50000 [==============================] - 2s 36us/step - loss: 1.0812 - accuracy: 0.6155 - val_loss: 1.3658 - val_accuracy: 0.5300\n",
      "Epoch 24/100\n",
      "50000/50000 [==============================] - 2s 36us/step - loss: 1.0626 - accuracy: 0.6213 - val_loss: 1.4056 - val_accuracy: 0.5141\n",
      "Epoch 25/100\n",
      "50000/50000 [==============================] - 2s 36us/step - loss: 1.0369 - accuracy: 0.6304 - val_loss: 1.4033 - val_accuracy: 0.5182\n",
      "Epoch 26/100\n",
      "50000/50000 [==============================] - 2s 36us/step - loss: 1.0245 - accuracy: 0.6340 - val_loss: 1.4061 - val_accuracy: 0.5167\n",
      "Epoch 27/100\n",
      "50000/50000 [==============================] - 2s 36us/step - loss: 1.0045 - accuracy: 0.6409 - val_loss: 1.4230 - val_accuracy: 0.5250\n",
      "Epoch 28/100\n",
      "50000/50000 [==============================] - 2s 37us/step - loss: 0.9831 - accuracy: 0.6486 - val_loss: 1.4120 - val_accuracy: 0.5309\n",
      "Epoch 29/100\n",
      "50000/50000 [==============================] - 2s 36us/step - loss: 0.9705 - accuracy: 0.6548 - val_loss: 1.4113 - val_accuracy: 0.5276\n",
      "Epoch 30/100\n",
      "50000/50000 [==============================] - 2s 36us/step - loss: 0.9543 - accuracy: 0.6582 - val_loss: 1.4288 - val_accuracy: 0.5262\n",
      "Epoch 31/100\n",
      " 2048/50000 [>.............................] - ETA: 1s - loss: 0.9673 - accuracy: 0.6494"
     ]
    }
   ],
   "source": [
    "# 訓練模型並檢視驗證集的結果\n",
    "model.fit(x_train, y_train, \n",
    "          epochs=100, \n",
    "          batch_size=256, \n",
    "          validation_data=(x_test, y_test), \n",
    "          shuffle=True)"
   ]
  },
  {
   "cell_type": "code",
   "execution_count": null,
   "metadata": {},
   "outputs": [],
   "source": [
    "# 以視覺畫方式檢視訓練過程\n",
    "import matplotlib.pyplot as plt\n",
    "train_loss = model.history.history[\"loss\"]\n",
    "valid_loss = model.history.history[\"val_loss\"]\n",
    "\n",
    "train_acc = model.history.history[\"accuracy\"]\n",
    "valid_acc = model.history.history[\"val_accuracy\"]\n",
    "\n",
    "plt.plot(range(len(train_loss)), train_loss, label=\"train loss\")\n",
    "plt.plot(range(len(valid_loss)), valid_loss, label=\"valid loss\")\n",
    "plt.legend()\n",
    "plt.title(\"Loss\")\n",
    "plt.show()\n",
    "\n",
    "plt.plot(range(len(train_acc)), train_acc, label=\"train accuracy\")\n",
    "plt.plot(range(len(valid_acc)), valid_acc, label=\"valid accuracy\")\n",
    "plt.legend()\n",
    "plt.title(\"Accuracy\")\n",
    "plt.show()"
   ]
  },
  {
   "cell_type": "markdown",
   "metadata": {},
   "source": [
    "## 作業\n",
    "1. 請將 Epoch 加到 500 個，並觀察 learning curve 的走勢\n",
    "2. 請將 Optimizer 換成 SGD，並觀察 learning curve 的走勢"
   ]
  }
 ],
 "metadata": {
  "kernelspec": {
   "display_name": "Python 3",
   "language": "python",
   "name": "python3"
  },
  "language_info": {
   "codemirror_mode": {
    "name": "ipython",
    "version": 3
   },
   "file_extension": ".py",
   "mimetype": "text/x-python",
   "name": "python",
   "nbconvert_exporter": "python",
   "pygments_lexer": "ipython3",
   "version": "3.7.7"
  }
 },
 "nbformat": 4,
 "nbformat_minor": 2
}
