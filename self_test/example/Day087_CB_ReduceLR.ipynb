{
 "cells": [
  {
   "cell_type": "markdown",
   "metadata": {},
   "source": [
    "## 範例重點\n",
    "* 學習如何在 keras 中加入 reduce learning rate\n",
    "* 知道如何設定 reduce_lr 的監控目標\n",
    "* 比較使用有無使用 reduce_lr 時的 performance"
   ]
  },
  {
   "cell_type": "code",
   "execution_count": 1,
   "metadata": {},
   "outputs": [
    {
     "name": "stderr",
     "output_type": "stream",
     "text": [
      "Using TensorFlow backend.\n"
     ]
    }
   ],
   "source": [
    "import os\n",
    "import keras\n",
    "\n",
    "# 本範例不需使用 GPU, 將 GPU 設定為 \"無\"\n",
    "os.environ[\"CUDA_VISIBLE_DEVICES\"] = \"\""
   ]
  },
  {
   "cell_type": "code",
   "execution_count": 2,
   "metadata": {},
   "outputs": [],
   "source": [
    "train, test = keras.datasets.cifar10.load_data()"
   ]
  },
  {
   "cell_type": "code",
   "execution_count": 3,
   "metadata": {},
   "outputs": [],
   "source": [
    "## 資料前處理\n",
    "def preproc_x(x, flatten=True):\n",
    "    x = x / 255.\n",
    "    if flatten:\n",
    "        x = x.reshape((len(x), -1))\n",
    "    return x\n",
    "\n",
    "def preproc_y(y, num_classes=10):\n",
    "    if y.shape[-1] == 1:\n",
    "        y = keras.utils.to_categorical(y, num_classes)\n",
    "    return y    "
   ]
  },
  {
   "cell_type": "code",
   "execution_count": 4,
   "metadata": {},
   "outputs": [],
   "source": [
    "x_train, y_train = train\n",
    "x_test, y_test = test\n",
    "\n",
    "# 資料前處理 - X 標準化\n",
    "x_train = preproc_x(x_train)\n",
    "x_test = preproc_x(x_test)\n",
    "\n",
    "# 資料前處理 -Y 轉成 onehot\n",
    "y_train = preproc_y(y_train)\n",
    "y_test = preproc_y(y_test)"
   ]
  },
  {
   "cell_type": "code",
   "execution_count": 5,
   "metadata": {},
   "outputs": [],
   "source": [
    "from keras.layers import BatchNormalization\n",
    "\n",
    "\"\"\"\n",
    "建立神經網路，並加入 BN layer\n",
    "\"\"\"\n",
    "def build_mlp(input_shape, output_units=10, num_neurons=[512, 256, 128]):\n",
    "    input_layer = keras.layers.Input(input_shape)\n",
    "    \n",
    "    for i, n_units in enumerate(num_neurons):\n",
    "        if i == 0:\n",
    "            x = keras.layers.Dense(units=n_units, \n",
    "                                   activation=\"relu\", \n",
    "                                   name=\"hidden_layer\"+str(i+1))(input_layer)\n",
    "            x = BatchNormalization()(x)\n",
    "        else:\n",
    "            x = keras.layers.Dense(units=n_units, \n",
    "                                   activation=\"relu\", \n",
    "                                   name=\"hidden_layer\"+str(i+1))(x)\n",
    "            x = BatchNormalization()(x)\n",
    "    \n",
    "    out = keras.layers.Dense(units=output_units, activation=\"softmax\", name=\"output\")(x)\n",
    "    \n",
    "    model = keras.models.Model(inputs=[input_layer], outputs=[out])\n",
    "    return model"
   ]
  },
  {
   "cell_type": "code",
   "execution_count": 6,
   "metadata": {},
   "outputs": [],
   "source": [
    "## 超參數設定\n",
    "LEARNING_RATE = 1e-3\n",
    "EPOCHS = 50\n",
    "BATCH_SIZE = 1024\n",
    "MOMENTUM = 0.95"
   ]
  },
  {
   "cell_type": "code",
   "execution_count": 7,
   "metadata": {},
   "outputs": [],
   "source": [
    "\"\"\"\n",
    "# 載入 Callbacks, 並設定監控目標為 validation loss\n",
    "\"\"\"\n",
    "from keras.callbacks import ReduceLROnPlateau\n",
    "\n",
    "reduce_lr = ReduceLROnPlateau(factor=0.5, \n",
    "                              min_lr=1e-12, \n",
    "                              monitor='val_loss', \n",
    "                              patience=5, \n",
    "                              verbose=1)"
   ]
  },
  {
   "cell_type": "code",
   "execution_count": 8,
   "metadata": {
    "scrolled": true
   },
   "outputs": [
    {
     "name": "stdout",
     "output_type": "stream",
     "text": [
      "Model: \"model_1\"\n",
      "_________________________________________________________________\n",
      "Layer (type)                 Output Shape              Param #   \n",
      "=================================================================\n",
      "input_1 (InputLayer)         (None, 3072)              0         \n",
      "_________________________________________________________________\n",
      "hidden_layer1 (Dense)        (None, 512)               1573376   \n",
      "_________________________________________________________________\n",
      "batch_normalization_1 (Batch (None, 512)               2048      \n",
      "_________________________________________________________________\n",
      "hidden_layer2 (Dense)        (None, 256)               131328    \n",
      "_________________________________________________________________\n",
      "batch_normalization_2 (Batch (None, 256)               1024      \n",
      "_________________________________________________________________\n",
      "hidden_layer3 (Dense)        (None, 128)               32896     \n",
      "_________________________________________________________________\n",
      "batch_normalization_3 (Batch (None, 128)               512       \n",
      "_________________________________________________________________\n",
      "output (Dense)               (None, 10)                1290      \n",
      "=================================================================\n",
      "Total params: 1,742,474\n",
      "Trainable params: 1,740,682\n",
      "Non-trainable params: 1,792\n",
      "_________________________________________________________________\n",
      "Train on 50000 samples, validate on 10000 samples\n",
      "Epoch 1/50\n",
      "50000/50000 [==============================] - 2s 44us/step - loss: 2.2078 - accuracy: 0.2693 - val_loss: 2.1216 - val_accuracy: 0.1959\n",
      "Epoch 2/50\n",
      "50000/50000 [==============================] - 1s 29us/step - loss: 1.7476 - accuracy: 0.3913 - val_loss: 1.9862 - val_accuracy: 0.2755\n",
      "Epoch 3/50\n",
      "50000/50000 [==============================] - 1s 29us/step - loss: 1.6199 - accuracy: 0.4350 - val_loss: 1.8769 - val_accuracy: 0.3215\n",
      "Epoch 4/50\n",
      "50000/50000 [==============================] - 1s 29us/step - loss: 1.5454 - accuracy: 0.4600 - val_loss: 1.7691 - val_accuracy: 0.3629\n",
      "Epoch 5/50\n",
      "50000/50000 [==============================] - 1s 29us/step - loss: 1.4910 - accuracy: 0.4807 - val_loss: 1.6785 - val_accuracy: 0.4049\n",
      "Epoch 6/50\n",
      "50000/50000 [==============================] - 1s 29us/step - loss: 1.4438 - accuracy: 0.4974 - val_loss: 1.6003 - val_accuracy: 0.4298\n",
      "Epoch 7/50\n",
      "50000/50000 [==============================] - 1s 29us/step - loss: 1.4046 - accuracy: 0.5118 - val_loss: 1.5657 - val_accuracy: 0.4403\n",
      "Epoch 8/50\n",
      "50000/50000 [==============================] - 1s 29us/step - loss: 1.3681 - accuracy: 0.5250 - val_loss: 1.5535 - val_accuracy: 0.4453\n",
      "Epoch 9/50\n",
      "50000/50000 [==============================] - 1s 29us/step - loss: 1.3358 - accuracy: 0.5361 - val_loss: 1.5212 - val_accuracy: 0.4608\n",
      "Epoch 10/50\n",
      "50000/50000 [==============================] - 1s 29us/step - loss: 1.3059 - accuracy: 0.5492 - val_loss: 1.4999 - val_accuracy: 0.4699\n",
      "Epoch 11/50\n",
      "50000/50000 [==============================] - 1s 29us/step - loss: 1.2769 - accuracy: 0.5595 - val_loss: 1.4936 - val_accuracy: 0.4746\n",
      "Epoch 12/50\n",
      "50000/50000 [==============================] - 1s 29us/step - loss: 1.2507 - accuracy: 0.5676 - val_loss: 1.4768 - val_accuracy: 0.4808\n",
      "Epoch 13/50\n",
      "50000/50000 [==============================] - 1s 29us/step - loss: 1.2267 - accuracy: 0.5787 - val_loss: 1.4835 - val_accuracy: 0.4758\n",
      "Epoch 14/50\n",
      "50000/50000 [==============================] - 1s 29us/step - loss: 1.2010 - accuracy: 0.5873 - val_loss: 1.4585 - val_accuracy: 0.4933\n",
      "Epoch 15/50\n",
      "50000/50000 [==============================] - 1s 29us/step - loss: 1.1770 - accuracy: 0.5969 - val_loss: 1.4672 - val_accuracy: 0.4877\n",
      "Epoch 16/50\n",
      "50000/50000 [==============================] - 1s 29us/step - loss: 1.1540 - accuracy: 0.6066 - val_loss: 1.4533 - val_accuracy: 0.4915\n",
      "Epoch 17/50\n",
      "50000/50000 [==============================] - 1s 29us/step - loss: 1.1314 - accuracy: 0.6130 - val_loss: 1.4488 - val_accuracy: 0.4987\n",
      "Epoch 18/50\n",
      "50000/50000 [==============================] - 1s 29us/step - loss: 1.1060 - accuracy: 0.6241 - val_loss: 1.4563 - val_accuracy: 0.4941\n",
      "Epoch 19/50\n",
      "50000/50000 [==============================] - 1s 29us/step - loss: 1.0845 - accuracy: 0.6306 - val_loss: 1.4517 - val_accuracy: 0.4934\n",
      "Epoch 20/50\n",
      "50000/50000 [==============================] - 1s 29us/step - loss: 1.0630 - accuracy: 0.6407 - val_loss: 1.4579 - val_accuracy: 0.4920\n",
      "Epoch 21/50\n",
      "50000/50000 [==============================] - 1s 29us/step - loss: 1.0415 - accuracy: 0.6468 - val_loss: 1.4604 - val_accuracy: 0.4956\n",
      "Epoch 22/50\n",
      "50000/50000 [==============================] - 1s 29us/step - loss: 1.0191 - accuracy: 0.6537 - val_loss: 1.4472 - val_accuracy: 0.5014\n",
      "Epoch 23/50\n",
      "50000/50000 [==============================] - 1s 29us/step - loss: 0.9966 - accuracy: 0.6630 - val_loss: 1.4601 - val_accuracy: 0.4954\n",
      "Epoch 24/50\n",
      "50000/50000 [==============================] - 2s 30us/step - loss: 0.9778 - accuracy: 0.6703 - val_loss: 1.4591 - val_accuracy: 0.5035\n",
      "Epoch 25/50\n",
      "50000/50000 [==============================] - 1s 29us/step - loss: 0.9545 - accuracy: 0.6811 - val_loss: 1.4533 - val_accuracy: 0.5029\n",
      "Epoch 26/50\n",
      "50000/50000 [==============================] - 1s 28us/step - loss: 0.9332 - accuracy: 0.6874 - val_loss: 1.4723 - val_accuracy: 0.4965\n",
      "Epoch 27/50\n",
      "50000/50000 [==============================] - 1s 30us/step - loss: 0.9128 - accuracy: 0.6963 - val_loss: 1.4696 - val_accuracy: 0.4982\n",
      "\n",
      "Epoch 00027: ReduceLROnPlateau reducing learning rate to 0.0005000000237487257.\n",
      "Epoch 28/50\n",
      "50000/50000 [==============================] - 1s 29us/step - loss: 0.8836 - accuracy: 0.7105 - val_loss: 1.4616 - val_accuracy: 0.5034\n",
      "Epoch 29/50\n",
      "50000/50000 [==============================] - 1s 28us/step - loss: 0.8662 - accuracy: 0.7157 - val_loss: 1.4620 - val_accuracy: 0.5033\n",
      "Epoch 30/50\n",
      "50000/50000 [==============================] - 1s 29us/step - loss: 0.8533 - accuracy: 0.7209 - val_loss: 1.4681 - val_accuracy: 0.5028\n",
      "Epoch 31/50\n",
      "50000/50000 [==============================] - 1s 29us/step - loss: 0.8429 - accuracy: 0.7257 - val_loss: 1.4718 - val_accuracy: 0.5024\n",
      "Epoch 32/50\n",
      "50000/50000 [==============================] - 1s 29us/step - loss: 0.8310 - accuracy: 0.7299 - val_loss: 1.4707 - val_accuracy: 0.5029\n",
      "\n",
      "Epoch 00032: ReduceLROnPlateau reducing learning rate to 0.0002500000118743628.\n",
      "Epoch 33/50\n",
      "50000/50000 [==============================] - 1s 29us/step - loss: 0.8168 - accuracy: 0.7360 - val_loss: 1.4682 - val_accuracy: 0.5059\n",
      "Epoch 34/50\n",
      "50000/50000 [==============================] - 1s 29us/step - loss: 0.8062 - accuracy: 0.7416 - val_loss: 1.4734 - val_accuracy: 0.5069\n",
      "Epoch 35/50\n",
      "50000/50000 [==============================] - 1s 28us/step - loss: 0.7991 - accuracy: 0.7431 - val_loss: 1.4734 - val_accuracy: 0.5033\n",
      "Epoch 36/50\n",
      "50000/50000 [==============================] - 1s 28us/step - loss: 0.7939 - accuracy: 0.7457 - val_loss: 1.4740 - val_accuracy: 0.5063\n",
      "Epoch 37/50\n",
      "50000/50000 [==============================] - 1s 29us/step - loss: 0.7879 - accuracy: 0.7487 - val_loss: 1.4774 - val_accuracy: 0.5035\n",
      "\n",
      "Epoch 00037: ReduceLROnPlateau reducing learning rate to 0.0001250000059371814.\n",
      "Epoch 38/50\n",
      "50000/50000 [==============================] - 1s 29us/step - loss: 0.7803 - accuracy: 0.7526 - val_loss: 1.4786 - val_accuracy: 0.5048\n",
      "Epoch 39/50\n",
      "50000/50000 [==============================] - 2s 32us/step - loss: 0.7741 - accuracy: 0.7546 - val_loss: 1.4797 - val_accuracy: 0.5023\n",
      "Epoch 40/50\n",
      "50000/50000 [==============================] - 1s 30us/step - loss: 0.7720 - accuracy: 0.7562 - val_loss: 1.4799 - val_accuracy: 0.5046\n",
      "Epoch 41/50\n",
      "50000/50000 [==============================] - 1s 30us/step - loss: 0.7681 - accuracy: 0.7571 - val_loss: 1.4803 - val_accuracy: 0.5034\n",
      "Epoch 42/50\n",
      "50000/50000 [==============================] - 1s 30us/step - loss: 0.7660 - accuracy: 0.7586 - val_loss: 1.4812 - val_accuracy: 0.5028\n",
      "\n",
      "Epoch 00042: ReduceLROnPlateau reducing learning rate to 6.25000029685907e-05.\n",
      "Epoch 43/50\n",
      "50000/50000 [==============================] - 2s 31us/step - loss: 0.7612 - accuracy: 0.7611 - val_loss: 1.4829 - val_accuracy: 0.5018\n",
      "Epoch 44/50\n"
     ]
    },
    {
     "name": "stdout",
     "output_type": "stream",
     "text": [
      "50000/50000 [==============================] - 2s 30us/step - loss: 0.7589 - accuracy: 0.7617 - val_loss: 1.4834 - val_accuracy: 0.5044\n",
      "Epoch 45/50\n",
      "50000/50000 [==============================] - 2s 31us/step - loss: 0.7573 - accuracy: 0.7620 - val_loss: 1.4837 - val_accuracy: 0.5040\n",
      "Epoch 46/50\n",
      "50000/50000 [==============================] - 2s 30us/step - loss: 0.7554 - accuracy: 0.7627 - val_loss: 1.4842 - val_accuracy: 0.5031\n",
      "Epoch 47/50\n",
      "50000/50000 [==============================] - 2s 32us/step - loss: 0.7541 - accuracy: 0.7634 - val_loss: 1.4847 - val_accuracy: 0.5060\n",
      "\n",
      "Epoch 00047: ReduceLROnPlateau reducing learning rate to 3.125000148429535e-05.\n",
      "Epoch 48/50\n",
      "50000/50000 [==============================] - 1s 30us/step - loss: 0.7523 - accuracy: 0.7642 - val_loss: 1.4849 - val_accuracy: 0.5023\n",
      "Epoch 49/50\n",
      "50000/50000 [==============================] - 2s 30us/step - loss: 0.7504 - accuracy: 0.7650 - val_loss: 1.4857 - val_accuracy: 0.5024\n",
      "Epoch 50/50\n",
      "50000/50000 [==============================] - 2s 32us/step - loss: 0.7496 - accuracy: 0.7657 - val_loss: 1.4865 - val_accuracy: 0.5030\n"
     ]
    }
   ],
   "source": [
    "model = build_mlp(input_shape=x_train.shape[1:])\n",
    "model.summary()\n",
    "optimizer = keras.optimizers.SGD(lr=LEARNING_RATE, nesterov=True, momentum=MOMENTUM)\n",
    "model.compile(loss=\"categorical_crossentropy\", metrics=[\"accuracy\"], optimizer=optimizer)\n",
    "\n",
    "model.fit(x_train, y_train, \n",
    "          epochs=EPOCHS, \n",
    "          batch_size=BATCH_SIZE, \n",
    "          validation_data=(x_test, y_test), \n",
    "          shuffle=True,\n",
    "          callbacks=[reduce_lr]\n",
    "         )\n",
    "\n",
    "# Collect results\n",
    "train_loss = model.history.history[\"loss\"]\n",
    "valid_loss = model.history.history[\"val_loss\"]\n",
    "train_acc = model.history.history[\"accuracy\"]\n",
    "valid_acc = model.history.history[\"val_accuracy\"]"
   ]
  },
  {
   "cell_type": "code",
   "execution_count": 9,
   "metadata": {},
   "outputs": [
    {
     "data": {
      "image/png": "[encoded data removed]",
      "text/plain": [
       "<Figure size 432x288 with 1 Axes>"
      ]
     },
     "metadata": {
      "needs_background": "light"
     },
     "output_type": "display_data"
    },
    {
     "data": {
      "image/png": "[encoded data removed]",
      "text/plain": [
       "<Figure size 432x288 with 1 Axes>"
      ]
     },
     "metadata": {
      "needs_background": "light"
     },
     "output_type": "display_data"
    }
   ],
   "source": [
    "import matplotlib.pyplot as plt\n",
    "%matplotlib inline\n",
    "\n",
    "plt.plot(range(len(train_loss)), train_loss, label=\"train loss\")\n",
    "plt.plot(range(len(valid_loss)), valid_loss, label=\"valid loss\")\n",
    "plt.legend()\n",
    "plt.title(\"Loss\")\n",
    "plt.show()\n",
    "\n",
    "plt.plot(range(len(train_acc)), train_acc, label=\"train accuracy\")\n",
    "plt.plot(range(len(valid_acc)), valid_acc, label=\"valid accuracy\")\n",
    "plt.legend()\n",
    "plt.title(\"Accuracy\")\n",
    "plt.show()"
   ]
  },
  {
   "cell_type": "markdown",
   "metadata": {},
   "source": [
    "## Work\n",
    "1. 請改變 reduce_lr 的 patience 和 factor 並比較不同設定下，對訓練/驗證集的影響\n",
    "2. 請將 optimizer 換成 Adam、RMSprop 搭配 reduce_lr 並比較訓練結果"
   ]
  }
 ],
 "metadata": {
  "kernelspec": {
   "display_name": "Python 3",
   "language": "python",
   "name": "python3"
  },
  "language_info": {
   "codemirror_mode": {
    "name": "ipython",
    "version": 3
   },
   "file_extension": ".py",
   "mimetype": "text/x-python",
   "name": "python",
   "nbconvert_exporter": "python",
   "pygments_lexer": "ipython3",
   "version": "3.7.7"
  }
 },
 "nbformat": 4,
 "nbformat_minor": 2
}
