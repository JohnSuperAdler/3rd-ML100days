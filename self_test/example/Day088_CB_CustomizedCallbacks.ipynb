{
 "cells": [
  {
   "cell_type": "markdown",
   "metadata": {},
   "source": [
    "## 範例重點\n",
    "* 學習如何在 keras 中加入自定義的 callbacks\n",
    "* 知道 callback function 可以動作的時機"
   ]
  },
  {
   "cell_type": "code",
   "execution_count": 1,
   "metadata": {},
   "outputs": [
    {
     "name": "stderr",
     "output_type": "stream",
     "text": [
      "Using TensorFlow backend.\n"
     ]
    }
   ],
   "source": [
    "import os\n",
    "import keras\n",
    "\n",
    "# 本範例不需使用 GPU, 將 GPU 設定為 \"無\"\n",
    "os.environ[\"CUDA_VISIBLE_DEVICES\"] = \"\""
   ]
  },
  {
   "cell_type": "code",
   "execution_count": 2,
   "metadata": {},
   "outputs": [],
   "source": [
    "train, test = keras.datasets.cifar10.load_data()"
   ]
  },
  {
   "cell_type": "code",
   "execution_count": 3,
   "metadata": {},
   "outputs": [],
   "source": [
    "## 資料前處理\n",
    "def preproc_x(x, flatten=True):\n",
    "    x = x / 255.\n",
    "    if flatten:\n",
    "        x = x.reshape((len(x), -1))\n",
    "    return x\n",
    "\n",
    "def preproc_y(y, num_classes=10):\n",
    "    if y.shape[-1] == 1:\n",
    "        y = keras.utils.to_categorical(y, num_classes)\n",
    "    return y    "
   ]
  },
  {
   "cell_type": "code",
   "execution_count": 4,
   "metadata": {},
   "outputs": [],
   "source": [
    "x_train, y_train = train\n",
    "x_test, y_test = test\n",
    "\n",
    "# 資料前處理 - X 標準化\n",
    "x_train = preproc_x(x_train)\n",
    "x_test = preproc_x(x_test)\n",
    "\n",
    "# 資料前處理 -Y 轉成 onehot\n",
    "y_train = preproc_y(y_train)\n",
    "y_test = preproc_y(y_test)"
   ]
  },
  {
   "cell_type": "code",
   "execution_count": 5,
   "metadata": {},
   "outputs": [],
   "source": [
    "from keras.layers import BatchNormalization\n",
    "\n",
    "\"\"\"\n",
    "建立神經網路，並加入 BN layer\n",
    "\"\"\"\n",
    "def build_mlp(input_shape, output_units=10, num_neurons=[512, 256, 128]):\n",
    "    input_layer = keras.layers.Input(input_shape)\n",
    "    \n",
    "    for i, n_units in enumerate(num_neurons):\n",
    "        if i == 0:\n",
    "            x = keras.layers.Dense(units=n_units, \n",
    "                                   activation=\"relu\", \n",
    "                                   name=\"hidden_layer\"+str(i+1))(input_layer)\n",
    "            x = BatchNormalization()(x)\n",
    "        else:\n",
    "            x = keras.layers.Dense(units=n_units, \n",
    "                                   activation=\"relu\", \n",
    "                                   name=\"hidden_layer\"+str(i+1))(x)\n",
    "            x = BatchNormalization()(x)\n",
    "    \n",
    "    out = keras.layers.Dense(units=output_units, activation=\"softmax\", name=\"output\")(x)\n",
    "    \n",
    "    model = keras.models.Model(inputs=[input_layer], outputs=[out])\n",
    "    return model"
   ]
  },
  {
   "cell_type": "code",
   "execution_count": 6,
   "metadata": {},
   "outputs": [],
   "source": [
    "## 超參數設定\n",
    "LEARNING_RATE = 1e-3\n",
    "EPOCHS = 50\n",
    "BATCH_SIZE = 1024\n",
    "MOMENTUM = 0.95"
   ]
  },
  {
   "cell_type": "code",
   "execution_count": 7,
   "metadata": {},
   "outputs": [],
   "source": [
    "\"\"\"\n",
    "# 載入 Callbacks，撰寫一個 f1 score 的 callback function\n",
    "\"\"\"\n",
    "\n",
    "from keras.callbacks import Callback\n",
    "from sklearn.metrics import f1_score\n",
    "\n",
    "class f1sc(Callback):\n",
    "    def on_train_begin(self, epoch, logs = {}):\n",
    "        logs = logs or {}\n",
    "        record_items = [\"val_auc\", \"val_f1sc\", \"val_fp\", \"val_fn\", \"val_tp\", \"val_tn\"]\n",
    "        for i in record_items:\n",
    "            if i not in self.params['metrics']:\n",
    "                self.params['metrics'].append(i)\n",
    "    \n",
    "    def on_epoch_end(self, epoch, logs = {}, thres=0.5):\n",
    "        logs = logs or {}\n",
    "        y_true = self.validation_data[1].argmax(axis = 1)\n",
    "        y_pred = self.model.predict(self.validation_data[0])\n",
    "        y_pred = (y_pred[:, 1] >= thres) * 1\n",
    "        \n",
    "        logs[\"val_f1sc\"] = f1_score(y_true = y_true, y_pred = y_pred, average=\"weighted\")\n",
    "        \n",
    "log_f1sc = f1sc()"
   ]
  },
  {
   "cell_type": "code",
   "execution_count": 8,
   "metadata": {
    "scrolled": true
   },
   "outputs": [
    {
     "name": "stdout",
     "output_type": "stream",
     "text": [
      "Model: \"model_1\"\n",
      "_________________________________________________________________\n",
      "Layer (type)                 Output Shape              Param #   \n",
      "=================================================================\n",
      "input_1 (InputLayer)         (None, 3072)              0         \n",
      "_________________________________________________________________\n",
      "hidden_layer1 (Dense)        (None, 512)               1573376   \n",
      "_________________________________________________________________\n",
      "batch_normalization_1 (Batch (None, 512)               2048      \n",
      "_________________________________________________________________\n",
      "hidden_layer2 (Dense)        (None, 256)               131328    \n",
      "_________________________________________________________________\n",
      "batch_normalization_2 (Batch (None, 256)               1024      \n",
      "_________________________________________________________________\n",
      "hidden_layer3 (Dense)        (None, 128)               32896     \n",
      "_________________________________________________________________\n",
      "batch_normalization_3 (Batch (None, 128)               512       \n",
      "_________________________________________________________________\n",
      "output (Dense)               (None, 10)                1290      \n",
      "=================================================================\n",
      "Total params: 1,742,474\n",
      "Trainable params: 1,740,682\n",
      "Non-trainable params: 1,792\n",
      "_________________________________________________________________\n",
      "Train on 50000 samples, validate on 10000 samples\n",
      "Epoch 1/50\n",
      "50000/50000 [==============================] - 2s 39us/step - loss: 2.1810 - accuracy: 0.2764 - val_loss: 2.1109 - val_accuracy: 0.2356\n",
      "Epoch 2/50\n",
      "50000/50000 [==============================] - 1s 28us/step - loss: 1.7366 - accuracy: 0.3923 - val_loss: 1.9888 - val_accuracy: 0.2932\n",
      "Epoch 3/50\n",
      "50000/50000 [==============================] - 1s 28us/step - loss: 1.6090 - accuracy: 0.4364 - val_loss: 1.8375 - val_accuracy: 0.3614\n",
      "Epoch 4/50\n",
      "50000/50000 [==============================] - 1s 28us/step - loss: 1.5365 - accuracy: 0.4641 - val_loss: 1.7361 - val_accuracy: 0.3941\n",
      "Epoch 5/50\n",
      "50000/50000 [==============================] - 1s 28us/step - loss: 1.4835 - accuracy: 0.4818 - val_loss: 1.6489 - val_accuracy: 0.4273\n",
      "Epoch 6/50\n",
      "50000/50000 [==============================] - 1s 30us/step - loss: 1.4386 - accuracy: 0.4980 - val_loss: 1.5912 - val_accuracy: 0.4422\n",
      "Epoch 7/50\n",
      "50000/50000 [==============================] - 1s 29us/step - loss: 1.3996 - accuracy: 0.5105 - val_loss: 1.5568 - val_accuracy: 0.4480\n",
      "Epoch 8/50\n",
      "50000/50000 [==============================] - 1s 28us/step - loss: 1.3648 - accuracy: 0.5228 - val_loss: 1.5367 - val_accuracy: 0.4547\n",
      "Epoch 9/50\n",
      "50000/50000 [==============================] - 1s 28us/step - loss: 1.3322 - accuracy: 0.5352 - val_loss: 1.5034 - val_accuracy: 0.4742\n",
      "Epoch 10/50\n",
      "50000/50000 [==============================] - 1s 28us/step - loss: 1.3011 - accuracy: 0.5471 - val_loss: 1.4985 - val_accuracy: 0.4717\n",
      "Epoch 11/50\n",
      "50000/50000 [==============================] - 1s 28us/step - loss: 1.2730 - accuracy: 0.5566 - val_loss: 1.4894 - val_accuracy: 0.4774\n",
      "Epoch 12/50\n",
      "50000/50000 [==============================] - 2s 31us/step - loss: 1.2461 - accuracy: 0.5678 - val_loss: 1.4834 - val_accuracy: 0.4757\n",
      "Epoch 13/50\n",
      "50000/50000 [==============================] - 1s 28us/step - loss: 1.2196 - accuracy: 0.5782 - val_loss: 1.4678 - val_accuracy: 0.4820\n",
      "Epoch 14/50\n",
      "50000/50000 [==============================] - 1s 28us/step - loss: 1.1933 - accuracy: 0.5881 - val_loss: 1.4650 - val_accuracy: 0.4856\n",
      "Epoch 15/50\n",
      "50000/50000 [==============================] - 1s 28us/step - loss: 1.1676 - accuracy: 0.5960 - val_loss: 1.4838 - val_accuracy: 0.4812\n",
      "Epoch 16/50\n",
      "50000/50000 [==============================] - 1s 28us/step - loss: 1.1442 - accuracy: 0.6060 - val_loss: 1.4687 - val_accuracy: 0.4851\n",
      "Epoch 17/50\n",
      "50000/50000 [==============================] - 1s 28us/step - loss: 1.1224 - accuracy: 0.6150 - val_loss: 1.4657 - val_accuracy: 0.4851\n",
      "Epoch 18/50\n",
      "50000/50000 [==============================] - 1s 28us/step - loss: 1.0968 - accuracy: 0.6251 - val_loss: 1.4890 - val_accuracy: 0.4836\n",
      "Epoch 19/50\n",
      "50000/50000 [==============================] - 1s 28us/step - loss: 1.0739 - accuracy: 0.6326 - val_loss: 1.4607 - val_accuracy: 0.4889\n",
      "Epoch 20/50\n",
      "50000/50000 [==============================] - 1s 28us/step - loss: 1.0515 - accuracy: 0.6410 - val_loss: 1.4626 - val_accuracy: 0.4890\n",
      "Epoch 21/50\n",
      "50000/50000 [==============================] - 1s 29us/step - loss: 1.0324 - accuracy: 0.6495 - val_loss: 1.4544 - val_accuracy: 0.4926\n",
      "Epoch 22/50\n",
      "50000/50000 [==============================] - 1s 29us/step - loss: 1.0119 - accuracy: 0.6566 - val_loss: 1.4624 - val_accuracy: 0.4931\n",
      "Epoch 23/50\n",
      "50000/50000 [==============================] - 1s 29us/step - loss: 0.9898 - accuracy: 0.6672 - val_loss: 1.4707 - val_accuracy: 0.4916\n",
      "Epoch 24/50\n",
      "50000/50000 [==============================] - 1s 30us/step - loss: 0.9693 - accuracy: 0.6720 - val_loss: 1.4590 - val_accuracy: 0.4949\n",
      "Epoch 25/50\n",
      "50000/50000 [==============================] - 1s 29us/step - loss: 0.9474 - accuracy: 0.6813 - val_loss: 1.4627 - val_accuracy: 0.4948\n",
      "Epoch 26/50\n",
      "50000/50000 [==============================] - 1s 29us/step - loss: 0.9261 - accuracy: 0.6889 - val_loss: 1.4959 - val_accuracy: 0.4867\n",
      "Epoch 27/50\n",
      "50000/50000 [==============================] - 1s 29us/step - loss: 0.9045 - accuracy: 0.6992 - val_loss: 1.4810 - val_accuracy: 0.4904\n",
      "Epoch 28/50\n",
      "50000/50000 [==============================] - 1s 29us/step - loss: 0.8828 - accuracy: 0.7082 - val_loss: 1.4731 - val_accuracy: 0.4931\n",
      "Epoch 29/50\n",
      "50000/50000 [==============================] - 1s 29us/step - loss: 0.8655 - accuracy: 0.7132 - val_loss: 1.4827 - val_accuracy: 0.4941\n",
      "Epoch 30/50\n",
      "50000/50000 [==============================] - 1s 30us/step - loss: 0.8456 - accuracy: 0.7235 - val_loss: 1.4914 - val_accuracy: 0.5009\n",
      "Epoch 31/50\n",
      "50000/50000 [==============================] - 1s 29us/step - loss: 0.8242 - accuracy: 0.7318 - val_loss: 1.5070 - val_accuracy: 0.4862\n",
      "Epoch 32/50\n",
      "50000/50000 [==============================] - 1s 30us/step - loss: 0.8061 - accuracy: 0.7383 - val_loss: 1.5017 - val_accuracy: 0.4959\n",
      "Epoch 33/50\n",
      "50000/50000 [==============================] - 1s 30us/step - loss: 0.7875 - accuracy: 0.7443 - val_loss: 1.5130 - val_accuracy: 0.4997\n",
      "Epoch 34/50\n",
      "50000/50000 [==============================] - 1s 29us/step - loss: 0.7672 - accuracy: 0.7522 - val_loss: 1.5175 - val_accuracy: 0.4943\n",
      "Epoch 35/50\n",
      "50000/50000 [==============================] - 1s 29us/step - loss: 0.7487 - accuracy: 0.7592 - val_loss: 1.5174 - val_accuracy: 0.4990\n",
      "Epoch 36/50\n",
      "50000/50000 [==============================] - 1s 29us/step - loss: 0.7309 - accuracy: 0.7675 - val_loss: 1.5281 - val_accuracy: 0.4973\n",
      "Epoch 37/50\n",
      "50000/50000 [==============================] - 1s 29us/step - loss: 0.7095 - accuracy: 0.7751 - val_loss: 1.5339 - val_accuracy: 0.4999\n",
      "Epoch 38/50\n",
      "50000/50000 [==============================] - 1s 29us/step - loss: 0.6911 - accuracy: 0.7850 - val_loss: 1.5351 - val_accuracy: 0.4951\n",
      "Epoch 39/50\n",
      "50000/50000 [==============================] - 1s 29us/step - loss: 0.6751 - accuracy: 0.7887 - val_loss: 1.5544 - val_accuracy: 0.4997\n",
      "Epoch 40/50\n",
      "50000/50000 [==============================] - 1s 29us/step - loss: 0.6555 - accuracy: 0.7970 - val_loss: 1.5481 - val_accuracy: 0.4931\n",
      "Epoch 41/50\n",
      "50000/50000 [==============================] - 1s 29us/step - loss: 0.6364 - accuracy: 0.8061 - val_loss: 1.5719 - val_accuracy: 0.4977\n",
      "Epoch 42/50\n",
      "50000/50000 [==============================] - 1s 29us/step - loss: 0.6191 - accuracy: 0.8119 - val_loss: 1.5694 - val_accuracy: 0.5007\n",
      "Epoch 43/50\n",
      "50000/50000 [==============================] - 1s 29us/step - loss: 0.6015 - accuracy: 0.8195 - val_loss: 1.5898 - val_accuracy: 0.4935\n",
      "Epoch 44/50\n",
      "50000/50000 [==============================] - 1s 29us/step - loss: 0.5838 - accuracy: 0.8273 - val_loss: 1.6037 - val_accuracy: 0.4941\n",
      "Epoch 45/50\n",
      "50000/50000 [==============================] - 1s 29us/step - loss: 0.5677 - accuracy: 0.8326 - val_loss: 1.5921 - val_accuracy: 0.4987\n",
      "Epoch 46/50\n"
     ]
    },
    {
     "name": "stdout",
     "output_type": "stream",
     "text": [
      "50000/50000 [==============================] - 1s 30us/step - loss: 0.5514 - accuracy: 0.8382 - val_loss: 1.6157 - val_accuracy: 0.4901\n",
      "Epoch 47/50\n",
      "50000/50000 [==============================] - 1s 29us/step - loss: 0.5352 - accuracy: 0.8453 - val_loss: 1.6438 - val_accuracy: 0.4912\n",
      "Epoch 48/50\n",
      "50000/50000 [==============================] - 1s 29us/step - loss: 0.5156 - accuracy: 0.8524 - val_loss: 1.6366 - val_accuracy: 0.4962\n",
      "Epoch 49/50\n",
      "50000/50000 [==============================] - 1s 29us/step - loss: 0.5010 - accuracy: 0.8589 - val_loss: 1.6633 - val_accuracy: 0.4933\n",
      "Epoch 50/50\n",
      "50000/50000 [==============================] - 1s 29us/step - loss: 0.4849 - accuracy: 0.8665 - val_loss: 1.6575 - val_accuracy: 0.4980\n"
     ]
    }
   ],
   "source": [
    "model = build_mlp(input_shape=x_train.shape[1:])\n",
    "model.summary()\n",
    "optimizer = keras.optimizers.SGD(lr=LEARNING_RATE, nesterov=True, momentum=MOMENTUM)\n",
    "model.compile(loss=\"categorical_crossentropy\", metrics=[\"accuracy\"], optimizer=optimizer)\n",
    "\n",
    "model.fit(x_train, y_train, \n",
    "          epochs=EPOCHS, \n",
    "          batch_size=BATCH_SIZE, \n",
    "          validation_data=(x_test, y_test), \n",
    "          shuffle=True,\n",
    "          callbacks=[log_f1sc]\n",
    "         )\n",
    "\n",
    "# Collect results\n",
    "train_loss = model.history.history[\"loss\"]\n",
    "valid_loss = model.history.history[\"val_loss\"]\n",
    "train_acc = model.history.history[\"accuracy\"]\n",
    "valid_acc = model.history.history[\"val_accuracy\"]\n",
    "\n",
    "# 在訓練後，將 f1sc 紀錄調出\n",
    "valid_f1sc = model.history.history['val_f1sc']"
   ]
  },
  {
   "cell_type": "code",
   "execution_count": 9,
   "metadata": {},
   "outputs": [
    {
     "data": {
      "image/png": "[encoded data removed]",
      "text/plain": [
       "<Figure size 432x288 with 1 Axes>"
      ]
     },
     "metadata": {
      "needs_background": "light"
     },
     "output_type": "display_data"
    },
    {
     "data": {
      "image/png": "[encoded data removed]",
      "text/plain": [
       "<Figure size 432x288 with 1 Axes>"
      ]
     },
     "metadata": {
      "needs_background": "light"
     },
     "output_type": "display_data"
    },
    {
     "data": {
      "image/png": "[encoded data removed]",
      "text/plain": [
       "<Figure size 432x288 with 1 Axes>"
      ]
     },
     "metadata": {
      "needs_background": "light"
     },
     "output_type": "display_data"
    }
   ],
   "source": [
    "import matplotlib.pyplot as plt\n",
    "%matplotlib inline\n",
    "\n",
    "plt.plot(range(len(train_loss)), train_loss, label=\"train loss\")\n",
    "plt.plot(range(len(valid_loss)), valid_loss, label=\"valid loss\")\n",
    "plt.legend()\n",
    "plt.title(\"Loss\")\n",
    "plt.show()\n",
    "\n",
    "plt.plot(range(len(train_acc)), train_acc, label=\"train accuracy\")\n",
    "plt.plot(range(len(valid_acc)), valid_acc, label=\"valid accuracy\")\n",
    "plt.legend()\n",
    "plt.title(\"Accuracy\")\n",
    "plt.show()\n",
    "\n",
    "plt.plot(range(len(valid_f1sc)), valid_f1sc, label=\"valid f1-score\")\n",
    "plt.legend()\n",
    "plt.title(\"F1-score\")\n",
    "plt.show()\n"
   ]
  },
  {
   "cell_type": "markdown",
   "metadata": {},
   "source": [
    "## Work\n",
    "1. 請嘗試寫一個 callback 用來記錄各類別在訓練過程中，對驗證集的 True Positive 與 True Negative"
   ]
  }
 ],
 "metadata": {
  "kernelspec": {
   "display_name": "Python 3",
   "language": "python",
   "name": "python3"
  },
  "language_info": {
   "codemirror_mode": {
    "name": "ipython",
    "version": 3
   },
   "file_extension": ".py",
   "mimetype": "text/x-python",
   "name": "python",
   "nbconvert_exporter": "python",
   "pygments_lexer": "ipython3",
   "version": "3.7.7"
  }
 },
 "nbformat": 4,
 "nbformat_minor": 2
}
