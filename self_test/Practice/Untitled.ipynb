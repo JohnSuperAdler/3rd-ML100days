{
 "cells": [
  {
   "cell_type": "code",
   "execution_count": 2,
   "metadata": {},
   "outputs": [],
   "source": [
    "import itertools"
   ]
  },
  {
   "cell_type": "code",
   "execution_count": 1,
   "metadata": {},
   "outputs": [],
   "source": [
    "a = ['m', 'n', 'o']\n",
    "b = ['p', 'q']\n",
    "c = ['r', 's']"
   ]
  },
  {
   "cell_type": "code",
   "execution_count": 3,
   "metadata": {},
   "outputs": [
    {
     "name": "stdout",
     "output_type": "stream",
     "text": [
      "(0, 'm', 'p', 'r')\n",
      "(1, 'm', 'p', 's')\n",
      "(2, 'm', 'q', 'r')\n",
      "(3, 'm', 'q', 's')\n",
      "(4, 'n', 'p', 'r')\n",
      "(5, 'n', 'p', 's')\n",
      "(6, 'n', 'q', 'r')\n",
      "(7, 'n', 'q', 's')\n",
      "(8, 'o', 'p', 'r')\n",
      "(9, 'o', 'p', 's')\n",
      "(10, 'o', 'q', 'r')\n",
      "(11, 'o', 'q', 's')\n"
     ]
    }
   ],
   "source": [
    "for i, (x, y, z) in enumerate(itertools.product(a, b, c)):\n",
    "    print((i, x, y, z))"
   ]
  },
  {
   "cell_type": "code",
   "execution_count": null,
   "metadata": {},
   "outputs": [],
   "source": []
  }
 ],
 "metadata": {
  "kernelspec": {
   "display_name": "Python 3",
   "language": "python",
   "name": "python3"
  },
  "language_info": {
   "codemirror_mode": {
    "name": "ipython",
    "version": 3
   },
   "file_extension": ".py",
   "mimetype": "text/x-python",
   "name": "python",
   "nbconvert_exporter": "python",
   "pygments_lexer": "ipython3",
   "version": "3.7.7"
  }
 },
 "nbformat": 4,
 "nbformat_minor": 4
}
