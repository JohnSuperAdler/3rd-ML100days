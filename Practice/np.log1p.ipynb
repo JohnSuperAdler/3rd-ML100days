{
 "cells": [
  {
   "cell_type": "markdown",
   "metadata": {},
   "source": [
    "What is the purpose of numpy.log1p( )? \n",
    "\n",
    "https://stackoverflow.com/questions/49538185\n",
    "\n",
    "【NumPy入門 np.log】np.arrayの対数を計算する関数4つを紹介\n",
    "\n",
    "https://www.sejuku.net/blog/70027"
   ]
  },
  {
   "cell_type": "code",
   "execution_count": 30,
   "metadata": {},
   "outputs": [],
   "source": [
    "import numpy as np\n",
    "import matplotlib.pyplot as plt\n",
    "import pandas as pd"
   ]
  },
  {
   "cell_type": "code",
   "execution_count": 61,
   "metadata": {},
   "outputs": [
    {
     "data": {
      "text/plain": [
       "[20.0,\n",
       " 19.0,\n",
       " 18.0,\n",
       " 17.0,\n",
       " 16.0,\n",
       " 15.0,\n",
       " 14.0,\n",
       " 13.0,\n",
       " 12.0,\n",
       " 11.0,\n",
       " 10.0,\n",
       " 9.0,\n",
       " 8.0,\n",
       " 7.0,\n",
       " 6.0,\n",
       " 5.0,\n",
       " 4.0,\n",
       " 3.0,\n",
       " 2.0,\n",
       " 1.0]"
      ]
     },
     "execution_count": 61,
     "metadata": {},
     "output_type": "execute_result"
    }
   ],
   "source": [
    "a = list(np.linspace(20, 1, 20))\n",
    "a"
   ]
  },
  {
   "cell_type": "code",
   "execution_count": 62,
   "metadata": {},
   "outputs": [
    {
     "data": {
      "text/plain": [
       "array([2.0e+001, 1.9e+001, 1.8e+001, 1.7e+001, 1.6e+001, 1.5e+001,\n",
       "       1.4e+001, 1.3e+001, 1.2e+001, 1.1e+001, 1.0e+001, 9.0e+000,\n",
       "       8.0e+000, 7.0e+000, 6.0e+000, 5.0e+000, 4.0e+000, 3.0e+000,\n",
       "       2.0e+000, 1.0e+000, 1.0e-001, 1.0e-002, 1.0e-003, 1.0e-004,\n",
       "       1.0e-005, 1.0e-006, 1.0e-007, 1.0e-008, 1.0e-009, 1.0e-010,\n",
       "       1.0e-011, 1.0e-012, 1.0e-013, 1.0e-014, 1.0e-015, 1.0e-016,\n",
       "       1.0e-017, 1.0e-018, 1.0e-019, 1.0e-020, 1.0e-021, 1.0e-022,\n",
       "       1.0e-023, 1.0e-024, 1.0e-025, 1.0e-026, 1.0e-027, 1.0e-028,\n",
       "       1.0e-029, 1.0e-030, 1.0e-031, 1.0e-032, 1.0e-033, 1.0e-034,\n",
       "       1.0e-035, 1.0e-036, 1.0e-037, 1.0e-038, 1.0e-039, 1.0e-040,\n",
       "       1.0e-041, 1.0e-042, 1.0e-043, 1.0e-044, 1.0e-045, 1.0e-046,\n",
       "       1.0e-047, 1.0e-048, 1.0e-049, 1.0e-050, 1.0e-051, 1.0e-052,\n",
       "       1.0e-053, 1.0e-054, 1.0e-055, 1.0e-056, 1.0e-057, 1.0e-058,\n",
       "       1.0e-059, 1.0e-060, 1.0e-061, 1.0e-062, 1.0e-063, 1.0e-064,\n",
       "       1.0e-065, 1.0e-066, 1.0e-067, 1.0e-068, 1.0e-069, 1.0e-070,\n",
       "       1.0e-071, 1.0e-072, 1.0e-073, 1.0e-074, 1.0e-075, 1.0e-076,\n",
       "       1.0e-077, 1.0e-078, 1.0e-079, 1.0e-080, 1.0e-081, 1.0e-082,\n",
       "       1.0e-083, 1.0e-084, 1.0e-085, 1.0e-086, 1.0e-087, 1.0e-088,\n",
       "       1.0e-089, 1.0e-090, 1.0e-091, 1.0e-092, 1.0e-093, 1.0e-094,\n",
       "       1.0e-095, 1.0e-096, 1.0e-097, 1.0e-098, 1.0e-099, 1.0e-100])"
      ]
     },
     "execution_count": 62,
     "metadata": {},
     "output_type": "execute_result"
    }
   ],
   "source": [
    "x = list(1 / 10 ** np.linspace(1, 100, 100))\n",
    "x = np.array(a + x)\n",
    "x"
   ]
  },
  {
   "cell_type": "code",
   "execution_count": 63,
   "metadata": {},
   "outputs": [],
   "source": [
    "log_x = np.log(x)\n",
    "log_x_plus1 = np.log(x+1)\n",
    "log1p_x = np.log1p(x)"
   ]
  },
  {
   "cell_type": "code",
   "execution_count": 64,
   "metadata": {},
   "outputs": [
    {
     "name": "stdout",
     "output_type": "stream",
     "text": [
      "original\n",
      "[20. 19. 18. 17. 16. 15. 14. 13. 12. 11.]\n",
      "\n",
      " log(x)\n",
      "[3.04452244 2.99573227 2.94443898 2.89037176 2.83321334 2.77258872\n",
      " 2.7080502  2.63905733 2.56494936 2.48490665]\n",
      "\n",
      " log(x + 1)\n",
      "[2.99573227 2.94443898 2.89037176 2.83321334 2.77258872 2.7080502\n",
      " 2.63905733 2.56494936 2.48490665 2.39789527]\n",
      "\n",
      " log1p(x)\n",
      "[3.04452244 2.99573227 2.94443898 2.89037176 2.83321334 2.77258872\n",
      " 2.7080502  2.63905733 2.56494936 2.48490665]\n"
     ]
    }
   ],
   "source": [
    "print(\"original\")\n",
    "print(x[:10])\n",
    "print(\"\\n log(x)\")\n",
    "print(log_x_plus1[:10])\n",
    "print(\"\\n log(x + 1)\")\n",
    "print(log_x[:10])\n",
    "print(\"\\n log1p(x)\")\n",
    "print(log1p_x[:10])"
   ]
  },
  {
   "cell_type": "code",
   "execution_count": 65,
   "metadata": {},
   "outputs": [
    {
     "name": "stdout",
     "output_type": "stream",
     "text": [
      "[False, False, False, False, False, False, False, False, False, False, False, False, False, False, False, False, False, False, False, False, False, False, False, False, False, False, False, False, False, False, False, False, False, False, False, True, True, True, True, True, True, True, True, True, True, True, True, True, True, True, True, True, True, True, True, True, True, True, True, True, True, True, True, True, True, True, True, True, True, True, True, True, True, True, True, True, True, True, True, True, True, True, True, True, True, True, True, True, True, True, True, True, True, True, True, True, True, True, True, True, True, True, True, True, True, True, True, True, True, True, True, True, True, True, True, True, True, True, True, True]\n",
      "[True, True, True, True, True, True, True, True, True, True, True, True, True, True, True, True, True, True, True, True, False, False, False, False, False, False, False, False, False, False, False, False, False, False, False, False, False, False, False, False, False, False, False, False, False, False, False, False, False, False, False, False, False, False, False, False, False, False, False, False, False, False, False, False, False, False, False, False, False, False, False, False, False, False, False, False, False, False, False, False, False, False, False, False, False, False, False, False, False, False, False, False, False, False, False, False, False, False, False, False, False, False, False, False, False, False, False, False, False, False, False, False, False, False, False, False, False, False, False, False]\n"
     ]
    }
   ],
   "source": [
    "original_log1p_compare_li = []\n",
    "log1p_logxp1_compare_li = []\n",
    "\n",
    "for i in range(len(x)):\n",
    "    if x[i] == log1p_x[i]:\n",
    "        original_log1p_compare_li.append(True)\n",
    "    else:\n",
    "        original_log1p_compare_li.append(False)\n",
    "    if log_x_plus1[i] == log1p_x[i]:\n",
    "        log1p_logxp1_compare_li.append(True)\n",
    "    else:\n",
    "        log1p_logxp1_compare_li.append(False)\n",
    "print(original_log1p_compare_li)\n",
    "print(log1p_logxp1_compare_li)"
   ]
  },
  {
   "cell_type": "code",
   "execution_count": 86,
   "metadata": {},
   "outputs": [
    {
     "name": "stdout",
     "output_type": "stream",
     "text": [
      "          original     log1p(x)_1  Original-log1p     log1p(x)_2      log(x+1)  log1p-logxp1\n",
      "0     2.000000e+01   3.044522e+00           False   3.044522e+00  3.044522e+00          True\n",
      "1     1.900000e+01   2.995732e+00           False   2.995732e+00  2.995732e+00          True\n",
      "2     1.800000e+01   2.944439e+00           False   2.944439e+00  2.944439e+00          True\n",
      "3     1.700000e+01   2.890372e+00           False   2.890372e+00  2.890372e+00          True\n",
      "4     1.600000e+01   2.833213e+00           False   2.833213e+00  2.833213e+00          True\n",
      "5     1.500000e+01   2.772589e+00           False   2.772589e+00  2.772589e+00          True\n",
      "6     1.400000e+01   2.708050e+00           False   2.708050e+00  2.708050e+00          True\n",
      "7     1.300000e+01   2.639057e+00           False   2.639057e+00  2.639057e+00          True\n",
      "8     1.200000e+01   2.564949e+00           False   2.564949e+00  2.564949e+00          True\n",
      "9     1.100000e+01   2.484907e+00           False   2.484907e+00  2.484907e+00          True\n",
      "10    1.000000e+01   2.397895e+00           False   2.397895e+00  2.397895e+00          True\n",
      "11    9.000000e+00   2.302585e+00           False   2.302585e+00  2.302585e+00          True\n",
      "12    8.000000e+00   2.197225e+00           False   2.197225e+00  2.197225e+00          True\n",
      "13    7.000000e+00   2.079442e+00           False   2.079442e+00  2.079442e+00          True\n",
      "14    6.000000e+00   1.945910e+00           False   1.945910e+00  1.945910e+00          True\n",
      "15    5.000000e+00   1.791759e+00           False   1.791759e+00  1.791759e+00          True\n",
      "16    4.000000e+00   1.609438e+00           False   1.609438e+00  1.609438e+00          True\n",
      "17    3.000000e+00   1.386294e+00           False   1.386294e+00  1.386294e+00          True\n",
      "18    2.000000e+00   1.098612e+00           False   1.098612e+00  1.098612e+00          True\n",
      "19    1.000000e+00   6.931472e-01           False   6.931472e-01  6.931472e-01          True\n",
      "20    1.000000e-01   9.531018e-02           False   9.531018e-02  9.531018e-02         False\n",
      "21    1.000000e-02   9.950331e-03           False   9.950331e-03  9.950331e-03         False\n",
      "22    1.000000e-03   9.995003e-04           False   9.995003e-04  9.995003e-04         False\n",
      "23    1.000000e-04   9.999500e-05           False   9.999500e-05  9.999500e-05         False\n",
      "24    1.000000e-05   9.999950e-06           False   9.999950e-06  9.999950e-06         False\n",
      "25    1.000000e-06   9.999995e-07           False   9.999995e-07  9.999995e-07         False\n",
      "26    1.000000e-07   1.000000e-07           False   1.000000e-07  1.000000e-07         False\n",
      "27    1.000000e-08   1.000000e-08           False   1.000000e-08  1.000000e-08         False\n",
      "28    1.000000e-09   1.000000e-09           False   1.000000e-09  1.000000e-09         False\n",
      "29    1.000000e-10   1.000000e-10           False   1.000000e-10  1.000000e-10         False\n",
      "30    1.000000e-11   1.000000e-11           False   1.000000e-11  1.000000e-11         False\n",
      "31    1.000000e-12   1.000000e-12           False   1.000000e-12  1.000089e-12         False\n",
      "32    1.000000e-13   1.000000e-13           False   1.000000e-13  9.992007e-14         False\n",
      "33    1.000000e-14   1.000000e-14           False   1.000000e-14  9.992007e-15         False\n",
      "34    1.000000e-15   1.000000e-15           False   1.000000e-15  1.110223e-15         False\n",
      "35    1.000000e-16   1.000000e-16            True   1.000000e-16  0.000000e+00         False\n",
      "36    1.000000e-17   1.000000e-17            True   1.000000e-17  0.000000e+00         False\n",
      "37    1.000000e-18   1.000000e-18            True   1.000000e-18  0.000000e+00         False\n",
      "38    1.000000e-19   1.000000e-19            True   1.000000e-19  0.000000e+00         False\n",
      "39    1.000000e-20   1.000000e-20            True   1.000000e-20  0.000000e+00         False\n",
      "40    1.000000e-21   1.000000e-21            True   1.000000e-21  0.000000e+00         False\n",
      "41    1.000000e-22   1.000000e-22            True   1.000000e-22  0.000000e+00         False\n",
      "42    1.000000e-23   1.000000e-23            True   1.000000e-23  0.000000e+00         False\n",
      "43    1.000000e-24   1.000000e-24            True   1.000000e-24  0.000000e+00         False\n",
      "44    1.000000e-25   1.000000e-25            True   1.000000e-25  0.000000e+00         False\n",
      "45    1.000000e-26   1.000000e-26            True   1.000000e-26  0.000000e+00         False\n",
      "46    1.000000e-27   1.000000e-27            True   1.000000e-27  0.000000e+00         False\n",
      "47    1.000000e-28   1.000000e-28            True   1.000000e-28  0.000000e+00         False\n",
      "48    1.000000e-29   1.000000e-29            True   1.000000e-29  0.000000e+00         False\n",
      "49    1.000000e-30   1.000000e-30            True   1.000000e-30  0.000000e+00         False\n",
      "50    1.000000e-31   1.000000e-31            True   1.000000e-31  0.000000e+00         False\n",
      "51    1.000000e-32   1.000000e-32            True   1.000000e-32  0.000000e+00         False\n",
      "52    1.000000e-33   1.000000e-33            True   1.000000e-33  0.000000e+00         False\n",
      "53    1.000000e-34   1.000000e-34            True   1.000000e-34  0.000000e+00         False\n",
      "54    1.000000e-35   1.000000e-35            True   1.000000e-35  0.000000e+00         False\n",
      "55    1.000000e-36   1.000000e-36            True   1.000000e-36  0.000000e+00         False\n",
      "56    1.000000e-37   1.000000e-37            True   1.000000e-37  0.000000e+00         False\n",
      "57    1.000000e-38   1.000000e-38            True   1.000000e-38  0.000000e+00         False\n",
      "58    1.000000e-39   1.000000e-39            True   1.000000e-39  0.000000e+00         False\n",
      "59    1.000000e-40   1.000000e-40            True   1.000000e-40  0.000000e+00         False\n",
      "60    1.000000e-41   1.000000e-41            True   1.000000e-41  0.000000e+00         False\n",
      "61    1.000000e-42   1.000000e-42            True   1.000000e-42  0.000000e+00         False\n",
      "62    1.000000e-43   1.000000e-43            True   1.000000e-43  0.000000e+00         False\n",
      "63    1.000000e-44   1.000000e-44            True   1.000000e-44  0.000000e+00         False\n",
      "64    1.000000e-45   1.000000e-45            True   1.000000e-45  0.000000e+00         False\n",
      "65    1.000000e-46   1.000000e-46            True   1.000000e-46  0.000000e+00         False\n",
      "66    1.000000e-47   1.000000e-47            True   1.000000e-47  0.000000e+00         False\n",
      "67    1.000000e-48   1.000000e-48            True   1.000000e-48  0.000000e+00         False\n",
      "68    1.000000e-49   1.000000e-49            True   1.000000e-49  0.000000e+00         False\n",
      "69    1.000000e-50   1.000000e-50            True   1.000000e-50  0.000000e+00         False\n",
      "70    1.000000e-51   1.000000e-51            True   1.000000e-51  0.000000e+00         False\n",
      "71    1.000000e-52   1.000000e-52            True   1.000000e-52  0.000000e+00         False\n",
      "72    1.000000e-53   1.000000e-53            True   1.000000e-53  0.000000e+00         False\n",
      "73    1.000000e-54   1.000000e-54            True   1.000000e-54  0.000000e+00         False\n",
      "74    1.000000e-55   1.000000e-55            True   1.000000e-55  0.000000e+00         False\n",
      "75    1.000000e-56   1.000000e-56            True   1.000000e-56  0.000000e+00         False\n",
      "76    1.000000e-57   1.000000e-57            True   1.000000e-57  0.000000e+00         False\n",
      "77    1.000000e-58   1.000000e-58            True   1.000000e-58  0.000000e+00         False\n",
      "78    1.000000e-59   1.000000e-59            True   1.000000e-59  0.000000e+00         False\n",
      "79    1.000000e-60   1.000000e-60            True   1.000000e-60  0.000000e+00         False\n",
      "80    1.000000e-61   1.000000e-61            True   1.000000e-61  0.000000e+00         False\n",
      "81    1.000000e-62   1.000000e-62            True   1.000000e-62  0.000000e+00         False\n",
      "82    1.000000e-63   1.000000e-63            True   1.000000e-63  0.000000e+00         False\n",
      "83    1.000000e-64   1.000000e-64            True   1.000000e-64  0.000000e+00         False\n",
      "84    1.000000e-65   1.000000e-65            True   1.000000e-65  0.000000e+00         False\n",
      "85    1.000000e-66   1.000000e-66            True   1.000000e-66  0.000000e+00         False\n",
      "86    1.000000e-67   1.000000e-67            True   1.000000e-67  0.000000e+00         False\n",
      "87    1.000000e-68   1.000000e-68            True   1.000000e-68  0.000000e+00         False\n",
      "88    1.000000e-69   1.000000e-69            True   1.000000e-69  0.000000e+00         False\n",
      "89    1.000000e-70   1.000000e-70            True   1.000000e-70  0.000000e+00         False\n",
      "90    1.000000e-71   1.000000e-71            True   1.000000e-71  0.000000e+00         False\n",
      "91    1.000000e-72   1.000000e-72            True   1.000000e-72  0.000000e+00         False\n",
      "92    1.000000e-73   1.000000e-73            True   1.000000e-73  0.000000e+00         False\n",
      "93    1.000000e-74   1.000000e-74            True   1.000000e-74  0.000000e+00         False\n",
      "94    1.000000e-75   1.000000e-75            True   1.000000e-75  0.000000e+00         False\n",
      "95    1.000000e-76   1.000000e-76            True   1.000000e-76  0.000000e+00         False\n",
      "96    1.000000e-77   1.000000e-77            True   1.000000e-77  0.000000e+00         False\n",
      "97    1.000000e-78   1.000000e-78            True   1.000000e-78  0.000000e+00         False\n",
      "98    1.000000e-79   1.000000e-79            True   1.000000e-79  0.000000e+00         False\n",
      "99    1.000000e-80   1.000000e-80            True   1.000000e-80  0.000000e+00         False\n",
      "100   1.000000e-81   1.000000e-81            True   1.000000e-81  0.000000e+00         False\n",
      "101   1.000000e-82   1.000000e-82            True   1.000000e-82  0.000000e+00         False\n",
      "102   1.000000e-83   1.000000e-83            True   1.000000e-83  0.000000e+00         False\n",
      "103   1.000000e-84   1.000000e-84            True   1.000000e-84  0.000000e+00         False\n",
      "104   1.000000e-85   1.000000e-85            True   1.000000e-85  0.000000e+00         False\n",
      "105   1.000000e-86   1.000000e-86            True   1.000000e-86  0.000000e+00         False\n",
      "106   1.000000e-87   1.000000e-87            True   1.000000e-87  0.000000e+00         False\n",
      "107   1.000000e-88   1.000000e-88            True   1.000000e-88  0.000000e+00         False\n",
      "108   1.000000e-89   1.000000e-89            True   1.000000e-89  0.000000e+00         False\n",
      "109   1.000000e-90   1.000000e-90            True   1.000000e-90  0.000000e+00         False\n",
      "110   1.000000e-91   1.000000e-91            True   1.000000e-91  0.000000e+00         False\n",
      "111   1.000000e-92   1.000000e-92            True   1.000000e-92  0.000000e+00         False\n",
      "112   1.000000e-93   1.000000e-93            True   1.000000e-93  0.000000e+00         False\n",
      "113   1.000000e-94   1.000000e-94            True   1.000000e-94  0.000000e+00         False\n",
      "114   1.000000e-95   1.000000e-95            True   1.000000e-95  0.000000e+00         False\n",
      "115   1.000000e-96   1.000000e-96            True   1.000000e-96  0.000000e+00         False\n",
      "116   1.000000e-97   1.000000e-97            True   1.000000e-97  0.000000e+00         False\n",
      "117   1.000000e-98   1.000000e-98            True   1.000000e-98  0.000000e+00         False\n",
      "118   1.000000e-99   1.000000e-99            True   1.000000e-99  0.000000e+00         False\n",
      "119  1.000000e-100  1.000000e-100            True  1.000000e-100  0.000000e+00         False\n"
     ]
    }
   ],
   "source": [
    "log_compare_df = pd.DataFrame({'original': x,\n",
    "                               #'log(x)': log_x,\n",
    "                               'log1p(x)_1':log1p_x,\n",
    "                               'Original-log1p':original_log1p_compare_li,\n",
    "                               'log1p(x)_2':log1p_x,\n",
    "                               'log(x+1)':log_x_plus1,\n",
    "                               'log1p-logxp1': log1p_logxp1_compare_li})\n",
    "print(log_compare_df.to_string())"
   ]
  },
  {
   "cell_type": "code",
   "execution_count": 82,
   "metadata": {
    "scrolled": true
   },
   "outputs": [
    {
     "data": {
      "image/png": "[encoded data removed]",
      "text/plain": [
       "<Figure size 432x288 with 1 Axes>"
      ]
     },
     "metadata": {
      "needs_background": "light"
     },
     "output_type": "display_data"
    }
   ],
   "source": [
    "#plt.figure(figsize=(8,8))\n",
    "plt.plot(x, x, label=\"x\",)\n",
    "plt.plot(x, log_x, label=\"log(x)\")\n",
    "plt.plot(x, log1p_x, label=\"log1p(x)\")\n",
    "plt.plot(x, log_x_plus1, label=\"log(x+1)\")\n",
    "plt.legend()\n",
    "plt.show()"
   ]
  },
  {
   "cell_type": "code",
   "execution_count": 87,
   "metadata": {},
   "outputs": [
    {
     "name": "stdout",
     "output_type": "stream",
     "text": [
      "9.999994999180668e-07\n",
      "9.999995000003334e-07\n"
     ]
    }
   ],
   "source": [
    "print(np.log(1+0.000001))\n",
    "print(np.log1p(0.000001))"
   ]
  },
  {
   "cell_type": "markdown",
   "metadata": {},
   "source": [
    "[結論]\n",
    "\n",
    "1. 當 x <= 1e-16: log1p(x) == x\n",
    "2. 當 x >= 1    : log1p(x) == log(x+1)"
   ]
  },
  {
   "cell_type": "code",
   "execution_count": null,
   "metadata": {},
   "outputs": [],
   "source": []
  }
 ],
 "metadata": {
  "kernelspec": {
   "display_name": "Python 3",
   "language": "python",
   "name": "python3"
  },
  "language_info": {
   "codemirror_mode": {
    "name": "ipython",
    "version": 3
   },
   "file_extension": ".py",
   "mimetype": "text/x-python",
   "name": "python",
   "nbconvert_exporter": "python",
   "pygments_lexer": "ipython3",
   "version": "3.7.7"
  }
 },
 "nbformat": 4,
 "nbformat_minor": 4
}
