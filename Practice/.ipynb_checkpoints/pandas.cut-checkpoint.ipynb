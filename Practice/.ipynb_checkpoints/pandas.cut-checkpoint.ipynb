{
 "cells": [
  {
   "cell_type": "markdown",
   "metadata": {},
   "source": [
    "https://pandas.pydata.org/pandas-docs/stable/reference/api/pandas.cut.html"
   ]
  },
  {
   "cell_type": "code",
   "execution_count": 10,
   "metadata": {},
   "outputs": [],
   "source": [
    "import numpy as np\n",
    "import pandas as pd\n",
    "from pprint import pprint"
   ]
  },
  {
   "cell_type": "code",
   "execution_count": 11,
   "metadata": {},
   "outputs": [
    {
     "name": "stdout",
     "output_type": "stream",
     "text": [
      "array([ 0. ,  0.5,  1. ,  1.5,  2. ,  2.5,  3. ,  3.5,  4. ,  4.5,  5. ,\n",
      "        5.5,  6. ,  6.5,  7. ,  7.5,  8. ,  8.5,  9. ,  9.5, 10. , 10.5,\n",
      "       11. , 11.5, 12. , 12.5, 13. , 13.5, 14. , 14.5, 15. , 15.5, 16. ,\n",
      "       16.5, 17. , 17.5, 18. , 18.5, 19. , 19.5, 20. ])\n"
     ]
    }
   ],
   "source": [
    "a_mx = np.linspace(0,20,41)\n",
    "pprint(a_mx)"
   ]
  },
  {
   "cell_type": "code",
   "execution_count": 12,
   "metadata": {},
   "outputs": [
    {
     "name": "stdout",
     "output_type": "stream",
     "text": [
      "[(-0.02, 10.0], (-0.02, 10.0], (-0.02, 10.0], (-0.02, 10.0], (-0.02, 10.0], ..., (10.0, 20.0], (10.0, 20.0], (10.0, 20.0], (10.0, 20.0], (10.0, 20.0]]\n",
      "Length: 41\n",
      "Categories (2, interval[float64]): [(-0.02, 10.0] < (10.0, 20.0]]\n"
     ]
    }
   ],
   "source": [
    "pprint(pd.cut(a_mx, 2))"
   ]
  },
  {
   "cell_type": "code",
   "execution_count": 13,
   "metadata": {},
   "outputs": [
    {
     "name": "stdout",
     "output_type": "stream",
     "text": [
      "[NaN, (0.0, 1.0], (0.0, 1.0], (1.0, 2.0], (1.0, 2.0], ..., NaN, NaN, NaN, NaN, NaN]\n",
      "Length: 41\n",
      "Categories (4, interval[int64]): [(0, 1] < (1, 2] < (2, 4] < (4, 7]]\n"
     ]
    }
   ],
   "source": [
    "rule_li = [0,1,2,4,7]\n",
    "\n",
    "pprint(pd.cut(a_mx, bins=rule_li))"
   ]
  },
  {
   "cell_type": "code",
   "execution_count": 14,
   "metadata": {},
   "outputs": [
    {
     "name": "stdout",
     "output_type": "stream",
     "text": [
      "[(-0.001, 1.0], (-0.001, 1.0], (-0.001, 1.0], (1.0, 2.0], (1.0, 2.0], ..., NaN, NaN, NaN, NaN, NaN]\n",
      "Length: 41\n",
      "Categories (4, interval[float64]): [(-0.001, 1.0] < (1.0, 2.0] < (2.0, 4.0] < (4.0, 7.0]]\n"
     ]
    }
   ],
   "source": [
    "rule_li = [0,1,2,4,7]\n",
    "\n",
    "pprint(pd.cut(a_mx, bins=rule_li, include_lowest=True))"
   ]
  },
  {
   "cell_type": "code",
   "execution_count": 15,
   "metadata": {},
   "outputs": [
    {
     "name": "stdout",
     "output_type": "stream",
     "text": [
      "[ 0.  1.  2.  3.  4.  5.  6.  7.  8.  9. 10. 11. 12. 13. 14. 15. 16. 17.\n",
      " 18. 19. 20.]\n",
      "[(-0.001, 0.5], (-0.001, 0.5], (0.5, 2.5], (0.5, 2.5], (0.5, 2.5], ..., NaN, NaN, NaN, NaN, NaN]\n",
      "Length: 41\n",
      "Categories (4, interval[float64]): [(-0.001, 0.5] < (0.5, 2.5] < (2.5, 5.5] < (5.5, 7.0]]\n"
     ]
    }
   ],
   "source": [
    "b_mx = np.linspace(0,20,21)\n",
    "print(b_mx)\n",
    "\n",
    "rule_li = [0, 0.5, 2.5, 5.5, 7]\n",
    "print(pd.cut(a_mx, bins=rule_li, include_lowest=True))"
   ]
  },
  {
   "cell_type": "code",
   "execution_count": 18,
   "metadata": {},
   "outputs": [
    {
     "name": "stdout",
     "output_type": "stream",
     "text": [
      "[ 0.  1.  2.  3.  4.  5.  6.  7.  8.  9. 10. 11. 12. 13. 14. 15. 16. 17.\n",
      " 18. 19. 20.]\n",
      "[[0.0, 0.5), [0.5, 2.5), [0.5, 2.5), [0.5, 2.5), [0.5, 2.5), ..., NaN, NaN, NaN, NaN, NaN]\n",
      "Length: 41\n",
      "Categories (4, interval[float64]): [[0.0, 0.5) < [0.5, 2.5) < [2.5, 5.5) < [5.5, 7.0)]\n"
     ]
    }
   ],
   "source": [
    "b_mx = np.linspace(0,20,21)\n",
    "print(b_mx)\n",
    "\n",
    "rule_li = [0, 0.5, 2.5, 5.5, 7]\n",
    "print(pd.cut(a_mx, bins=rule_li, include_lowest=True, right=False))"
   ]
  },
  {
   "cell_type": "code",
   "execution_count": 23,
   "metadata": {},
   "outputs": [
    {
     "name": "stdout",
     "output_type": "stream",
     "text": [
      "[ 0.  1.  2.  3.  4.  5.  6.  7.  8.  9. 10. 11. 12. 13. 14. 15. 16. 17.\n",
      " 18. 19. 20.]\n",
      "[[0, 1), [0, 1), [1, 3), [1, 3), [1, 3), ..., [6, 100), [6, 100), [6, 100), [6, 100), [6, 100)]\n",
      "Length: 41\n",
      "Categories (4, interval[int64]): [[0, 1) < [1, 3) < [3, 6) < [6, 100)]\n"
     ]
    }
   ],
   "source": [
    "b_mx = np.linspace(0,20,21)\n",
    "print(b_mx)\n",
    "\n",
    "rule_li = [0, 1, 3, 6, 100]\n",
    "print(pd.cut(a_mx, bins=rule_li, include_lowest=True, right=False))"
   ]
  },
  {
   "cell_type": "code",
   "execution_count": 26,
   "metadata": {},
   "outputs": [
    {
     "name": "stdout",
     "output_type": "stream",
     "text": [
      "[ 0.  1.  2.  3.  4.  5.  6.  7.  8.  9. 10. 11. 12. 13. 14. 15. 16. 17.\n",
      " 18. 19. 20.]\n",
      "[(-0.001, 1.0], (-0.001, 1.0], (-0.001, 1.0], (1.0, 3.0], (1.0, 3.0], ..., (6.0, 100.0], (6.0, 100.0], (6.0, 100.0], (6.0, 100.0], (6.0, 100.0]]\n",
      "Length: 41\n",
      "Categories (4, interval[float64]): [(-0.001, 1.0] < (1.0, 3.0] < (3.0, 6.0] < (6.0, 100.0]]\n"
     ]
    }
   ],
   "source": [
    "b_mx = np.linspace(0,20,21)\n",
    "print(b_mx)\n",
    "\n",
    "rule_li = [0, 1, 3, 6, 100]\n",
    "print(pd.cut(a_mx, bins=rule_li, include_lowest=True))"
   ]
  },
  {
   "cell_type": "code",
   "execution_count": null,
   "metadata": {},
   "outputs": [],
   "source": []
  }
 ],
 "metadata": {
  "kernelspec": {
   "display_name": "Python 3",
   "language": "python",
   "name": "python3"
  },
  "language_info": {
   "codemirror_mode": {
    "name": "ipython",
    "version": 3
   },
   "file_extension": ".py",
   "mimetype": "text/x-python",
   "name": "python",
   "nbconvert_exporter": "python",
   "pygments_lexer": "ipython3",
   "version": "3.7.7"
  }
 },
 "nbformat": 4,
 "nbformat_minor": 4
}
