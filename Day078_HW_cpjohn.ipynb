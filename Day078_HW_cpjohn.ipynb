{
 "cells": [
  {
   "cell_type": "markdown",
   "metadata": {},
   "source": [
    "## Work\n",
    "1. 請嘗試將 preproc_x 替換成以每筆資料的 min/max 進行標準化至 -1 ~ 1 間，再進行訓練\n",
    "2. 請嘗試將 mlp 疊更深 (e.g 5~10 層)，進行訓練後觀察 learning curve 的走勢\n",
    "3. (optional) 請改用 GPU 進行訓練 (如果你有 GPU 的話)，比較使用 CPU 與 GPU 的訓練速度"
   ]
  },
  {
   "cell_type": "code",
   "execution_count": 1,
   "metadata": {},
   "outputs": [],
   "source": [
    "## \n",
    "\"\"\"\n",
    "Your code here (optional)\n",
    "確認硬體資源\n",
    "\"\"\"\n",
    "!nvidia-smi"
   ]
  },
  {
   "cell_type": "code",
   "execution_count": 2,
   "metadata": {},
   "outputs": [
    {
     "name": "stderr",
     "output_type": "stream",
     "text": [
      "Using TensorFlow backend.\n"
     ]
    }
   ],
   "source": [
    "import os\n",
    "import keras\n",
    "\n",
    "# 請嘗試設定 GPU：os.environ\n",
    "#os.environ[\"CUDA_VISIBLE_DEVICES\"] = \"\""
   ]
  },
  {
   "cell_type": "code",
   "execution_count": 3,
   "metadata": {},
   "outputs": [],
   "source": [
    "train, test = keras.datasets.cifar10.load_data()"
   ]
  },
  {
   "cell_type": "code",
   "execution_count": 4,
   "metadata": {},
   "outputs": [],
   "source": [
    "## 資料前處理\n",
    "\"\"\"\n",
    "Your code here\n",
    "\"\"\"\n",
    "import numpy as np\n",
    "\n",
    "def preproc_x(x, flatten=True):\n",
    "    x = 2 * (x - np.min(x)) / (np.max(x) - np.min(x)) -1\n",
    "    if flatten:\n",
    "        x = x.reshape((len(x), -1))\n",
    "    return x\n",
    "\n",
    "def preproc_y(y, num_classes=10):\n",
    "    if y.shape[-1] == 1:\n",
    "        y = keras.utils.to_categorical(y, num_classes)\n",
    "    return y  "
   ]
  },
  {
   "cell_type": "code",
   "execution_count": 5,
   "metadata": {},
   "outputs": [],
   "source": [
    "x_train, y_train = train\n",
    "x_test, y_test = test\n",
    "\n",
    "# Preproc the inputs\n",
    "x_train = preproc_x(x_train)\n",
    "x_test = preproc_x(x_test)\n",
    "\n",
    "# Preprc the outputs\n",
    "y_train = preproc_y(y_train)\n",
    "y_test = preproc_y(y_test)"
   ]
  },
  {
   "cell_type": "code",
   "execution_count": 6,
   "metadata": {},
   "outputs": [],
   "source": [
    "\"\"\"Code Here\n",
    "建立你的神經網路\n",
    "\"\"\"\n",
    "def build_mlp(input_shape, output_units=10, num_neurons=[512, 256, 128, 128, 64]):\n",
    "    input_layer = keras.layers.Input(input_shape)\n",
    "    for i, n_units in enumerate(num_neurons):\n",
    "        if i == 0:\n",
    "            x = keras.layers.Dense(units=n_units, activation=\"relu\", name=\"hidden_layer\"+str(i+1))(input_layer)\n",
    "        else:\n",
    "            x = keras.layers.Dense(units=n_units, activation=\"relu\", name=\"hidden_layer\"+str(i+1))(x)\n",
    "    out = keras.layers.Dense(units=output_units, activation=\"softmax\", name=\"output\")(x)\n",
    "    model = keras.models.Model(inputs=[input_layer], outputs=[out])\n",
    "    return model"
   ]
  },
  {
   "cell_type": "code",
   "execution_count": 7,
   "metadata": {},
   "outputs": [
    {
     "name": "stdout",
     "output_type": "stream",
     "text": [
      "Model: \"model_1\"\n",
      "_________________________________________________________________\n",
      "Layer (type)                 Output Shape              Param #   \n",
      "=================================================================\n",
      "input_1 (InputLayer)         (None, 3072)              0         \n",
      "_________________________________________________________________\n",
      "hidden_layer1 (Dense)        (None, 512)               1573376   \n",
      "_________________________________________________________________\n",
      "hidden_layer2 (Dense)        (None, 256)               131328    \n",
      "_________________________________________________________________\n",
      "hidden_layer3 (Dense)        (None, 128)               32896     \n",
      "_________________________________________________________________\n",
      "hidden_layer4 (Dense)        (None, 128)               16512     \n",
      "_________________________________________________________________\n",
      "hidden_layer5 (Dense)        (None, 64)                8256      \n",
      "_________________________________________________________________\n",
      "output (Dense)               (None, 10)                650       \n",
      "=================================================================\n",
      "Total params: 1,763,018\n",
      "Trainable params: 1,763,018\n",
      "Non-trainable params: 0\n",
      "_________________________________________________________________\n"
     ]
    }
   ],
   "source": [
    "model = build_mlp(input_shape=x_train.shape[1:])\n",
    "model.summary()"
   ]
  },
  {
   "cell_type": "code",
   "execution_count": 8,
   "metadata": {},
   "outputs": [],
   "source": [
    "## 超參數設定\n",
    "LEARNING_RATE = 0.001\n",
    "EPOCHS = 30\n",
    "BATCH_SIZE = 256"
   ]
  },
  {
   "cell_type": "code",
   "execution_count": 9,
   "metadata": {},
   "outputs": [],
   "source": [
    "optimizer = keras.optimizers.Adam(lr=LEARNING_RATE)\n",
    "model.compile(loss=\"categorical_crossentropy\", metrics=[\"accuracy\"], optimizer=optimizer)"
   ]
  },
  {
   "cell_type": "code",
   "execution_count": 10,
   "metadata": {},
   "outputs": [
    {
     "name": "stdout",
     "output_type": "stream",
     "text": [
      "Train on 50000 samples, validate on 10000 samples\n",
      "Epoch 1/30\n",
      "50000/50000 [==============================] - 2s 49us/step - loss: 2.2351 - accuracy: 0.1606 - val_loss: 2.1719 - val_accuracy: 0.2019\n",
      "Epoch 2/30\n",
      "50000/50000 [==============================] - 2s 41us/step - loss: 2.1192 - accuracy: 0.2214 - val_loss: 2.0939 - val_accuracy: 0.2303\n",
      "Epoch 3/30\n",
      "50000/50000 [==============================] - 2s 41us/step - loss: 2.0538 - accuracy: 0.2486 - val_loss: 2.0511 - val_accuracy: 0.2455\n",
      "Epoch 4/30\n",
      "50000/50000 [==============================] - 2s 45us/step - loss: 2.0015 - accuracy: 0.2736 - val_loss: 2.0227 - val_accuracy: 0.2686\n",
      "Epoch 5/30\n",
      "50000/50000 [==============================] - 2s 42us/step - loss: 1.9634 - accuracy: 0.2879 - val_loss: 2.0024 - val_accuracy: 0.2681\n",
      "Epoch 6/30\n",
      "50000/50000 [==============================] - 2s 42us/step - loss: 1.9271 - accuracy: 0.3047 - val_loss: 1.9842 - val_accuracy: 0.2811\n",
      "Epoch 7/30\n",
      "50000/50000 [==============================] - 2s 42us/step - loss: 1.9083 - accuracy: 0.3122 - val_loss: 1.9740 - val_accuracy: 0.2833\n",
      "Epoch 8/30\n",
      "50000/50000 [==============================] - 2s 42us/step - loss: 1.8710 - accuracy: 0.3269 - val_loss: 1.9968 - val_accuracy: 0.2760\n",
      "Epoch 9/30\n",
      "50000/50000 [==============================] - 2s 42us/step - loss: 1.8476 - accuracy: 0.3355 - val_loss: 1.9575 - val_accuracy: 0.2946\n",
      "Epoch 10/30\n",
      "50000/50000 [==============================] - 2s 42us/step - loss: 1.8173 - accuracy: 0.3488 - val_loss: 1.9648 - val_accuracy: 0.2961\n",
      "Epoch 11/30\n",
      "50000/50000 [==============================] - 2s 42us/step - loss: 1.7844 - accuracy: 0.3632 - val_loss: 1.9609 - val_accuracy: 0.3025\n",
      "Epoch 12/30\n",
      "50000/50000 [==============================] - 2s 42us/step - loss: 1.7564 - accuracy: 0.3728 - val_loss: 2.0004 - val_accuracy: 0.2854\n",
      "Epoch 13/30\n",
      "50000/50000 [==============================] - 2s 42us/step - loss: 1.7201 - accuracy: 0.3860 - val_loss: 1.9749 - val_accuracy: 0.3023\n",
      "Epoch 14/30\n",
      "50000/50000 [==============================] - 2s 42us/step - loss: 1.6892 - accuracy: 0.3968 - val_loss: 2.0373 - val_accuracy: 0.2979\n",
      "Epoch 15/30\n",
      "50000/50000 [==============================] - 2s 42us/step - loss: 1.6652 - accuracy: 0.4071 - val_loss: 2.0050 - val_accuracy: 0.2972\n",
      "Epoch 16/30\n",
      "50000/50000 [==============================] - 2s 42us/step - loss: 1.6302 - accuracy: 0.4195 - val_loss: 1.9981 - val_accuracy: 0.3141\n",
      "Epoch 17/30\n",
      "50000/50000 [==============================] - 2s 42us/step - loss: 1.6025 - accuracy: 0.4293 - val_loss: 1.9970 - val_accuracy: 0.3135\n",
      "Epoch 18/30\n",
      "50000/50000 [==============================] - 2s 42us/step - loss: 1.5580 - accuracy: 0.4454 - val_loss: 2.0726 - val_accuracy: 0.3009\n",
      "Epoch 19/30\n",
      "50000/50000 [==============================] - 2s 42us/step - loss: 1.5369 - accuracy: 0.4554 - val_loss: 2.0746 - val_accuracy: 0.3060\n",
      "Epoch 20/30\n",
      "50000/50000 [==============================] - 2s 43us/step - loss: 1.5065 - accuracy: 0.4662 - val_loss: 2.0729 - val_accuracy: 0.3019\n",
      "Epoch 21/30\n",
      "50000/50000 [==============================] - 2s 43us/step - loss: 1.4612 - accuracy: 0.4793 - val_loss: 2.0528 - val_accuracy: 0.3075\n",
      "Epoch 22/30\n",
      "50000/50000 [==============================] - 2s 41us/step - loss: 1.4357 - accuracy: 0.4895 - val_loss: 2.1185 - val_accuracy: 0.3101\n",
      "Epoch 23/30\n",
      "50000/50000 [==============================] - 2s 41us/step - loss: 1.4028 - accuracy: 0.5016 - val_loss: 2.1153 - val_accuracy: 0.3070\n",
      "Epoch 24/30\n",
      "50000/50000 [==============================] - 2s 41us/step - loss: 1.3451 - accuracy: 0.5212 - val_loss: 2.2457 - val_accuracy: 0.2976\n",
      "Epoch 25/30\n",
      "50000/50000 [==============================] - 2s 41us/step - loss: 1.3209 - accuracy: 0.5285 - val_loss: 2.3095 - val_accuracy: 0.3020\n",
      "Epoch 26/30\n",
      "50000/50000 [==============================] - 2s 40us/step - loss: 1.2929 - accuracy: 0.5392 - val_loss: 2.2402 - val_accuracy: 0.2995\n",
      "Epoch 27/30\n",
      "50000/50000 [==============================] - 2s 40us/step - loss: 1.2457 - accuracy: 0.5559 - val_loss: 2.3115 - val_accuracy: 0.2984\n",
      "Epoch 28/30\n",
      "50000/50000 [==============================] - 2s 40us/step - loss: 1.2145 - accuracy: 0.5659 - val_loss: 2.3619 - val_accuracy: 0.2977\n",
      "Epoch 29/30\n",
      "50000/50000 [==============================] - 2s 41us/step - loss: 1.2012 - accuracy: 0.5709 - val_loss: 2.4911 - val_accuracy: 0.2994\n",
      "Epoch 30/30\n",
      "50000/50000 [==============================] - 2s 40us/step - loss: 1.1547 - accuracy: 0.5885 - val_loss: 2.5157 - val_accuracy: 0.2957\n"
     ]
    },
    {
     "data": {
      "text/plain": [
       "<keras.callbacks.callbacks.History at 0x1ffe71c9fc8>"
      ]
     },
     "execution_count": 10,
     "metadata": {},
     "output_type": "execute_result"
    }
   ],
   "source": [
    "model.fit(x_train, y_train, \n",
    "          epochs=EPOCHS, \n",
    "          batch_size=BATCH_SIZE, \n",
    "          validation_data=(x_test, y_test), \n",
    "          shuffle=True)"
   ]
  },
  {
   "cell_type": "code",
   "execution_count": 11,
   "metadata": {},
   "outputs": [
    {
     "data": {
      "image/png": "[encoded data removed]",
      "text/plain": [
       "<Figure size 432x288 with 1 Axes>"
      ]
     },
     "metadata": {
      "needs_background": "light"
     },
     "output_type": "display_data"
    },
    {
     "data": {
      "image/png": "[encoded data removed]",
      "text/plain": [
       "<Figure size 432x288 with 1 Axes>"
      ]
     },
     "metadata": {
      "needs_background": "light"
     },
     "output_type": "display_data"
    }
   ],
   "source": [
    "import matplotlib.pyplot as plt\n",
    "\n",
    "\n",
    "train_loss = model.history.history[\"loss\"]\n",
    "valid_loss = model.history.history[\"val_loss\"]\n",
    "\n",
    "train_acc = model.history.history[\"accuracy\"]\n",
    "valid_acc = model.history.history[\"val_accuracy\"]\n",
    "\n",
    "plt.plot(range(len(train_loss)), train_loss, label=\"train loss\")\n",
    "plt.plot(range(len(valid_loss)), valid_loss, label=\"valid loss\")\n",
    "plt.legend()\n",
    "plt.title(\"Loss\")\n",
    "plt.show()\n",
    "\n",
    "plt.plot(range(len(train_acc)), train_acc, label=\"train accuracy\")\n",
    "plt.plot(range(len(valid_acc)), valid_acc, label=\"valid accuracy\")\n",
    "plt.legend()\n",
    "plt.title(\"Accuracy\")\n",
    "plt.show()"
   ]
  },
  {
   "cell_type": "code",
   "execution_count": null,
   "metadata": {},
   "outputs": [],
   "source": []
  }
 ],
 "metadata": {
  "kernelspec": {
   "display_name": "Python 3",
   "language": "python",
   "name": "python3"
  },
  "language_info": {
   "codemirror_mode": {
    "name": "ipython",
    "version": 3
   },
   "file_extension": ".py",
   "mimetype": "text/x-python",
   "name": "python",
   "nbconvert_exporter": "python",
   "pygments_lexer": "ipython3",
   "version": "3.7.7"
  }
 },
 "nbformat": 4,
 "nbformat_minor": 2
}
